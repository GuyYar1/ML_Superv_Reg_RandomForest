{
 "cells": [
  {
   "cell_type": "markdown",
   "metadata": {
    "id": "CX43_eQd8RmD"
   },
   "source": [
    "\n",
    "#***ML Project 1***#\n",
    "##**Mighty Excavators**##\n",
    "###***Research Scartch code***###\n",
    "\n",
    "Lior Ver 8.4.3 || 13 JUL-2024"
   ]
  },
  {
   "cell_type": "markdown",
   "metadata": {
    "id": "R89RSEJaDY9P"
   },
   "source": [
    "#**Installations & Imports**"
   ]
  },
  {
   "cell_type": "code",
   "execution_count": 257,
   "metadata": {
    "executionInfo": {
     "elapsed": 297,
     "status": "ok",
     "timestamp": 1721373695733,
     "user": {
      "displayName": "Lior Israeli",
      "userId": "03269243767798062339"
     },
     "user_tz": -180
    },
    "id": "R3vbFjvsDazr"
   },
   "outputs": [],
   "source": [
    "import gdown\n",
    "import numpy as np\n",
    "import pandas as pd\n",
    "import re\n",
    "\n",
    "import seaborn as sns  # seaborn is used for pairplot\n",
    "import matplotlib.pyplot as plt\n",
    "\n",
    "from datetime import datetime, timedelta\n",
    "\n",
    "import os\n",
    "from pathlib import Path\n",
    "import zipfile\n",
    "\n",
    "from sklearn.tree import DecisionTreeRegressor\n",
    "from sklearn.ensemble import RandomForestRegressor\n",
    "\n",
    "from sklearn.metrics import mean_squared_error, mean_squared_log_error, r2_score\n",
    "from sklearn.preprocessing import LabelEncoder\n",
    "from sklearn.preprocessing import OneHotEncoder, StandardScaler\n",
    "from sklearn.compose import ColumnTransformer\n",
    "from sklearn.pipeline import Pipeline\n",
    "from sklearn.inspection import permutation_importance\n",
    "from sklearn.model_selection import train_test_split, GridSearchCV\n",
    "from sklearn.datasets import make_regression\n",
    "from sklearn.impute import SimpleImputer\n",
    "\n",
    "\n",
    "le = LabelEncoder()\n"
   ]
  },
  {
   "cell_type": "markdown",
   "metadata": {
    "id": "HXZchS1C42Gf"
   },
   "source": [
    "#**Utilities & Functions**#"
   ]
  },
  {
   "cell_type": "markdown",
   "metadata": {
    "id": "a-1RYvOAraVt"
   },
   "source": [
    "##**File Saving Functions**##"
   ]
  },
  {
   "cell_type": "code",
   "execution_count": 258,
   "metadata": {
    "executionInfo": {
     "elapsed": 322,
     "status": "ok",
     "timestamp": 1721372216113,
     "user": {
      "displayName": "Lior Israeli",
      "userId": "03269243767798062339"
     },
     "user_tz": -180
    },
    "id": "XkUKuRxNFKsu"
   },
   "outputs": [],
   "source": [
    "# Function to stitch a simple list to a DataFrame\n",
    "def stich_df_to_list(df, list, list_name='y'):\n",
    "\n",
    "    # Print lengths of list and df\n",
    "    print(f\"Length of {list_name} list is: {len(list)}\")\n",
    "    print(f\"Length of df is: {len(df)}\")\n",
    "\n",
    "    # Check if the number of rows in df and the list are the same\n",
    "    if len(list) != len(df):\n",
    "        raise ValueError(\"The number of rows in list and df must be the same\")\n",
    "\n",
    "    # Create a Series with the predicted Sale_Price\n",
    "    list_series = pd.Series(list, index=df.index, name=list_name)\n",
    "\n",
    "    # Combine the original DataFrame with the new Series\n",
    "    out_df = pd.concat([list_series, df], axis=1)\n",
    "\n",
    "    return out_df"
   ]
  },
  {
   "cell_type": "code",
   "execution_count": 259,
   "metadata": {
    "executionInfo": {
     "elapsed": 4,
     "status": "ok",
     "timestamp": 1721372216113,
     "user": {
      "displayName": "Lior Israeli",
      "userId": "03269243767798062339"
     },
     "user_tz": -180
    },
    "id": "MMns1tOrrX_g"
   },
   "outputs": [],
   "source": [
    "def save_df_as_file (df, file_name='backup'):\n",
    "  # Saving df with the given name\n",
    "  # to: CSV\n",
    "  #     ZIP\n",
    "  #     xslx - currently on hold\n",
    "  # File name will be as inputed + YYYY-MM_DD HH:MM\n",
    "\n",
    "  ### Preparations:\n",
    "\n",
    "  # Get current date and time\n",
    "  now =  datetime.now()\n",
    "  # now += timedelta(hours=3)\n",
    "  timestamp1 = now.strftime(\"%Y-%m-%d_%H%M\")\n",
    "\n",
    "  # Create a file name\n",
    "  csv_file_path   = file_name + '-' + timestamp1 + '.csv'\n",
    "  zip_file_path   = file_name + '-' + timestamp1 + '.zip'\n",
    "\n",
    "  # Handle the input df\n",
    "  # Reset the index and rename the new column in our case to 'Sales_ID'\n",
    "  df = df.reset_index().rename(columns={'index': 'Sales_ID'})\n",
    "\n",
    "  ### Deleting an old version of the file, although, although a bit rare.\n",
    "\n",
    "  # Check if the file exists before attempting to delete it\n",
    "  if os.path.exists(csv_file_path):\n",
    "    os.remove(csv_file_path)\n",
    "    print(f\"File {csv_file_path} deleted successfully.\")\n",
    "\n",
    "  if os.path.exists(zip_file_path):\n",
    "    os.remove(zip_file_path)\n",
    "    print(f\"File {zip_file_path} deleted successfully.\")\n",
    "\n",
    "   # if os.path.exists(excel_file_path):\n",
    "   #   os.remove(excel_file_path)\n",
    "   #   print(f\"File {excel_file_path} deleted successfully.\")\n",
    "   # else:\n",
    "   #   print(f\"File {excel_file_path} does not exist.\")\n",
    "\n",
    "  # Save the input DataFrame to a CSV file\n",
    "  df.to_csv(csv_file_path, index=False)\n",
    "  print(f\"DataFrame saved to {csv_file_path}\")\n",
    "\n",
    "  # Compress the saved CSV file into a ZIP file , and save it\n",
    "  with zipfile.ZipFile(zip_file_path, 'w', zipfile.ZIP_DEFLATED) as zipf:\n",
    "    zipf.write(csv_file_path, os.path.basename(csv_file_path))\n",
    "\n",
    "  print(f\"DataFrame saved to {zip_file_path}\")\n"
   ]
  },
  {
   "cell_type": "markdown",
   "metadata": {
    "id": "FS5ZWjtFTf89"
   },
   "source": [
    "##**Plot Functions**##"
   ]
  },
  {
   "cell_type": "code",
   "execution_count": 260,
   "metadata": {
    "executionInfo": {
     "elapsed": 4,
     "status": "ok",
     "timestamp": 1721372216113,
     "user": {
      "displayName": "Lior Israeli",
      "userId": "03269243767798062339"
     },
     "user_tz": -180
    },
    "id": "qBp6FE3BFF7w"
   },
   "outputs": [],
   "source": [
    "# Function to create a bar plot for value occurrences in a column\n",
    "def plot_value_counts(df, column, ax):\n",
    "    value_counts = df[column].value_counts()\n",
    "    sns.barplot(x=value_counts.index, y=value_counts.values, ax=ax)\n",
    "    ax.set_title(f'Value Counts for {column}')\n",
    "    ax.set_xlabel('Value')\n",
    "    ax.set_ylabel('Count')\n",
    "    for label in ax.get_xticklabels():\n",
    "        label.set_rotation(90)"
   ]
  },
  {
   "cell_type": "code",
   "execution_count": 261,
   "metadata": {
    "executionInfo": {
     "elapsed": 4,
     "status": "ok",
     "timestamp": 1721372216113,
     "user": {
      "displayName": "Lior Israeli",
      "userId": "03269243767798062339"
     },
     "user_tz": -180
    },
    "id": "_8KJGA9JT23o"
   },
   "outputs": [],
   "source": [
    "# Columns List to Plot\n",
    "# columns_list = df4.columns.tolist()\n",
    "\n",
    "# Function to Create multi column plots for columns list\n",
    "def multi_col_stick_plot (df, columns_list=None):\n",
    "\n",
    "  # If columns_list is not provided, use all columns\n",
    "  if columns_list is None:\n",
    "     columns_list = df.columns\n",
    "\n",
    "  # Number of columns to plot\n",
    "  num_columns = len(columns_list)\n",
    "  num_rows = (num_columns // 5) + 1\n",
    "\n",
    "  # Create a figure and axes for the subplots\n",
    "  fig, axes = plt.subplots(nrows=num_rows, ncols=5, figsize=(20, 5 * num_rows))\n",
    "\n",
    "  # Flatten the axes array for easy iteration\n",
    "  axes = axes.flatten()\n",
    "\n",
    "  # Iterate through the columns and create a plot for each\n",
    "  for i, col in enumerate(columns_list):\n",
    "    if col in df.columns:\n",
    "       plot_value_counts(df, col, axes[i])\n",
    "    else:\n",
    "       print(f\"Column '{col}' does not exist in the DataFrame.\")\n",
    "       axes[i].axis('off')  # Turn off the unused subplot\n",
    "\n",
    "  # Hide any unused subplots\n",
    "  for j in range(i + 1, len(axes)):\n",
    "    axes[j].axis('off')\n",
    "\n",
    "  # Adjust layout and show the plots\n",
    "  plt.tight_layout()\n",
    "  plt.show()\n"
   ]
  },
  {
   "cell_type": "code",
   "execution_count": 262,
   "metadata": {
    "executionInfo": {
     "elapsed": 4,
     "status": "ok",
     "timestamp": 1721372216113,
     "user": {
      "displayName": "Lior Israeli",
      "userId": "03269243767798062339"
     },
     "user_tz": -180
    },
    "id": "_24uTEg4SZse"
   },
   "outputs": [],
   "source": [
    "def explore_columns (df, columns_list, mode, df_other):\n",
    "\n",
    "  value_counts = df[columns_list].value_counts(dropna=False).sort_values(ascending=False)\n",
    "\n",
    "  print(value_counts)\n",
    "  multi_col_stick_plot(df, columns_list)"
   ]
  },
  {
   "cell_type": "code",
   "execution_count": 263,
   "metadata": {
    "executionInfo": {
     "elapsed": 4,
     "status": "ok",
     "timestamp": 1721372216113,
     "user": {
      "displayName": "Lior Israeli",
      "userId": "03269243767798062339"
     },
     "user_tz": -180
    },
    "id": "lMxgIjipNC2t"
   },
   "outputs": [],
   "source": [
    "def plot_pair_histograms(df, col1, col2, mode, df_other):\n",
    "\n",
    "      print(f\"\\nPlot pair histograms for comparing values\")\n",
    "      print(f\"Operation mode: {mode}\")\n",
    "\n",
    "      # Plot histograms\n",
    "      plt.figure(figsize=(14, 6))\n",
    "\n",
    "      # Histogram 1 for col1\n",
    "      plt.subplot(1, 2, 1)\n",
    "      df['Machine_Hours_Current_Meter'].plot(kind='hist', bins=10, color='blue', edgecolor='black')\n",
    "      plt.title('Histogram of Machine_Hours_Current_Meter')\n",
    "      plt.xlabel('Machine_Hours_Current_Meter')\n",
    "      plt.ylabel('Frequency')\n",
    "\n",
    "      # Histogram 2 for col2\n",
    "      plt.subplot(1, 2, 2)\n",
    "      df['Machine_Hours_Current_Meter_Log'].plot(kind='hist', bins=10, color='green', edgecolor='black')\n",
    "      plt.title('Histogram of Machine_Hours_Current_Meter_Log')\n",
    "      plt.xlabel('Machine_Hours_Current_Meter_Log')\n",
    "      plt.ylabel('Frequency')\n",
    "\n",
    "      plt.tight_layout()\n",
    "      plt.show()"
   ]
  },
  {
   "cell_type": "code",
   "execution_count": 264,
   "metadata": {
    "executionInfo": {
     "elapsed": 3,
     "status": "ok",
     "timestamp": 1721372216113,
     "user": {
      "displayName": "Lior Israeli",
      "userId": "03269243767798062339"
     },
     "user_tz": -180
    },
    "id": "OGsVjOtWtg8E"
   },
   "outputs": [],
   "source": [
    "def corr_matrix_plot (df, columns_list=None):\n",
    "  \"\"\"\n",
    "    Calculate and plot the correlation matrix for specified columns.\n",
    "    If columns_list is None, use all columns in the DataFrame.\n",
    "\n",
    "    Parameters:\n",
    "    df (DataFrame): The input DataFrame.\n",
    "    columns_list (list, optional): List of columns to include in the correlation matrix. Defaults to None.\n",
    "  \"\"\"\n",
    "  # If columns_list is not provided, use all columns\n",
    "  if columns_list is None:\n",
    "    columns_list = df.columns\n",
    "\n",
    "  # Calculate the correlation matrix for the specified NUMERIC columns\n",
    "  columns_list = df.select_dtypes(include='number').columns\n",
    "\n",
    "  corr_matrix = df[columns_list].corr()\n",
    "\n",
    "\n",
    "  # Display the correlation matrix\n",
    "  # print(\"\\nCorrelation Matrix:\")\n",
    "  # print(corr_matrix)\n",
    "\n",
    "  # Create a heatmap of the correlation matrix\n",
    "  plt.figure(figsize=(14, 14))\n",
    "  sns.heatmap(corr_matrix, annot=True, cmap='coolwarm', fmt='.2f', linewidths=1)\n",
    "  plt.title('Feature Correlation Matrix')\n",
    "  plt.show()"
   ]
  },
  {
   "cell_type": "markdown",
   "metadata": {
    "id": "NGQaltLLEA6Y"
   },
   "source": [
    "#**Download Files**#"
   ]
  },
  {
   "cell_type": "code",
   "execution_count": 265,
   "metadata": {
    "colab": {
     "base_uri": "https://localhost:8080/"
    },
    "executionInfo": {
     "elapsed": 3,
     "status": "ok",
     "timestamp": 1721372216113,
     "user": {
      "displayName": "Lior Israeli",
      "userId": "03269243767798062339"
     },
     "user_tz": -180
    },
    "id": "G9GGe1apD_p6",
    "outputId": "48cffbf7-fb72-42c6-ed55-a9ae19f1a5bd"
   },
   "outputs": [
    {
     "name": "stdout",
     "output_type": "stream",
     "text": [
      "File 'train.csv' already exists. Skipping download.\n",
      "File 'valid.csv' already exists. Skipping download.\n"
     ]
    }
   ],
   "source": [
    "# Function to download ML projects file from URL's\n",
    "# 1. Get files URL\n",
    "# 2. Download files to loacl storage\n",
    "\n",
    "def download_from_gdrive(url, filename):\n",
    "\n",
    "    # Extract the file ID from the URL\n",
    "    file_id = url.split('/')[-2]\n",
    "    download_url = f\"https://drive.google.com/uc?id={file_id}\"\n",
    "\n",
    "    # Download the file\n",
    "    if Path(filename).exists():\n",
    "        print(f\"File '{filename}' already exists. Skipping download.\")\n",
    "    else:\n",
    "        gdown.download(download_url, filename, quiet=False)\n",
    "        print(f\"File downloaded as: {filename}\")\n",
    "\n",
    "#-----------------------------------------------------------------------------------------------#\n",
    "\n",
    "# File URLs to Download\n",
    "train_url = 'https://drive.google.com/file/d/1guqSpDv1Q7ZZjSbXMYGbrTvGns0VCyU5/view?usp=drive_link'\n",
    "valid_url = 'https://drive.google.com/file/d/1j7x8xhMimKbvW62D-XeDfuRyj9ia636q/view?usp=drive_link'\n",
    "\n",
    "# Downloading Files\n",
    "download_from_gdrive(train_url, 'train.csv')\n",
    "download_from_gdrive(valid_url, 'valid.csv')"
   ]
  },
  {
   "cell_type": "markdown",
   "metadata": {
    "id": "g4XhJTp-ETaC"
   },
   "source": [
    "#**Initialayzing Train-Test & validationation Dataframes**#"
   ]
  },
  {
   "cell_type": "code",
   "execution_count": 266,
   "metadata": {
    "executionInfo": {
     "elapsed": 3,
     "status": "ok",
     "timestamp": 1721372216113,
     "user": {
      "displayName": "Lior Israeli",
      "userId": "03269243767798062339"
     },
     "user_tz": -180
    },
    "id": "FAwcAcNFkrqG"
   },
   "outputs": [],
   "source": [
    "# Function that get a CSV file name\n",
    "# 1. Read it from local storage\n",
    "# 2. Return a Data Frame\n",
    "\n",
    "def init_df (csv_file):\n",
    "  print(f\"\\nReading CSV file: {csv_file}...\")\n",
    "\n",
    "  df = pd.read_csv(csv_file)\n",
    "  num_rows = len(df)\n",
    "  print(\"Number of rows in: {csv_file} : {num_rows}\")\n",
    "  return (df)"
   ]
  },
  {
   "cell_type": "markdown",
   "metadata": {
    "id": "1bMK_9MfR0XH"
   },
   "source": [
    "##**Columns Renaming**"
   ]
  },
  {
   "cell_type": "code",
   "execution_count": 267,
   "metadata": {
    "executionInfo": {
     "elapsed": 3,
     "status": "ok",
     "timestamp": 1721372216113,
     "user": {
      "displayName": "Lior Israeli",
      "userId": "03269243767798062339"
     },
     "user_tz": -180
    },
    "id": "36DwSC5YR5Nv"
   },
   "outputs": [],
   "source": [
    "def rename_columns(df, mode=None, df_other=None):\n",
    "    print (f\"\\nColumns Renaimg for consistent naming convenssion...\")\n",
    "\n",
    "    df.rename(columns={'SalesID'                 : 'Sales_ID',\n",
    "                       'SalePrice'               : 'Sale_Price',\n",
    "                       'MachineID'               : 'Machine_ID',\n",
    "                       'ModelID'                 : 'Model_ID',\n",
    "                       'datasource'              : 'Data_Source',\n",
    "                       'auctioneerID'            : 'Auctioneer_ID',\n",
    "                       'YearMade'                : 'Year_Made',\n",
    "                       'MachineHoursCurrentMeter': 'Machine_Hours_Current_Meter',\n",
    "                       'UsageBand'               : 'Usage_Band',\n",
    "                       'saledate'                : 'Sale_Date',\n",
    "                       'fiModelDesc'             : 'Fi_Model_Desc',\n",
    "                       'fiBaseModel'             : 'Fi_Base_Model',\n",
    "                       'fiSecondaryDesc'         : 'Fi_Secondary_Desc',\n",
    "                       'fiModelSeries'           : 'Fi_Model_Series',\n",
    "                       'fiModelDescriptor'       : 'Fi_Model_Descriptor',\n",
    "                       'ProductSize'             : 'Product_Size',\n",
    "                       'fiProductClassDesc'      : 'Fi_Product_Class_Desc',\n",
    "                       'state'                   : 'State',\n",
    "                       'ProductGroup'            : 'Product_Group',\n",
    "                       'ProductGroupDesc'        : 'Product_Group_Desc',\n",
    "                       'Drive_System'            : 'Drive_System',\n",
    "                       'Enclosure'               : 'Enclosure',\n",
    "                       'Grouser_Tracks'          : 'Grouser_Tracks',\n",
    "                       'Forks'                   : 'Forks',\n",
    "                       'Pad_Type'                : 'Pad_Type',\n",
    "                       'Ride_Control'            : 'Ride_Control',\n",
    "                       'Stick'                   : 'Stick',\n",
    "                       'Transmission'            : 'Transmission',\n",
    "                       'Turbocharged'            : 'Turbo_Charged',\n",
    "                       'Blade_Extension'         : 'Blade_Extension',\n",
    "                       'Blade_Width'             : 'Blade_Width',\n",
    "                       'Enclosure_Type'          : 'Enclosure_Type',\n",
    "                       'Engine_Horsepower'       : 'Engine_Horsepower',\n",
    "                       'Hydraulics'              : 'Hydraulics',\n",
    "                       'Pushblock'               : 'Push_Block',\n",
    "                       'Ripper'                  : 'Ripper',\n",
    "                       'Scarifier'               : 'Scarifier',\n",
    "                       'Tip_Control'             : 'Tip_Control',\n",
    "                       'Tire_Size'               : 'Tire_Size',\n",
    "                       'Coupler'                 : 'Coupler',\n",
    "                       'Coupler_System'          : 'Coupler_System',\n",
    "                       'Grouser_Tracks'          : 'Grouser_Tracks',\n",
    "                       'Hydraulics_Flow'         : 'Hydraulics_Flow',\n",
    "                       'Track_Type'              : 'Track_Type',\n",
    "                       'Undercarriage_Pad_Width' : 'Undercarriage_Pad_Width',\n",
    "                       'Stick_Length'            : 'Stick_Length',\n",
    "                       'Thumb'                   : 'Thumb',\n",
    "                       'Pattern_Changer'         : 'Pattern_Changer',\n",
    "                       'Grouser_Type'            : 'Grouser_Type',\n",
    "                       'Backhoe_Mounting'        : 'Backhoe_Mounting',\n",
    "                       'Blade_Type'              : 'Blade_Type',\n",
    "                       'Travel_Controls'         : 'Travel_Controls',\n",
    "                       'Differential_Type'       : 'Differential_Type',\n",
    "                       'Steering_Controls'       : 'Steering_Controls',\n",
    "                    }, inplace=True)\n",
    "    return (df)\n",
    "\n"
   ]
  },
  {
   "cell_type": "markdown",
   "metadata": {
    "id": "9DCCK3EXCVFg"
   },
   "source": [
    "#**Data Cleansing & Conversion**\n"
   ]
  },
  {
   "cell_type": "markdown",
   "metadata": {
    "id": "cOtyF48zEevE"
   },
   "source": [
    "##**Delete Rows with `Zero-Value` Keys**##"
   ]
  },
  {
   "cell_type": "code",
   "execution_count": 268,
   "metadata": {
    "executionInfo": {
     "elapsed": 2,
     "status": "ok",
     "timestamp": 1721372216113,
     "user": {
      "displayName": "Lior Israeli",
      "userId": "03269243767798062339"
     },
     "user_tz": -180
    },
    "id": "pvYFE-0AEnPa"
   },
   "outputs": [],
   "source": [
    "def delete_zero_keys_rows(df, columns, mode=None, df_other=None):\n",
    "\n",
    "    # Delete rows where any value in the specified columns is 0\n",
    "    print(\"\\nDelete rows with Zero-Value keys\")\n",
    "    print(f\"Operation mode: {mode}\")\n",
    "    print(f\"Number of rows in input df: {len(df)}\")\n",
    "\n",
    "    # Filter out rows where any of the specified columns have a value of 0\n",
    "    condition = (df[columns[0]] != 0)\n",
    "    for col in columns[1:]:\n",
    "        condition &= (df[col] != 0)\n",
    "\n",
    "    df_out = df[condition]\n",
    "\n",
    "    print(f\"Number of rows in output df: {len(df_out)}\")\n",
    "    return df_out"
   ]
  },
  {
   "cell_type": "markdown",
   "metadata": {
    "id": "GOHsXu_GXYHH"
   },
   "source": [
    "##**Remove Columns - Basic**##\n",
    "\n",
    "- **Remove Columns with no Business Value**\n",
    "- **Remove One of Two Paired Identical Meaning Features**  \n",
    "IE `Fi_Base_Model` has equal meaning to `Fi_Model_Desc` - need only one."
   ]
  },
  {
   "cell_type": "code",
   "execution_count": 269,
   "metadata": {
    "executionInfo": {
     "elapsed": 2,
     "status": "ok",
     "timestamp": 1721372216113,
     "user": {
      "displayName": "Lior Israeli",
      "userId": "03269243767798062339"
     },
     "user_tz": -180
    },
    "id": "xVSH29UxVePS"
   },
   "outputs": [],
   "source": [
    "def drop_columns (df, columns_list, mode, df_other):\n",
    "\n",
    "\n",
    "  print(\"\\nDropping Selected Columns\")\n",
    "  print(f\"Operation mode: {mode}\")\n",
    "\n",
    "  print(f\"Number of columns in input df: {len(df.columns)}\\n\")\n",
    "\n",
    "  df_out = df.copy()\n",
    "\n",
    "  for col in columns_list:\n",
    "    df_out = df_out.drop([col], axis=1)\n",
    "    print (f\"Column: '{col}' dropped\")\n",
    "  return (df_out)"
   ]
  },
  {
   "cell_type": "markdown",
   "metadata": {
    "id": "brmsLnd0Coh6"
   },
   "source": [
    "##**Dates handling**##\n",
    "- Convert `Sale Date` to `Date`\n",
    "- Convert `Year_Made` to number\n",
    "- Remove  `Year_Made` bad rows.\n",
    "- `Dates` Feature Engineering\n",
    "\n"
   ]
  },
  {
   "cell_type": "code",
   "execution_count": 270,
   "metadata": {
    "executionInfo": {
     "elapsed": 471,
     "status": "ok",
     "timestamp": 1721372216582,
     "user": {
      "displayName": "Lior Israeli",
      "userId": "03269243767798062339"
     },
     "user_tz": -180
    },
    "id": "m146GmzPFitr"
   },
   "outputs": [],
   "source": [
    "def explore_year_made (df, mode, df_other):\n",
    "  print (f\"\\nExplore year made\")\n",
    "  print (f\"Operation mode: {mode}\")\n",
    "\n",
    "  # Step 1:\n",
    "  # Count null values in the 'Sale_Date' column\n",
    "  # num_nulls_saledate = df2['Sale_Date'].isnull().sum()\n",
    "  # print(f\"Number of null values in num_nulls_saledate: {num_nulls_saledate}\")\n",
    "\n",
    "\n",
    "  # Instruct displaying all pandas DF Values\n",
    "  # pd.set_option('display.max_rows', None)\n",
    "  pd.reset_option('display.max_rows', 20)\n",
    "\n",
    "  # Compute value counts for 'year_made'\n",
    "  year_made_value_counts = df['Year_Made'].value_counts().sort_index()\n",
    "  print(\"\\nyear_made_value_counts: {year_made_value_counts}\\n\")\n",
    "\n",
    "  # Plotting with Matplotlib\n",
    "  plt.figure(figsize=(12, 7))\n",
    "  ax = year_made_value_counts.plot(kind='bar')\n",
    "  plt.title('Value Counts of Year Made')\n",
    "  plt.xlabel('Year Made')\n",
    "  plt.ylabel('Count')\n",
    "\n",
    "  # Customize x-axis label intervals and rotation\n",
    "  plt.xticks(rotation=90)  # Rotate x labels by 90 degrees\n",
    "\n",
    "  # Show the plot\n",
    "  plt.show()\n",
    "\n",
    "  #---------------------------------------------------------------------------#\n",
    "\n",
    "  # Compute value counts for 'Sale_Date'\n",
    "  # sale_date_value_counts = df['Sale_Date'].value_counts().sort_index()\n",
    "  # print(sale_date_value_counts)\n",
    "\n",
    "  # Plotting with Matplotlib\n",
    "  # plt.figure(figsize=(12, 7))\n",
    "  # ax = sale_date_value_counts.plot(kind='bar')\n",
    "  # plt.title('Value Counts of Sale Dates')\n",
    "  # plt.xlabel('Sale Dates')\n",
    "  # plt.ylabel('Count')\n",
    "\n",
    "  # Customize x-axis label intervals and rotation\n",
    "  # plt.xticks(rotation=90)  # Rotate x labels by 90 degrees\n",
    "\n",
    "  # Show the plot\n",
    "  # plt.show()\n",
    "\n",
    "  #---------------------------------------------------------------------------#\n"
   ]
  },
  {
   "cell_type": "code",
   "execution_count": 271,
   "metadata": {
    "executionInfo": {
     "elapsed": 471,
     "status": "ok",
     "timestamp": 1721372216582,
     "user": {
      "displayName": "Lior Israeli",
      "userId": "03269243767798062339"
     },
     "user_tz": -180
    },
    "id": "T6eojCO20lFr"
   },
   "outputs": [],
   "source": [
    "  def convert_date_cols(df, mode, df_other):\n",
    "    print(\"\\nConvert Date Columns\")\n",
    "    print (f\"Operation mode: {mode}\")\n",
    "\n",
    "    # Step 1: Converting Sale_Date to datetime\n",
    "    try:\n",
    "        df['Sale_Date'] = pd.to_datetime(df['Sale_Date'], errors='coerce')\n",
    "        print(\"Converted 'Sale_Date' to datetime.\")\n",
    "    except Exception as e:\n",
    "        print(f\"Error converting 'Sale_Date' to datetime: {e}\")\n",
    "\n",
    "    # Step 2: Converting Year_Made to numeric\n",
    "    try:\n",
    "        df['Year_Made'] = pd.to_numeric(df['Year_Made'], errors='coerce')\n",
    "\n",
    "        print(\"Converted 'Year_Made' to numeric.\")\n",
    "    except Exception as e:\n",
    "        print(f\"Error converting 'Year_Made' to numeric: {e}\")\n",
    "\n",
    "    return df"
   ]
  },
  {
   "cell_type": "code",
   "execution_count": 272,
   "metadata": {
    "executionInfo": {
     "elapsed": 4,
     "status": "ok",
     "timestamp": 1721372216582,
     "user": {
      "displayName": "Lior Israeli",
      "userId": "03269243767798062339"
     },
     "user_tz": -180
    },
    "id": "mRxOTFWXg6dH"
   },
   "outputs": [],
   "source": [
    "def handle_year_made(df, threshold=25, mode='train', df_other=None):\n",
    "    print(\"\\nHandle Year Made Column\")\n",
    "    print(f\"Operation mode: {mode}\")\n",
    "\n",
    "    initial_rows = len(df)\n",
    "    print(f\"Input Dataset Rows: {initial_rows}\")\n",
    "\n",
    "    # Step 1: Replace 1000 and old years to 1950\n",
    "    df['Year_Made'] = df['Year_Made'].fillna(1950)\n",
    "    df['Year_Made'] = df['Year_Made'].mask(df['Year_Made'] < 1950, 1950)\n",
    "    # df['Year_Made'] = df['Year_Made'].replace(1000, 1950)\n",
    "\n",
    "    return df"
   ]
  },
  {
   "cell_type": "code",
   "execution_count": 273,
   "metadata": {
    "executionInfo": {
     "elapsed": 3,
     "status": "ok",
     "timestamp": 1721372216582,
     "user": {
      "displayName": "Lior Israeli",
      "userId": "03269243767798062339"
     },
     "user_tz": -180
    },
    "id": "Du3uMFEwHh4Y"
   },
   "outputs": [],
   "source": [
    "def handle_year_made_old(df, threshold=25, mode=None, df_other=None):\n",
    "\n",
    "    print (\"\\nHandle Year Made Column\")\n",
    "    print (f\"Operation mode: {mode}\")\n",
    "\n",
    "    initial_rows = len(df)\n",
    "    removed_rows = 0\n",
    "\n",
    "    print (f\"Input Dataset Rows: {initial_rows}\")\n",
    "\n",
    "    print (\"1. Handle incorrect Year_Made rows...\")\n",
    "    print (\"Currently ignored because they appear and needed in the VALIDATION STAGE at valid.csv\")\n",
    "\n",
    "    # Step 1: remove rows where Year_Made = 1000\n",
    "    print(\"\\nRemoving rows where Year_Made is 1000...\")\n",
    "    df = df[df['Year_Made'] != 1000]\n",
    "\n",
    "    # removed_rows = initial_rows - len(df)\n",
    "    # print(f\"Removed {removed_rows} rows where Year_Made was 1000.\")\n",
    "\n",
    "\n",
    "    # Step 2: Create a boolean mask for values that occur less than the threshold before removing out\n",
    "    print(f\"\\nGroping together as -1 Year_Made values that occur less than {threshold} times...\")\n",
    "\n",
    "    year_made_value_counts = df['Year_Made'].value_counts()\n",
    "    mask = df['Year_Made'].isin(year_made_value_counts[year_made_value_counts < threshold].index)\n",
    "\n",
    "    # Step 3: Filter the DataFrame using the mask\n",
    "    df = df[mask]\n",
    "    final_rows = len(df)\n",
    "    return df\n",
    "\n",
    "    filtered_out_rows = initial_rows - final_rows - removed_rows\n",
    "    print(f\"Filtered out {filtered_out_rows} rows where Year_Made values occur less than {threshold} times.\")\n",
    "    print(f\"Number of rows after cleaning: {final_rows}\")\n",
    "\n",
    "    return df"
   ]
  },
  {
   "cell_type": "code",
   "execution_count": 274,
   "metadata": {
    "executionInfo": {
     "elapsed": 3,
     "status": "ok",
     "timestamp": 1721372216582,
     "user": {
      "displayName": "Lior Israeli",
      "userId": "03269243767798062339"
     },
     "user_tz": -180
    },
    "id": "L1ABsNPDbPcd"
   },
   "outputs": [],
   "source": [
    "def handle_year_made_old2(df, threshold=25, mode='train', df_other=None):\n",
    "    print(\"\\nHandle Year Made Column\")\n",
    "    print(f\"Operation mode: {mode}\")\n",
    "\n",
    "    initial_rows = len(df)\n",
    "    print(f\"Input Dataset Rows: {initial_rows}\")\n",
    "\n",
    "    # Step 1: Replace year 1000 with NaN\n",
    "    df['Year_Made'] = df['Year_Made'].fillna(1000)\n",
    "    df['Year_Made'] = df['Year_Made'].replace(1000, np.nan)\n",
    "\n",
    "    # Step 2: Replacing year 1000 with the mean year across Model_ID group\n",
    "    if mode == 'train': # Replace across group\n",
    "        year_made_means = df.groupby('Model_ID')['Year_Made'].mean().round()\n",
    "        overall_mean = df['Year_Made'].mean().round()\n",
    "        df['Year_Made'] = df.groupby('Model_ID')['Year_Made'].transform(lambda x: x.fillna(year_made_means.get(x.name, overall_mean)))\n",
    "\n",
    "    elif mode in ['validation', 'test']: # Look at other train df\n",
    "        if df_other is None:\n",
    "            raise ValueError(\"df_other must be provided in validation or test mode\")\n",
    "\n",
    "        other_year_made_means = df_other.groupby('Model_ID')['Year_Made'].mean().round()\n",
    "        global_mean = df_other['Year_Made'].mean().round()\n",
    "\n",
    "        def impute_year(row):\n",
    "            if pd.isna(row['Year_Made']):\n",
    "                return other_year_made_means.get(row['Model_ID'], global_mean)\n",
    "            return row['Year_Made']\n",
    "\n",
    "        df['Year_Made'] = df.apply(impute_year, axis=1)\n",
    "\n",
    "    else:\n",
    "        raise ValueError(\"Invalid mode. Must be 'train', 'validation', or 'test'.\")\n",
    "\n",
    "    # Final step: replace any remaining NaNs with a default value and convert to int\n",
    "    default_year = df['Year_Made'].min() if df['Year_Made'].notna().any() else 1990  # or any other appropriate default\n",
    "    df['Year_Made'] = df['Year_Made'].fillna(default_year).round().astype(int)\n",
    "\n",
    "    return df"
   ]
  },
  {
   "cell_type": "markdown",
   "metadata": {
    "id": "uBOBQmJ00Jeg"
   },
   "source": [
    "### `Dates` Feature Engineering"
   ]
  },
  {
   "cell_type": "code",
   "execution_count": 275,
   "metadata": {
    "executionInfo": {
     "elapsed": 3,
     "status": "ok",
     "timestamp": 1721372216582,
     "user": {
      "displayName": "Lior Israeli",
      "userId": "03269243767798062339"
     },
     "user_tz": -180
    },
    "id": "DMV9CNHSNpCZ"
   },
   "outputs": [],
   "source": [
    "import pandas as pd\n",
    "import numpy as np\n",
    "\n",
    "def create_date_features(df, mode, df_other):\n",
    "    print(\"\\nCreate Date Features\")\n",
    "    print(f\"Operation mode: {mode}\")\n",
    "\n",
    "    # Step 5: Feature Engineering - Calculating Machine_Age\n",
    "    df['Machine_Age_Years'] = (df['Sale_Date'].dt.year - df['Year_Made']).fillna(-1).astype(int)\n",
    "\n",
    "    # Step 6: Feature Engineering for Sale_Date\n",
    "    # Handle Sale_Date_YYYYMM\n",
    "    df['Sale_Date_YYYYMM'] = df['Sale_Date'].dt.strftime('%Y%m')\n",
    "    df['Sale_Date_YYYYMM'] = pd.to_numeric(df['Sale_Date_YYYYMM'], errors='coerce').fillna(0).astype(int)\n",
    "\n",
    "    # Handle other date components\n",
    "    df['Sale_Date_YYYY'] = df['Sale_Date'].dt.year.fillna(-1).astype(int)\n",
    "    df['Sale_Date_MM'] = df['Sale_Date'].dt.month.fillna(-1).astype(int)\n",
    "    df['Sale_Date_DD'] = df['Sale_Date'].dt.day.fillna(-1).astype(int)\n",
    "\n",
    "    # Print data types and null counts for verification\n",
    "    print(\"\\nColumn data types and null counts:\")\n",
    "    for col in ['Machine_Age_Years', 'Sale_Date_YYYYMM', 'Sale_Date_YYYY', 'Sale_Date_MM', 'Sale_Date_DD']:\n",
    "        print(f\"{col}: {df[col].dtype}, Null count: {df[col].isnull().sum()}\")\n",
    "\n",
    "    return df\n",
    "\n",
    "# Example usage:\n",
    "# df = create_date_features(df, mode='train', df_other=None)"
   ]
  },
  {
   "cell_type": "code",
   "execution_count": 276,
   "metadata": {
    "executionInfo": {
     "elapsed": 3,
     "status": "ok",
     "timestamp": 1721372216582,
     "user": {
      "displayName": "Lior Israeli",
      "userId": "03269243767798062339"
     },
     "user_tz": -180
    },
    "id": "HGv0ji_bz2Iu"
   },
   "outputs": [],
   "source": [
    "def create_date_features_old (df, mode, df_other):\n",
    "\n",
    "  print(\"\\nCreate Date Features\")\n",
    "  print(\"Operation mode: {mode}\")\n",
    "\n",
    "\n",
    "  # Step 5: Feature Engineering - Calculating Machine_Age\n",
    "  df.loc[:, 'Machine_Age_Years'] = df['Sale_Date'].dt.year - df['Year_Made']\n",
    "  df['Machine_Age_Years'] = df['Machine_Age_Years'].astype(int)\n",
    "\n",
    "\n",
    "  #if mode == 'train':\n",
    "    # Replace negative Machine_Age_Years with the mean value for their respective Model_ID\n",
    "  #  model_mean_ages = df.groupby('Model_ID')['Machine_Age_Years'].transform('mean').round().astype(int)   # train\n",
    "  #  df.loc[df['Machine_Age_Years'] < 0, 'Machine_Age_Years'] = model_mean_ages\n",
    "\n",
    "  #else: #mode is test or validation\n",
    "  #  model_mean_ages = df.groupby('Model_ID')['Machine_Age_Years'].transform('mean').round().astype(int) # test & validationation\n",
    "   # df.loc[df['Machine_Age_Years'] < 0, 'Machine_Age_Years'] = model_mean_ages\n",
    "\n",
    "\n",
    "  # Step 6: Feature Engineering for Sale_Date\n",
    "\n",
    "  df.loc[:, 'Sale_Date_YYYYMM'] = df['Sale_Date'].dt.strftime('%Y%m')\n",
    "  df.loc[:, 'Sale_Date_YYYYMM'] = df['Sale_Date_YYYYMM'].astype(int)\n",
    "  #df.loc[:, 'Sale_Date_YYYYMM'] = pd.to_numeric(df['Sale_Date_YYYYMM'], errors='coerce').fillna(-1).astype(int)\n",
    "\n",
    "  df.loc[:, 'Sale_Date_YYYY']   = df['Sale_Date'].dt.year\n",
    "  df.loc[:, 'Sale_Date_YYYY']   = df['Sale_Date_YYYY'].astype(int)\n",
    "\n",
    "  df.loc[:, 'Sale_Date_MM']     = df['Sale_Date'].dt.month\n",
    "  df.loc[:, 'Sale_Date_MM']     = df['Sale_Date_MM'].astype(int)\n",
    "\n",
    "  df.loc[:, 'Sale_Date_DD']     = df['Sale_Date'].dt.day\n",
    "  df.loc[:, 'Sale_Date_DD']     = df['Sale_Date_DD'].astype(int)\n",
    "\n",
    "  #df.head(10)\n",
    "  return (df)"
   ]
  },
  {
   "cell_type": "markdown",
   "metadata": {
    "id": "K_JX64R3Nga9"
   },
   "source": [
    "##**Remove Unconsistent Rows**##\n",
    "- `Machine_IDs` thath it's `descriptive features` are changing upon sales"
   ]
  },
  {
   "cell_type": "code",
   "execution_count": 277,
   "metadata": {
    "executionInfo": {
     "elapsed": 3,
     "status": "ok",
     "timestamp": 1721372216582,
     "user": {
      "displayName": "Lior Israeli",
      "userId": "03269243767798062339"
     },
     "user_tz": -180
    },
    "id": "4vIO7OlvOBog"
   },
   "outputs": [],
   "source": [
    "def remove_unconsistent_rows (df, mode=None, df_other=None):\n",
    "\n",
    "  print (\"\\nRemove Unconsistent Rows\")\n",
    "  print (\"Operation mode: {mode}\")\n",
    "\n",
    "  # df_Machines_Sorted = df.sort_values(by=['Machine_ID', 'Year_Made','Sale_Date'], ascending=[True, True, True])\n",
    "\n",
    "  # -----------------------------------------------------------------------------\n",
    "\n",
    "  # Group by 'Machine_ID' and check for uniqueness in 'COL1', 'COL2', 'COL3' etc.\n",
    "  # Grouping:\n",
    "  # The DataFrame df is grouped by the Machine_ID column using groupby().\n",
    "\n",
    "  # Aggregation:\n",
    "  # For each group, the agg() function is used to compute the number of unique values (nunique)\n",
    "  # in COL1, COL2, and COL3.\n",
    "\n",
    "  # The result:\n",
    "  # A new DataFrame grouped where each row corresponds to a Machine_ID,\n",
    "  # and the columns contain the count of unique values in each specified column.\n",
    "  '''\n",
    "  if mode in ['test', 'validation']:\n",
    "    print (f'\\nUnconsistent Rows will not be removed in mode: {mode}.')\n",
    "    return (df)\n",
    "  else: # mode == 'train':\n",
    "    print (f'\\nRemoving unconsistent group rows at {mode} mode...')\n",
    "  '''\n",
    "  Machine_ID_Grouped_df = df.groupby('Machine_ID').agg({\n",
    "      'Model_ID'                  : 'nunique',\n",
    "      'Fi_Base_Model'             : 'nunique',\n",
    "      'Year_Made'                 : 'nunique',\n",
    "    # 'Fi_Secondary_Desc'         : 'nunique',\n",
    "    # 'Fi_Model_Series'           : 'nunique',\n",
    "    # 'Fi_Model_Descriptor'       : 'nunique',\n",
    "    # 'Product_Size'              : 'nunique',\n",
    "    # 'Fi_Product_Class_Desc'     : 'nunique',\n",
    "    # 'Product_Group'             : 'nunique',\n",
    "      })\n",
    "\n",
    "\n",
    "  # Create a mask where True indicates all values in the group are the same\n",
    "  # Comparison:\n",
    "  # (grouped == 1) creates a boolean DataFrame where each cell is True if the corresponding cell in grouped is equal to 1\n",
    "  # (meaning all values in that column for that Machine_ID are the same).\n",
    "\n",
    "  # Aggregation: .all(axis=1) combines the boolean values across columns.\n",
    "  # For each row (i.e., for each Machine_ID), it returns True if all columns are True\n",
    "  # (i.e., all specified columns have exactly one unique value in that group).\n",
    "\n",
    "  mask = (Machine_ID_Grouped_df == 1).all(axis=1)\n",
    "\n",
    "  # Add the mask to the original DataFrame\n",
    "  # Mapping:\n",
    "  # The map() function maps the boolean mask created for each Machine_ID back to the original DataFrame.\n",
    "  # This adds a new column Mask to df, where each row indicates whether all specified columns have the same value for that Machine_ID.\n",
    "\n",
    "  df['Mask'] = df['Machine_ID'].map(mask)\n",
    "\n",
    "  # Count the number of True and False values in the 'Mask' column\n",
    "  mask_counts = df['Mask'].value_counts()\n",
    "  print (\"\\nDelete unconsistent rows per Machine ID Grouping\")\n",
    "  print (f\"Number of rows input df:{len(df)}\")\n",
    "  print (f\"Number of False Bad values to FILTER: {mask_counts[False]}\")\n",
    "  print (f\"Number of True Good values to STAY: {mask_counts[True]}\")\n",
    "\n",
    "\n",
    "  # Filtering Out Rows Where the Mask is False\n",
    "  # Boolean Indexing:\n",
    "  # This line uses boolean indexing to filter the DataFrame.\n",
    "  # The condition df['Mask'] returns a boolean Series where the value is True for rows where the Mask column is True and False otherwise.\n",
    "\n",
    "  # Filtering:\n",
    "  # The DataFrame is filtered to include only the rows where the Mask column is True.\n",
    "  # The result is stored in df_filtered.\n",
    "\n",
    "  df_filtered = df[df['Mask']]\n",
    "\n",
    "  # Drop the Mask Column\n",
    "  df_filtered = df_filtered.drop(columns=['Mask'])\n",
    "\n",
    "  print (f\"Number of rows output df:{len(df_filtered)}\")\n",
    "\n",
    "  # df_filtered.head(10)\n",
    "  return (df_filtered)"
   ]
  },
  {
   "cell_type": "markdown",
   "metadata": {
    "id": "4wJYq3h2xI7U"
   },
   "source": [
    "##**Handle Machine Hours**##"
   ]
  },
  {
   "cell_type": "code",
   "execution_count": 278,
   "metadata": {
    "executionInfo": {
     "elapsed": 4,
     "status": "ok",
     "timestamp": 1721372216583,
     "user": {
      "displayName": "Lior Israeli",
      "userId": "03269243767798062339"
     },
     "user_tz": -180
    },
    "id": "MBOZ1Y_KLqK9"
   },
   "outputs": [],
   "source": [
    "def machine_hours_add_features (df, mode, df_other):\n",
    "    print(f\"\\nExplore machine hours current meter\")\n",
    "    print(f\"Operation mode: {mode}\")\n",
    "\n",
    "    # 1. Create a column Machine_Hours_Current_Meter-Missing set to True if NaN or zero\n",
    "    df['Machine_Hours_Current_Meter-Missing'] = df['Machine_Hours_Current_Meter'].isna() | (df['Machine_Hours_Current_Meter'] == 0)\n",
    "\n",
    "    # 2. Make shure that all bad or missing values in Machine_Hours_Current_Meter are NaN\n",
    "    df['Machine_Hours_Current_Meter'] = df['Machine_Hours_Current_Meter'].replace(np.nan, -1)\n",
    "    df.loc[df['Machine_Hours_Current_Meter'] == 0, 'Machine_Hours_Current_Meter'] = -1\n",
    "    df['Machine_Hours_Current_Meter'].replace(-1, np.nan, inplace=True)\n",
    "\n",
    "\n",
    "    # 3. Create a new column Machine_Hours_Current_Meter_Log based on Machine_Hours_Current_Meter\n",
    "    df['Machine_Hours_Current_Meter_Log'] = df['Machine_Hours_Current_Meter'].apply(\n",
    "        lambda x: np.log(x) if (pd.notna(x) and x > 0) else -1\n",
    "    )\n",
    "\n",
    "    # 4. Make shure that all bad or missing values in Machine_Hours_Current_Meter_Log are NaN\n",
    "    df['Machine_Hours_Current_Meter_Log'].replace(-1, np.nan, inplace=True)\n",
    "\n",
    "    return df"
   ]
  },
  {
   "cell_type": "markdown",
   "metadata": {
    "id": "9CH57aDgPaG5"
   },
   "source": [
    "##**Correct `Tire_Size` Feature**##\n",
    "- Correct Values\n",
    "- Convert to float\n",
    "- Handle `Nulls` and\n",
    "- Impute value\n",
    "- Convert to `Category Type`"
   ]
  },
  {
   "cell_type": "code",
   "execution_count": 279,
   "metadata": {
    "executionInfo": {
     "elapsed": 3,
     "status": "ok",
     "timestamp": 1721372216583,
     "user": {
      "displayName": "Lior Israeli",
      "userId": "03269243767798062339"
     },
     "user_tz": -180
    },
    "id": "b2aWpSV6PqzV"
   },
   "outputs": [],
   "source": [
    "def cleans_tire_size(df, mode, df_other):\n",
    "\n",
    "    print (f\"\\nCleans_tire_size\")\n",
    "    print (f\"Operation mode: {mode}\")\n",
    "\n",
    "    col = 'Tire_Size'\n",
    "\n",
    "    # Step 1: Replace NaN and Blanks with None or Unspecified\n",
    "    df = replace_nulls_with_const_text(df, columns_list=[col], default_text='None or Unspecified', missing_col=False, mode=mode, df_other=df_other)\n",
    "\n",
    "    # Step 2: Remove the double quotes from the 'Tire_Size' column\n",
    "    print(\"\\nRemoving double quotes from 'Tire_Size' column...\")\n",
    "    df[col] = df[col].str.replace('\"', '', regex=False)\n",
    "\n",
    "    # Step 3: Replace 'None or Unspecified' with NaN as a place holder\n",
    "    print(\"\\nReplacing 'None or Unspecified' with NaN in 'Tire_Size' column...\")\n",
    "    df[col] = df[col].replace('None or Unspecified', np.nan)\n",
    "\n",
    "    # Step 4: Convert the 'Tire_Size' column to float\n",
    "    print(\"\\nConverting {col} column to float...\")\n",
    "    try:\n",
    "        df[col] = df[col].astype(float).round(2)\n",
    "    except ValueError as e:\n",
    "        print(f\"\\nError converting {col} column to float: {e}\")\n",
    "\n",
    "    return df\n"
   ]
  },
  {
   "cell_type": "markdown",
   "metadata": {
    "id": "-NLvhARWTc2w"
   },
   "source": [
    "##**Impute numeric columns containing `NaN` or wrong values**##"
   ]
  },
  {
   "cell_type": "code",
   "execution_count": 280,
   "metadata": {
    "executionInfo": {
     "elapsed": 3,
     "status": "ok",
     "timestamp": 1721372216583,
     "user": {
      "displayName": "Lior Israeli",
      "userId": "03269243767798062339"
     },
     "user_tz": -180
    },
    "id": "O_rLb0aQIvaN"
   },
   "outputs": [],
   "source": [
    "import pandas as pd\n",
    "import re\n",
    "\n",
    "def convert_only_scientific(value):\n",
    "    \"\"\"\n",
    "    Convert a value to float if it's in scientific notation, otherwise return the original value.\n",
    "    \"\"\"\n",
    "    if isinstance(value, str):\n",
    "        # Regular expression to match scientific notation\n",
    "        scientific_pattern = r'^[-+]?\\d*\\.?\\d+[eE][-+]?\\d+$'\n",
    "        if re.match(scientific_pattern, value):\n",
    "            return float(value)\n",
    "    return value\n",
    "\n",
    "def convert_scientific_in_column(df, column_name):\n",
    "    \"\"\"\n",
    "    Convert only scientific notation to floats in a column, leaving other values unchanged.\n",
    "    \"\"\"\n",
    "    return df[column_name].apply(convert_only_scientific)\n",
    "\n",
    "# Example usage:\n",
    "# df['Fi_Model_Series_Converted'] = convert_scientific_in_column(df, 'Fi_Model_Series')\n",
    "\n",
    "# To see the results:\n",
    "# print(df[['Fi_Model_Series', 'Fi_Model_Series_Converted']])"
   ]
  },
  {
   "cell_type": "code",
   "execution_count": 281,
   "metadata": {
    "executionInfo": {
     "elapsed": 3,
     "status": "ok",
     "timestamp": 1721372216583,
     "user": {
      "displayName": "Lior Israeli",
      "userId": "03269243767798062339"
     },
     "user_tz": -180
    },
    "id": "Mr0A730-VLyK"
   },
   "outputs": [],
   "source": [
    "def calc_weighted_average (df, col, mode, df_other):\n",
    "\n",
    "  print (f\"\\nCalculate Weighted Average for: {col}\")\n",
    "  print (f\"Operation mode: {mode}\")\n",
    "\n",
    "  if mode == 'train':\n",
    "    work_df = df\n",
    "  else: # test or validation\n",
    "    work_df = df_other\n",
    "\n",
    "  # Calculate the value counts for 'Tire_Size', excluding NaN values\n",
    "  value_counts = work_df[col].value_counts(dropna=True)\n",
    "\n",
    "  # Extract tire sizes and their corresponding counts\n",
    "  col_sizes  = value_counts.index.values\n",
    "  col_counts = value_counts.values\n",
    "\n",
    "  # Calculate the weighted average using numpy\n",
    "  weighted_average = np.average(col_sizes, weights=col_counts)\n",
    "\n",
    "  # Display the weighted average\n",
    "  print()\n",
    "  print(f\"Weighted Average for: {col} - excluding NaN values: {weighted_average}\")\n",
    "\n",
    "  return (weighted_average)"
   ]
  },
  {
   "cell_type": "code",
   "execution_count": 282,
   "metadata": {
    "executionInfo": {
     "elapsed": 3,
     "status": "ok",
     "timestamp": 1721372216583,
     "user": {
      "displayName": "Lior Israeli",
      "userId": "03269243767798062339"
     },
     "user_tz": -180
    },
    "id": "jnVuZRm0V5wR"
   },
   "outputs": [],
   "source": [
    "def impute_column(df, col, group_cols, method='mean', missing_col=False, mode='train', df_other=None):\n",
    "\n",
    "    # By Lior Israeli v3.3.3 OOOOOFFFFF\n",
    "    \"\"\"\n",
    "    Performs hierarchical imputation on a specified column in a DataFrame.\n",
    "\n",
    "    This function imputes missing values in a column using a hierarchical approach,\n",
    "    starting from the most specific grouping level to the most general. It supports\n",
    "    both numeric and categorical data, offering mean, median, and mode imputation methods.\n",
    "\n",
    "    The function can operate in 'train' mode (using the input DataFrame for calculations)\n",
    "    or 'test'/'validation' mode (using a separate DataFrame for calculations but imputing\n",
    "    the input DataFrame).\n",
    "\n",
    "    For numeric data, mean, median, and mode imputation are available. For categorical data,\n",
    "    only mode imputation is supported. The function handles groups with all NaN values by\n",
    "    moving to higher levels in the hierarchy.\n",
    "\n",
    "    Parameters:\n",
    "    df (pd.DataFrame): The DataFrame containing the column to be imputed.\n",
    "    col (str): The name of the column to be imputed.\n",
    "    group_cols (list): A list of column names defining the hierarchy for grouping, from most general to most specific.\n",
    "    method (str): The imputation method to use - 'mean', 'median', or 'mode'. Default is 'mean'.\n",
    "    mode (str): 'train' for using df for calculations, 'test' or 'validation' for using df_other. Default is 'train'.\n",
    "    df_other (pd.DataFrame, optional): The DataFrame to use for calculations in 'test' or 'validation' mode.\n",
    "    missing_col (bool): If True, adds a boolean column indicating originally missing values. Default is False.\n",
    "\n",
    "    Returns:\n",
    "    pd.DataFrame: A copy of the input DataFrame with imputed values in the specified column\n",
    "                  and an additional column indicating missing values if missing_col is True.\n",
    "\n",
    "    Raises:\n",
    "    ValueError: If an invalid imputation method is specified or if trying to use mean/median on non-numeric data.\n",
    "    \"\"\"\n",
    "    print(f\"\\nImputing {method} for column: {col}\")\n",
    "    print(f\"Group columns list: {group_cols}\")\n",
    "    print(f\"Operation mode: {mode}\")\n",
    "    print(f\"Adding missing indicator column: {missing_col}\")\n",
    "\n",
    "    # Validate imputation method\n",
    "    valid_methods = ['mean', 'median', 'mode']\n",
    "    if method not in valid_methods:\n",
    "        raise ValueError(f\"Invalid method. Choose from {valid_methods}\")\n",
    "\n",
    "    # Create a copy of the input DataFrame\n",
    "    df_imputed = df.copy()\n",
    "\n",
    "    # Add missing indicator column if requested\n",
    "    if missing_col:\n",
    "        df_imputed[f'{col}-Missing'] = df_imputed[col].isna()\n",
    "\n",
    "    # Choosing target DF\n",
    "    if mode == 'train':\n",
    "        look_at_df = df_imputed\n",
    "    else:  # mode == 'test' or 'validation'\n",
    "        if df_other is None:\n",
    "            raise ValueError(f\"df_other must be provided when mode is {mode}\")\n",
    "        look_at_df = df_other\n",
    "\n",
    "    # Check if the column is numeric\n",
    "    is_numeric = pd.api.types.is_numeric_dtype(look_at_df[col])\n",
    "\n",
    "    if not is_numeric and method in ['mean', 'median']:\n",
    "        raise ValueError(f\"Cannot use {method} imputation for non-numeric data\")\n",
    "\n",
    "    # Initial NaN count\n",
    "    initial_nan_count = df_imputed[col].isna().sum()\n",
    "    print(f\"Initial NaN count in '{col}': {initial_nan_count}\")\n",
    "\n",
    "    # Define imputation function based on method\n",
    "    if method == 'mean':\n",
    "        impute_func = lambda x: x.fillna(x.mean())\n",
    "    elif method == 'median':\n",
    "        impute_func = lambda x: x.fillna(x.median())\n",
    "    else:  # method == 'mode'\n",
    "        impute_func = lambda x: x.fillna(x.mode().iloc[0] if not x.mode().empty else np.nan)\n",
    "\n",
    "    # Impute NaN values in 'col' by grouped function\n",
    "    for level in reversed(group_cols):\n",
    "        mask = look_at_df.groupby(level)[col].transform(impute_func)\n",
    "        df_imputed[col] = df_imputed[col].fillna(mask)\n",
    "        current_nan_count = df_imputed[col].isna().sum()\n",
    "        print(f\"NaN count after grouping by '{level}' and imputing in '{col}': {current_nan_count}\")\n",
    "\n",
    "    # Impute remaining NaN values with the overall function\n",
    "    if method == 'mean':\n",
    "        overall_value = look_at_df[col].mean()\n",
    "    elif method == 'median':\n",
    "        overall_value = look_at_df[col].median()\n",
    "    else:  # method == 'mode'\n",
    "        overall_value = look_at_df[col].mode().iloc[0] if not look_at_df[col].mode().empty else np.nan\n",
    "\n",
    "    df_imputed[col] = df_imputed[col].fillna(overall_value)\n",
    "    final_nan_count = df_imputed[col].isna().sum()\n",
    "\n",
    "    print(f\"Final NaN count in '{col}': {final_nan_count}\")\n",
    "\n",
    "    return df_imputed"
   ]
  },
  {
   "cell_type": "code",
   "execution_count": 283,
   "metadata": {
    "executionInfo": {
     "elapsed": 3,
     "status": "ok",
     "timestamp": 1721372216583,
     "user": {
      "displayName": "Lior Israeli",
      "userId": "03269243767798062339"
     },
     "user_tz": -180
    },
    "id": "7P0uCgqjnP3t"
   },
   "outputs": [],
   "source": [
    "def impute_numeric_col_mean(df, col, group_cols, mode, df_other=None):\n",
    "    print(f\"\\nImputing mean for numeric col: {col}\")\n",
    "    print(f\"Group columns list: {group_cols}\")\n",
    "    print(f\"Operation mode: {mode}\")\n",
    "\n",
    "    # Choosing target DF\n",
    "    if mode == 'train':\n",
    "        look_at_df = df\n",
    "    else:  # mode == 'test' or 'validation'\n",
    "        if df_other is None:\n",
    "            raise ValueError(\"df_other must be provided when mode is {mode}\")\n",
    "        look_at_df = df_other\n",
    "\n",
    "    # Initial NaN count\n",
    "    initial_nan_count = df[col].isna().sum()\n",
    "    print(f\"Initial NaN count in '{col}': {initial_nan_count}\")\n",
    "\n",
    "    # Counter for imputation steps\n",
    "    group_imputation_count = 0\n",
    "    overall_imputation_count = 0\n",
    "\n",
    "    print(\"\\nBefore imputing NaN values in 'Machine_Hours_Current_Meter':\")\n",
    "    # print(df)\n",
    "\n",
    "    # Impute NaN values in 'col' by grouped function\n",
    "    for level in reversed (group_cols):\n",
    "        mask = look_at_df.groupby(level)[col].transform(lambda x: x.fillna(x.mean()))\n",
    "        df[col].fillna(mask, inplace=True)\n",
    "        group_imputation_count += initial_nan_count - df[col].isna().sum()\n",
    "        initial_nan_count = df[col].isna().sum()  # Update initial_nan_count for next group\n",
    "        print(f\"NaN count after grouping by '{level}' and imputing in '{col}': {initial_nan_count}\")\n",
    "\n",
    "    # Impute remaining NaN values with the overall function\n",
    "    overal_mean = look_at_df[col].mean()\n",
    "    df[col].fillna(overal_mean, inplace=True)\n",
    "    overall_imputation_count = initial_nan_count - df[col].isna().sum()\n",
    "\n",
    "    final_nan_count = df[col].isna().sum()\n",
    "    print(f\"Final NaN count in '{col}': {final_nan_count}\")\n",
    "    print(f\"Total NaN values imputed by grouping: {group_imputation_count}\")\n",
    "    print(f\"Total NaN values imputed overall: {overall_imputation_count}\")\n",
    "\n",
    "    print(\"\\nAfter imputing NaN values in 'Machine_Hours_Current_Meter':\")\n",
    "    # print(df)\n",
    "    return df"
   ]
  },
  {
   "cell_type": "markdown",
   "metadata": {
    "id": "LmEIBU0nIQK7"
   },
   "source": [
    "##**Impute text columns containing `NaN` or wrong values**##\n",
    "\n",
    "###Text Feature - Option 1###\n",
    "- Replace Columns with `null` or `blank` values with the string: `None or Unspecified`.\n",
    "- In many columns this string was there sparsly before cleansing.\n",
    "\n",
    "###Text Feature - Option 2###\n",
    "- Assume that column `x1` with the `Empty Values` bellongs to a group of other columns define by the list [`x10`, `x11`, `x12` `etc..`]\n",
    "- We will calculate the common value of `x0` within that `grouped list` to replace the `Empty Values`"
   ]
  },
  {
   "cell_type": "code",
   "execution_count": 284,
   "metadata": {
    "executionInfo": {
     "elapsed": 3,
     "status": "ok",
     "timestamp": 1721372216583,
     "user": {
      "displayName": "Lior Israeli",
      "userId": "03269243767798062339"
     },
     "user_tz": -180
    },
    "id": "DgqzbTwb8G37"
   },
   "outputs": [],
   "source": [
    "def replace_nulls_with_const_text(df, columns_list=None, default_text='None or Unspecified', missing_col=True, mode='train', df_other=None):\n",
    "    # By Lior Israeli v3.3.3 OOOOOFFFFF\n",
    "    \"\"\"\n",
    "    Replace null values, empty strings, and single spaces in specified columns with a constant text value.\n",
    "\n",
    "    This function processes the specified columns (or all object columns if none specified) in a DataFrame,\n",
    "    replacing NaN values, empty strings, and single spaces with a default text. It also provides an option\n",
    "    to add indicator columns for originally missing values.\n",
    "\n",
    "    Parameters:\n",
    "    df (pd.DataFrame): The input DataFrame to be processed.\n",
    "    columns_list (list, optional): List of column names to process. If None, all object-type columns are processed.\n",
    "    default_text (str, optional): The text to use for replacement. Defaults to 'None or Unspecified'.\n",
    "    missing_col (bool, optional): If True, adds columns indicating originally missing values. Defaults to True.\n",
    "    mode (str, optional): Specifies 'train' or 'test'/'validation' mode. Currently not implemented. Defaults to 'train'.\n",
    "    df_other (pd.DataFrame, optional): Another DataFrame for test/validation mode. Currently not used.\n",
    "\n",
    "    Returns:\n",
    "    pd.DataFrame: The modified DataFrame with null values replaced and optionally added missing indicator columns.\n",
    "    dict: A dictionary containing counts of replacements for each processed column.\n",
    "\n",
    "    Raises:\n",
    "    ValueError: If an invalid column name is provided or if the input is not a DataFrame.\n",
    "    \"\"\"\n",
    "    print(f\"\\nReplace null values and blanks of string columns text\")\n",
    "    print(f\"Operation mode: {mode}\")\n",
    "\n",
    "    if columns_list is None:\n",
    "        columns_list = df.select_dtypes(include=['object']).columns\n",
    "\n",
    "    # Dictionary to keep track of counts\n",
    "    unspecified_count_dict = {col: 0 for col in columns_list}\n",
    "\n",
    "    for col in columns_list:\n",
    "        if col in df.columns:\n",
    "            # Count NaNs and blank spaces before replacement\n",
    "            nan_count = df[col].isna().sum()\n",
    "            blank_count = df[col].str.isspace().sum()  # This counts strings with only whitespace\n",
    "\n",
    "            # Replace NaNs and any string containing only whitespace\n",
    "            df[col] = df[col].fillna(default_text)\n",
    "            df[col] = df[col].replace(r'^\\s*$', default_text, regex=True)\n",
    "\n",
    "            # Update the count dictionary\n",
    "            unspecified_count_dict[col] = nan_count + blank_count\n",
    "        else:\n",
    "            unspecified_count_dict[col] = 'Column does not exist in DataFrame'\n",
    "\n",
    "    # Print the counts of replacements\n",
    "    print(\"\\nCounts of 'None or Unspecified' replacements for each column:\\n\")\n",
    "\n",
    "    for col, count in unspecified_count_dict.items():\n",
    "        print(f\"{col}: {count}\")\n",
    "\n",
    "    print(f\"\\nUnspecified_count_dict: {unspecified_count_dict}\")\n",
    "\n",
    "    # return df, unspecified_count_dict\n",
    "    return df\n",
    "\n",
    "# Example usage:\n",
    "# df, counts = replace_nulls_with_const_text(df, ['column1', 'column2'])\n",
    "# print(counts)\n",
    "\n"
   ]
  },
  {
   "cell_type": "code",
   "execution_count": 285,
   "metadata": {
    "executionInfo": {
     "elapsed": 500,
     "status": "ok",
     "timestamp": 1721372217080,
     "user": {
      "displayName": "Lior Israeli",
      "userId": "03269243767798062339"
     },
     "user_tz": -180
    },
    "id": "NHwMGpbyBiHW"
   },
   "outputs": [],
   "source": [
    "import pandas as pd\n",
    "import numpy as np\n",
    "from sklearn.base import BaseEstimator, TransformerMixin\n",
    "\n",
    "class MostFrequentGroupImputer(BaseEstimator, TransformerMixin):\n",
    "    def __init__(self, group_cols, target_col):\n",
    "        self.group_cols = group_cols\n",
    "        self.target_col = target_col\n",
    "        self.group_modes = None\n",
    "        self.global_mode = None\n",
    "\n",
    "    def fit(self, X, y=None):\n",
    "        df = pd.DataFrame(X, columns=self.group_cols + [self.target_col])\n",
    "\n",
    "        # Convert target column to string type\n",
    "        df[self.target_col] = df[self.target_col].astype(str)\n",
    "\n",
    "        # Calculate group modes\n",
    "        self.group_modes = df.groupby(self.group_cols)[self.target_col].agg(\n",
    "            lambda x: x.value_counts().index[0] if len(x) > 0 else None\n",
    "        )\n",
    "\n",
    "        # Calculate global mode\n",
    "        self.global_mode = df[self.target_col].value_counts().index[0] if len(df) > 0 else None\n",
    "\n",
    "        return self\n",
    "\n",
    "    def transform(self, X):\n",
    "        df = pd.DataFrame(X, columns=self.group_cols + [self.target_col])\n",
    "        result = df.copy()\n",
    "\n",
    "        # Convert target column to string type\n",
    "        result[self.target_col] = result[self.target_col].astype(str)\n",
    "\n",
    "        def impute_value(row):\n",
    "            group_key = tuple(row[col] for col in self.group_cols)\n",
    "            if group_key in self.group_modes.index:\n",
    "                imputed_value = self.group_modes.loc[group_key]\n",
    "                if imputed_value is not None:\n",
    "                    return imputed_value\n",
    "            return self.global_mode\n",
    "\n",
    "        mask = (result[self.target_col].isna()) | (result[self.target_col] == 'nan') | (result[self.target_col] == '')\n",
    "        result.loc[mask, self.target_col] = result[mask].apply(impute_value, axis=1)\n",
    "        return result\n",
    "\n",
    "def impute_str_col(df, target_col, group_cols, mode, df_other=None):\n",
    "    print(f\"\\nImpute missing values in the target column based on the group columns\")\n",
    "    print(f\"Operation mode: {mode}\")\n",
    "\n",
    "    X = df[group_cols + [target_col]].copy()\n",
    "\n",
    "    if mode == 'train':\n",
    "        imputer = MostFrequentGroupImputer(group_cols, target_col)\n",
    "        imputer.fit(X)\n",
    "    else:  # test or validation\n",
    "        if df_other is None:\n",
    "            raise ValueError(\"other_df must be provided in test or validation mode\")\n",
    "        X_train = df_other[group_cols + [target_col]].copy()\n",
    "        imputer = MostFrequentGroupImputer(group_cols, target_col)\n",
    "        imputer.fit(X_train)\n",
    "\n",
    "    # Count of rows with missing values before imputation\n",
    "    rows_with_missing_before = X[X[target_col].isin(['', 'nan']) | X[target_col].isna()].shape[0]\n",
    "    print(f\"Number of rows with missing values in '{target_col}' before imputation: {rows_with_missing_before}\")\n",
    "\n",
    "    # Perform imputation\n",
    "    X_imputed = imputer.transform(X)\n",
    "\n",
    "    # Update only the target column in the original dataframe\n",
    "    df[target_col] = X_imputed[target_col]\n",
    "\n",
    "    # Count of rows with missing values after imputation\n",
    "    rows_with_missing_after = df[df[target_col].isin(['', 'nan']) | df[target_col].isna()].shape[0]\n",
    "    print(f\"Number of rows with missing values in '{target_col}' after imputation: {rows_with_missing_after}\")\n",
    "\n",
    "    # Count of rows processed\n",
    "    rows_processed = df.shape[0]\n",
    "    print(f\"Number of rows processed: {rows_processed}\")\n",
    "\n",
    "    return df\n",
    "\n",
    "# Usage example:\n",
    "# df_train = replace_nan_text(df_train.copy(), 'Product_Size', ['group_col1', 'group_col2'], 'train')\n",
    "# df_test = replace_nan_text(df_test.copy(), 'Product_Size', ['group_col1', 'group_col2'], 'test', df_train)"
   ]
  },
  {
   "cell_type": "code",
   "execution_count": 286,
   "metadata": {
    "executionInfo": {
     "elapsed": 3,
     "status": "ok",
     "timestamp": 1721372217080,
     "user": {
      "displayName": "Lior Israeli",
      "userId": "03269243767798062339"
     },
     "user_tz": -180
    },
    "id": "qSl5Utl-_eMz"
   },
   "outputs": [],
   "source": [
    "# Function to replace NaN values based on the most frequent value within groups\n",
    "def replace_nan_old2(df, target_col, group_cols, default_text='None or Unspecified', mode='train', df_other=None):\n",
    "\n",
    "    print(f\"\\nReplace NaN values based on the most frequent value within groups\")\n",
    "    print(f\"Operation mode: {mode}\")\n",
    "\n",
    "    # Find the most frequent value within each group\n",
    "    if mode == 'train':\n",
    "      most_frequent = df.groupby(group_cols)[target_col].apply(lambda x: x.mode().iloc[0] if not x.mode().empty else default_text)\n",
    "\n",
    "    else: # test or valididation\n",
    "      most_frequent = df_other.groupby(group_cols)[target_col].apply(lambda x: x.mode().iloc[0] if not x.mode().empty else default_text)\n",
    "\n",
    "      # Count of rows processed\n",
    "      rows_with_nan = df[target_col].isna().sum()\n",
    "\n",
    "    # Define a function to fill NaN values based on the most frequent value in the group\n",
    "    def fill_na(row):\n",
    "        # Create a tuple from the group columns to match the index in most_frequent\n",
    "        group_values = tuple(row[col] for col in group_cols)\n",
    "        if pd.isna(row[target_col]):\n",
    "            return most_frequent[group_values]\n",
    "        return row[target_col]\n",
    "\n",
    "    # Apply the function to fill NaN values\n",
    "    df[target_col] = df.apply(fill_na, axis=1)\n",
    "\n",
    "    # Count of rows filled\n",
    "    rows_filled = rows_with_nan - df[target_col].isna().sum()\n",
    "    print(f\"Number of rows with NaN in '{target_col}': {rows_with_nan}\")\n",
    "    print(f\"Number of rows filled: {rows_filled}\")\n",
    "    print(f\"Number of remaining rows with NaN in '{target_col}': {df[target_col].isna().sum()}\")\n",
    "\n",
    "    return (df)\n"
   ]
  },
  {
   "cell_type": "markdown",
   "metadata": {
    "id": "BPF_6Bgf7lZ5"
   },
   "source": [
    "##**Calculating Hand Number**##"
   ]
  },
  {
   "cell_type": "code",
   "execution_count": 287,
   "metadata": {
    "executionInfo": {
     "elapsed": 3,
     "status": "ok",
     "timestamp": 1721372217080,
     "user": {
      "displayName": "Lior Israeli",
      "userId": "03269243767798062339"
     },
     "user_tz": -180
    },
    "id": "EL_YyVGe7r4w"
   },
   "outputs": [],
   "source": [
    "def add_hand_no_col (df, mode, df_other):\n",
    "\n",
    "  print(f\"\\ncAlculate and Add hand no column\")\n",
    "  print(f\"Operation mode: {mode}\")\n",
    "\n",
    "  # Sort the DataFrame by 'Machine_ID' and 'Sale_Date'\n",
    "\n",
    "  df = df.sort_values(by=['Machine_ID', 'Sale_Date'])\n",
    "\n",
    "  # Calculate the cumulative count for each 'Machine_ID' to create the 'Hand' column\n",
    "\n",
    "  df['Hand_No'] = df.groupby('Machine_ID').cumcount() + 1\n",
    "\n",
    "  # print (df.head(10))\n",
    "  return (df)"
   ]
  },
  {
   "cell_type": "markdown",
   "metadata": {
    "id": "3ELxpUF3Hi7w"
   },
   "source": [
    "##**Split Columns to features**##"
   ]
  },
  {
   "cell_type": "code",
   "execution_count": 288,
   "metadata": {
    "executionInfo": {
     "elapsed": 3,
     "status": "ok",
     "timestamp": 1721372217080,
     "user": {
      "displayName": "Lior Israeli",
      "userId": "03269243767798062339"
     },
     "user_tz": -180
    },
    "id": "m2b3l1nYNXKc"
   },
   "outputs": [],
   "source": [
    "import pandas as pd\n",
    "\n",
    "def split_text_col(df, col, default_text='None or Unspecified', mode='train', df_other=None):\n",
    "    \"\"\"\n",
    "    Splits a text column into two new features based on the ' - ' delimiter and counts affected rows.\n",
    "\n",
    "    Parameters:\n",
    "    df (pd.DataFrame): The input DataFrame\n",
    "    col (str): The name of the column to split\n",
    "    default_text (str): Default text to use if the column is empty or missing\n",
    "    mode (str): 'train' or 'test'/'validation' mode (currently not used)\n",
    "    df_other (pd.DataFrame): Another DataFrame for test/validation mode (currently not used)\n",
    "\n",
    "    Returns:\n",
    "    tuple: (pd.DataFrame, dict) - The modified DataFrame and a dictionary with row counts\n",
    "    \"\"\"\n",
    "    print(f\"\\nEsplit_text_col\")\n",
    "    print(f\"Operation mode: {mode}\")\n",
    "\n",
    "    if col not in df.columns:\n",
    "        raise ValueError(f\"Column '{col}' not found in the DataFrame\")\n",
    "\n",
    "    # Create new column names\n",
    "    col_part1 = f\"{col}_Part1\"\n",
    "    col_part2 = f\"{col}_Part2\"\n",
    "\n",
    "    # Split the column based on ' - ' delimiter\n",
    "    split_df = df[col].str.split(' - ', n=1, expand=True)\n",
    "\n",
    "    # Count rows before modification\n",
    "    total_rows = len(df)\n",
    "    rows_with_delimiter = (split_df[1].notna()).sum()\n",
    "    rows_without_delimiter = total_rows - rows_with_delimiter\n",
    "\n",
    "    # Assign split results to new columns\n",
    "    df[col_part1] = split_df[0]\n",
    "    df[col_part2] = split_df[1]\n",
    "\n",
    "    # Fill NaN values with the default text\n",
    "    df[col_part1] = df[col_part1].fillna(default_text)\n",
    "    df[col_part2] = df[col_part2].fillna(default_text)\n",
    "\n",
    "    # Strip leading/trailing whitespace\n",
    "    df[col_part1] = df[col_part1].str.strip()\n",
    "    df[col_part2] = df[col_part2].str.strip()\n",
    "\n",
    "    # Prepare the count dictionary\n",
    "    count_dict = {\n",
    "        \"total_rows\": total_rows,\n",
    "        \"rows_with_delimiter\": rows_with_delimiter,\n",
    "        \"rows_without_delimiter\": rows_without_delimiter,\n",
    "        \"rows_with_part1_only\": (df[col_part1] != default_text).sum() - rows_with_delimiter,\n",
    "        \"rows_with_default_text\": (df[col_part1] == default_text).sum()\n",
    "    }\n",
    "    print (f\"\\n Count Dictionary: {count_dict}\")\n",
    "\n",
    "    #return df, count_dict\n",
    "    return df\n",
    "\n",
    "# Example usage:\n",
    "# df, counts = split_text_col(df, 'Fi_Product_Class_Desc')\n",
    "# print(counts)"
   ]
  },
  {
   "cell_type": "markdown",
   "metadata": {
    "id": "oz7EAy6ybUUP"
   },
   "source": [
    "##**Encode Categorial Variables**##"
   ]
  },
  {
   "cell_type": "code",
   "execution_count": 289,
   "metadata": {
    "executionInfo": {
     "elapsed": 3,
     "status": "ok",
     "timestamp": 1721372217080,
     "user": {
      "displayName": "Lior Israeli",
      "userId": "03269243767798062339"
     },
     "user_tz": -180
    },
    "id": "tqONCdecj3qp"
   },
   "outputs": [],
   "source": [
    "def encode_numeric_cat_codes(df, columns_list, mode, df_other):\n",
    "\n",
    "    print(f\"\\nEncode categorical columns to numeric codes with specific handling for special values\")\n",
    "    print(f\"Operation mode: {mode}\")\n",
    "    df_out = df.copy()\n",
    "\n",
    "    for col in columns_list:\n",
    "      if col in df_out.columns:\n",
    "        print(f\"Processing column: {col}...\")\n",
    "        # Replace 'None or Unspecified' with a temporary placeholder\n",
    "        df_out[col] = df_out[col].replace('None or Unspecified', '-9999_temp')\n",
    "        # df_out[col] = df_out[col].replace('-9999', '-99999_temp')\n",
    "\n",
    "        # Convert the column to categorical and get the codes\n",
    "        #df_out[col] = df_out[col].astype('category').cat.codes.as_ordered()\n",
    "        df_out[col] = df_out[col].astype('category').cat.codes\n",
    "      else:\n",
    "        print(f\"Column: {col} is not in DF. Skipped.\")\n",
    "    return df_out"
   ]
  },
  {
   "cell_type": "code",
   "execution_count": 290,
   "metadata": {
    "executionInfo": {
     "elapsed": 3,
     "status": "ok",
     "timestamp": 1721372217080,
     "user": {
      "displayName": "Lior Israeli",
      "userId": "03269243767798062339"
     },
     "user_tz": -180
    },
    "id": "S21sbyeIGF6s"
   },
   "outputs": [],
   "source": [
    "import pandas as pd\n",
    "\n",
    "def encode_numeric_cat_codes_old1(df, columns_list, mode, df_other):\n",
    "    \"\"\"\n",
    "    Encode categorical columns to numeric codes, with specific handling for special values.\n",
    "\n",
    "    Parameters:\n",
    "    df (pd.DataFrame): The dataframe to encode.\n",
    "    columns_list (list): List of columns to encode.\n",
    "    mode (str): Operation mode ('train' or 'test').\n",
    "    df_other (pd.DataFrame): Another dataframe for reference (used in 'test' mode).\n",
    "\n",
    "    Returns:\n",
    "    pd.DataFrame: The dataframe with encoded columns.\n",
    "    \"\"\"\n",
    "    print(f\"\\nEncode categorical columns to numeric codes with specific handling for special values\")\n",
    "    print(f\"Operation mode: {mode}\")\n",
    "    df_out = df.copy()\n",
    "\n",
    "    special_values = {\n",
    "        '-1': -1,\n",
    "        'None or Unspecified': -1,\n",
    "        'None or Unspecified2': -2,\n",
    "        'None or Unspecified3': -3,\n",
    "        'None or Unspecified4': -4\n",
    "    }\n",
    "\n",
    "    for col in columns_list:\n",
    "        print(f\"Processing column: {col}\")\n",
    "\n",
    "        # Replace special values with temporary placeholders\n",
    "        for i, (value, code) in enumerate(special_values.items()):\n",
    "            placeholder = f'ZZZZZZZZ_temp_{i}'\n",
    "            df_out[col] = df_out[col].replace(value, placeholder)\n",
    "\n",
    "        # Convert the column to categorical and get the codes\n",
    "        df_out[col] = pd.Categorical(df_out[col]).cat.as_ordered()\n",
    "\n",
    "        # Replace the placeholders with their respective codes\n",
    "        for i, code in enumerate(special_values.values()):\n",
    "            placeholder = f'ZZZZZZZZ_temp_{i}'\n",
    "            placeholder_code = df_out[col].astype('category').cat.codes.max() - i  # Assumes placeholders get highest codes\n",
    "            df_out[col] = df_out[col].replace(placeholder_code, code)\n",
    "\n",
    "        # Print summary\n",
    "        print(f\"Unique values in {col} after encoding: {df_out[col].nunique()}\")\n",
    "        print(f\"Column {col} codes summary:\\n{df_out[col].value_counts().sort_index()}\")\n",
    "\n",
    "    print(\"\\nEncoding complete.\\n\")\n",
    "    return df_out\n",
    "\n",
    "# Example usage\n",
    "# df = encode_numeric_cat_codes(df, columns_list, mode='train', df_other=None)"
   ]
  },
  {
   "cell_type": "code",
   "execution_count": 291,
   "metadata": {
    "executionInfo": {
     "elapsed": 3,
     "status": "ok",
     "timestamp": 1721372217080,
     "user": {
      "displayName": "Lior Israeli",
      "userId": "03269243767798062339"
     },
     "user_tz": -180
    },
    "id": "ta7FH_BJHfUZ"
   },
   "outputs": [],
   "source": [
    "import pandas as pd\n",
    "\n",
    "def encode_numeric_cat_codes_old2(df, columns_list, mode, df_other):\n",
    "    \"\"\"\n",
    "    Encode categorical columns to numeric codes, with specific handling for special values.\n",
    "\n",
    "    Parameters:\n",
    "    df (pd.DataFrame): The dataframe to encode.\n",
    "    columns_list (list): List of columns to encode.\n",
    "    mode (str): Operation mode ('train' or 'test').\n",
    "    df_other (pd.DataFrame): Another dataframe for reference (used in 'test' mode).\n",
    "\n",
    "    Returns:\n",
    "    pd.DataFrame: The dataframe with encoded columns.\n",
    "    \"\"\"\n",
    "    print(f\"\\nEncode categorical columns to numeric codes with specific handling for special values\")\n",
    "    print(f\"Operation mode: {mode}\")\n",
    "    df_out = df.copy()\n",
    "\n",
    "    special_values = {\n",
    "        '-1': -1,\n",
    "        'None or Unspecified': -1,\n",
    "        'None or Unspecified2': -2,\n",
    "        'None or Unspecified3': -3,\n",
    "        'None or Unspecified4': -4\n",
    "    }\n",
    "\n",
    "    for col in columns_list:\n",
    "        print(f\"Processing column: {col}\")\n",
    "\n",
    "        # Replace special values with temporary placeholders\n",
    "        for i, (value, code) in enumerate(special_values.items()):\n",
    "            placeholder = f'ZZZZZZZZ_temp_{i}'\n",
    "            df_out[col] = df_out[col].replace(value, placeholder)\n",
    "\n",
    "        # Convert the column to categorical and get the codes\n",
    "        df_out[col] = pd.Categorical(df_out[col]).cat.as_ordered()\n",
    "\n",
    "        # Replace the placeholders with their respective codes\n",
    "        for i, code in enumerate(special_values.values()):\n",
    "            placeholder = f'ZZZZZZZZ_temp_{i}'\n",
    "            placeholder_code = df_out[col].astype('category').cat.codes.max() - i  # Assumes placeholders get highest codes\n",
    "            df_out[col] = df_out[col].replace(placeholder_code, code)\n",
    "\n",
    "        # Print summary\n",
    "        print(f\"Unique values in {col} after encoding: {df_out[col].nunique()}\")\n",
    "        print(f\"Column {col} codes summary:\\n{df_out[col].value_counts().sort_index()}\")\n",
    "\n",
    "    print(\"\\nEncoding complete.\\n\")\n",
    "    return df_out\n",
    "\n",
    "# Example usage\n",
    "# df = encode_numeric_cat_codes(df, columns_list, mode='train', df_other=None)"
   ]
  },
  {
   "cell_type": "markdown",
   "metadata": {
    "id": "AlnkdHx_eZDC"
   },
   "source": [
    "#**Logic Build**#\n",
    "**The job logic that builds our 3 data frames**  \n",
    "`X_df` parameter will get either one of:\n",
    "\n",
    "- X_train\n",
    "- X_test\n",
    "- X_valid\n",
    "\n",
    "These will be already indexed.  \n",
    "To keep consistency and shape issues from happening,   \n",
    "We are not touching the indexes.\n",
    "\n",
    "**Operational `Mode`**  \n",
    "The job builder and esppecialy it's internal function behaviour strategy, may change according to the operation `mode`\n",
    "\n",
    "operational modes:\n",
    "- train\n",
    "- test\n",
    "- validation\n",
    "\n",
    "**Other Data frame**  \n",
    "On test and validation modes, we creating X predictions data frame.\n",
    "In this process we may need to use X_train data frame as a source that X_test or X_valid will look at when imputing their features.\n",
    "\n",
    "Therefore, `df_other` is an optional parameter."
   ]
  },
  {
   "cell_type": "code",
   "execution_count": 292,
   "metadata": {
    "executionInfo": {
     "elapsed": 2,
     "status": "ok",
     "timestamp": 1721372217080,
     "user": {
      "displayName": "Lior Israeli",
      "userId": "03269243767798062339"
     },
     "user_tz": -180
    },
    "id": "0lDystYBMbl5"
   },
   "outputs": [],
   "source": [
    "def logic_build (X_df, mode, df_other=None):\n",
    "\n",
    "  df3 = X_df.copy()\n",
    "\n",
    "  #-------------------------------------------------------------------\n",
    "  # use for train & validation\n",
    "  # Remove Columns with no Business Value\n",
    "  # Remove One Pair of Two Paired Identical Meaning Features\n",
    "\n",
    "  col =['Product_Group_Desc']\n",
    "  df3 = drop_columns (df3, columns_list=col, mode=mode, df_other=df_other)\n",
    "\n",
    "  #-------------------------------------------------------------------\n",
    "  # use for train & validation\n",
    "  # Date Handling - convert date columns\n",
    "\n",
    "  explore_year_made (df3, mode, df_other)\n",
    "\n",
    "  df3 = convert_date_cols (df3, mode, df_other)\n",
    "  df3 = handle_year_made (df3,25, mode, df_other)\n",
    "  df3 = create_date_features (df3, mode, df_other)\n",
    "\n",
    "  explore_year_made (df3, mode, df_other)\n",
    "\n",
    "  #-------------------------------------------------------------------\n",
    "  # use for train & validation\n",
    "  # Add Hand Number Feature - Subset of Date Handling\n",
    "  df4 = df3.copy()\n",
    "  df4 = add_hand_no_col (df4, mode, df_other)\n",
    "\n",
    "  #--------------------------------------------------------------------\n",
    "  # use for train & validation\n",
    "  # Handle Auctioneer_ID\n",
    "  df5 = df4.copy()\n",
    "\n",
    "  col = ['Auctioneer_ID']  #Float\n",
    "  df5['Auctioneer_ID'] = df5['Auctioneer_ID'].fillna(-9999)\n",
    "  df5['Auctioneer_ID'] = df5['Auctioneer_ID'].round().astype(int)\n",
    "\n",
    "  #df5 = replace_nulls_with_const_text(df5, columns_list=col, default_text='None or Unspecified', missing_col=True, mode=mode, df_other=df_other)\n",
    "\n",
    "  #-------------------------------------------------------------------\n",
    "  # use for train & validation\n",
    "  # Impute Nulls in Text --  Resolve Heirarchies\n",
    "  #\n",
    "  # Replacing Null Values with the column's `most frequent value`\n",
    "  # according to the `column group` list it belngs to\n",
    "  # Define the group columns as a list, and target column for imputation\n",
    "\n",
    "  #---------Heirarchy 1----------\n",
    "  df6 = df5.copy()\n",
    "\n",
    "  col = ['Fi_Base_Model']\n",
    "  df6 = replace_nulls_with_const_text(df6, columns_list=col, default_text='None or Unspecified', missing_col=True, mode=mode, df_other=df_other)\n",
    "\n",
    "  group_cols = ['Fi_Base_Model']\n",
    "  col = 'Fi_Secondary_Desc'\n",
    "  df6 = replace_nulls_with_const_text(df6, columns_list=[col], default_text='None or Unspecified', missing_col=True, mode=mode, df_other=df_other)\n",
    "  df6 = impute_column(df6, col, group_cols, method='mode', missing_col=True, mode=mode, df_other=df_other)\n",
    "\n",
    "\n",
    "  group_cols = ['Fi_Model_Desc']\n",
    "  col = 'Fi_Model_Series'\n",
    "  df6 = replace_nulls_with_const_text(df6, columns_list=[col], default_text='None or Unspecified', missing_col=True, mode=mode, df_other=df_other)\n",
    "  df6[col] = df6[col].replace('#NAME?', 'None or Unspecified2')\n",
    "  df6[col] = convert_scientific_in_column(df6, col)\n",
    "\n",
    "  df6 = impute_column(df6, col, group_cols, method='mode', missing_col=True, mode=mode, df_other=df_other)\n",
    "\n",
    "  #df6 = impute_column(df6, col, group_cols, method='mode', missing_col=True, mode=mode, df_other=df_other)\n",
    "\n",
    "  group_cols = ['Fi_Model_Desc']\n",
    "  col = 'Fi_Model_Descriptor'\n",
    "  df6 = replace_nulls_with_const_text(df6, columns_list=[col], default_text='None or Unspecified', missing_col=True, mode=mode, df_other=df_other)\n",
    "  #df6 = impute_column(df6, col, group_cols, method='mode', missing_col=True, mode=mode, df_other=df_other)\n",
    "\n",
    "    #---------Heirarchy 2----------\n",
    "  group_cols = ['Fi_Base_Model']\n",
    "  col = 'Usage_Band'\n",
    "  df6 = impute_column(df6, col, group_cols, method='mode', missing_col=True, mode=mode, df_other=df_other)\n",
    "  df6 = replace_nulls_with_const_text(df6, columns_list=[col], default_text='None or Unspecified', missing_col=True, mode=mode, df_other=df_other)\n",
    "\n",
    "  #---------Heirarchy 3----------\n",
    "  group_cols = ['Fi_Base_Model']\n",
    "  col = 'Product_Size'\n",
    "  df6 = impute_column(df6, col, group_cols, method='mode', missing_col=True, mode=mode, df_other=df_other)\n",
    "  df6 = replace_nulls_with_const_text(df6, columns_list=[col], default_text='None or Unspecified', missing_col=True, mode=mode, df_other=df_other)\n",
    "\n",
    "\n",
    "  #--------------------------------------------------------------------\n",
    "  # use for train & validation\n",
    "  # Handle Fi_Product_Class_Desc\n",
    "\n",
    "  #---------Heirarchy 4----------\n",
    "  col = 'Product_Group'\n",
    "  df6 = replace_nulls_with_const_text(df6, columns_list=[col], default_text='None or Unspecified', missing_col=True, mode=mode, df_other=df_other)\n",
    "  #df6 = impute_column(df6, col, group_cols, method='mode', missing_col=True, mode=mode, df_other=df_other)\n",
    "\n",
    "  col = 'Fi_Product_Class_Desc'\n",
    "  df6[col] = df6[col].fillna( ' - ')\n",
    "  df6 = split_text_col(df6, col=col, default_text='None or Unspecified', mode=mode, df_other=df_other)\n",
    "\n",
    "  col = 'Fi_Product_Class_Desc_Part1'\n",
    "  df6 = replace_nulls_with_const_text(df6, columns_list=[col], default_text='None or Unspecified', missing_col=True, mode=mode, df_other=df_other)\n",
    "  #df6 = impute_column(df6, col, group_cols, method='mode', missing_col=True, mode=mode, df_other=df_other)\n",
    "\n",
    "  col = 'Fi_Product_Class_Desc_Part2'\n",
    "  df6 = replace_nulls_with_const_text(df6, columns_list=[col], default_text='None or Unspecified', missing_col=True, mode=mode, df_other=df_other)\n",
    "  #df6 = impute_column(df6, col, group_cols, method='mode', missing_col=True, mode=mode, df_other=df_other)\n",
    "\n",
    "\n",
    "  #---------Heirarchy ?----------\n",
    "  # Simple Impuattion with const value\n",
    "\n",
    "  col = 'Enclosure'\n",
    "  df6 = replace_nulls_with_const_text(df6, columns_list=[col], default_text='None or Unspecified', missing_col=True, mode=mode, df_other=df_other)\n",
    "\n",
    "  col = 'Transmission'\n",
    "  df6 = replace_nulls_with_const_text(df6, columns_list=[col], default_text='None or Unspecified', missing_col=True, mode=mode, df_other=df_other)\n",
    "\n",
    "  col = 'Hydraulics'\n",
    "  df6 = replace_nulls_with_const_text(df6, columns_list=[col], default_text='None or Unspecified', missing_col=True, mode=mode, df_other=df_other)\n",
    "\n",
    "  col = 'Steering_Controls'\n",
    "  df6 = replace_nulls_with_const_text(df6, columns_list=[col], default_text='None or Unspecified', missing_col=True, mode=mode, df_other=df_other)\n",
    "\n",
    "  col = 'Fi_Model_Descriptor'\n",
    "  df6 = replace_nulls_with_const_text(df6, columns_list=[col], default_text='None or Unspecified', missing_col=True, mode=mode, df_other=df_other)\n",
    "\n",
    "  # -------------------------------------------------------------------\n",
    "  # use for train & validation\n",
    "  # Handle Machine_Hours_Current_Meter\n",
    "  df7 = df6.copy()\n",
    "\n",
    "  df7 = machine_hours_add_features (df7, mode, df_other)\n",
    "\n",
    "  plot_pair_histograms(df7,\n",
    "                       'Machine_Hours_Current_Meter',\n",
    "                       'Machine_Hours_Current_Meter_Log',\n",
    "                        mode+' Before Change', df_other)\n",
    "\n",
    "  # group_cols = ['Fi_Base_Model', 'Fi_secondary_desc', 'Fi_Model_Series_Fi_Model_Desc']\n",
    "  group_cols = ['Fi_Base_Model']\n",
    "\n",
    "  col = 'Machine_Hours_Current_Meter'\n",
    "  # df7 = impute_numeric_col_mean (df7, col, group_cols, mode, df_other)\n",
    "  df7 = impute_column(df7, col, group_cols, method='mean', missing_col=True, mode=mode, df_other=df_other)\n",
    "  df7[col] = df7[col].round(4)\n",
    "\n",
    "  col = 'Machine_Hours_Current_Meter_Log'\n",
    "  # df7 = impute_numeric_col_mean (df7, col, group_cols, mode, df_other)\n",
    "  df7 = impute_column(df7, col, group_cols, method='mean', missing_col=True, mode=mode, df_other=df_other)\n",
    "  df7[col] = df7[col].round(4)\n",
    "\n",
    "  plot_pair_histograms(df7,\n",
    "                       'Machine_Hours_Current_Meter',\n",
    "                       'Machine_Hours_Current_Meter_Log',\n",
    "                        mode+' After Change', df_other)\n",
    "\n",
    "  #-------------------------------------------------------------------\n",
    "  # use for train & validation\n",
    "  # Handle Tire Size\n",
    "  df8 = df7.copy()\n",
    "  columns_list = ['Tire_Size']\n",
    "  df8 = cleans_tire_size (df8, mode, df_other)\n",
    "\n",
    "\n",
    "  explore_columns (df8, columns_list, mode, df_other)\n",
    "  # weight_avg = calc_weighted_average (df8, 'Tire_Size', mode, df_other)\n",
    "\n",
    "  tire_size =20.5\n",
    "  df8['Tire_Size'] = df8['Tire_Size'].fillna(tire_size)\n",
    "\n",
    "  # weight_avg = calc_weighted_average (df8, 'Tire_Size', mode, df_other)\n",
    "  explore_columns (df8, columns_list, mode, df_other)\n",
    "\n",
    "  df8['Tire_Size'] = df8['Tire_Size'].astype('category')\n",
    "\n",
    "\n",
    "  # Define the group columns as a list, and target column for imputation\n",
    "\n",
    "\n",
    "\n",
    "  #------------------------------------------------------------------------ #use for train and validation\n",
    "  df9=df8.copy()\n",
    "\n",
    "  # Impute Nulls in Text\n",
    "  # Replacing Null Values with constant text for String Object Columns\n",
    "  col =          ['Travel_Controls',\n",
    "                  'Blade_Type',\n",
    "                  'Backhoe_Mounting',\n",
    "                  'Grouser_Type',\n",
    "                  'Pattern_Changer',\n",
    "                  'Thumb',\n",
    "                  'Stick_Length',\n",
    "                  'Undercarriage_Pad_Width',\n",
    "                  'Track_Type',\n",
    "                  'Hydraulics_Flow',\n",
    "                  'Grouser_Tracks',\n",
    "                  'Coupler_System',\n",
    "                  'Coupler',\n",
    "                  'Tip_Control',\n",
    "                  'Scarifier',\n",
    "                  'Ripper',\n",
    "                  'Push_Block',\n",
    "                  'Engine_Horsepower',\n",
    "                  'Enclosure_Type',\n",
    "                  'Blade_Width',\n",
    "                  'Blade_Extension',\n",
    "                  'Turbo_Charged',\n",
    "                  'Stick',\n",
    "                  'Ride_Control',\n",
    "                  'Pad_Type',\n",
    "                  'Forks',\n",
    "                  'Drive_System',\n",
    "                  'Product_Group',\n",
    "                  'Fi_Base_Model',\n",
    "                  'Fi_Model_Desc',\n",
    "                  'Fi_Secondary_Desc',\n",
    "                  'Fi_Model_Descriptor',\n",
    "                  ]\n",
    "  df9 = replace_nulls_with_const_text(df9, columns_list=col, default_text='None or Unspecified', missing_col=True, mode=mode, df_other=df_other)\n",
    "\n",
    "  #----------------------------------------------------------------- #use for train and validation\n",
    "  # Encode Categorial Variables to numeric\n",
    "  df10 = df9.copy() # use for train & validation\n",
    "\n",
    "  columns_list = ['Auctioneer_ID',\n",
    "                  'State',\n",
    "                  'Product_Group',\n",
    "                  'Fi_Product_Class_Desc',\n",
    "                  'Fi_Product_Class_Desc_Part1',\n",
    "                  'Fi_Product_Class_Desc_Part2',\n",
    "                  'Product_Size',\n",
    "                  'Enclosure',\n",
    "                  'Enclosure_Type',\n",
    "                  'Transmission',\n",
    "                  'Hydraulics',\n",
    "                  'Tire_Size',\n",
    "                  'Coupler',\n",
    "                  'Turbo_Charged',\n",
    "                  'Differential_Type',\n",
    "                  'Usage_Band',\n",
    "                  'Turbo_Charged',\n",
    "                  'Blade_Width',\n",
    "                  'Steering_Controls',\n",
    "                  'Push_Block',\n",
    "                  'Ripper',\n",
    "                  'Fi_Model_Series',\n",
    "                  'Track_Type',\n",
    "                  'Blade_Width',\n",
    "                  'Blade_Extension',\n",
    "                  'Thumb',\n",
    "                  'Blade_Type',\n",
    "                  'Forks',\n",
    "                  'Steering_Controls',\n",
    "                  'Fi_Base_Model',\n",
    "                  'Fi_Secondary_Desc',\n",
    "                  'Fi_Model_Descriptor',\n",
    "                  'Drive_System',\n",
    "                  'Pad_Type',\n",
    "                  'Ride_Control',\n",
    "                  'Stick',\n",
    "                  'Tip_Control',\n",
    "                  'Scarifier',\n",
    "                  'Coupler_System',\n",
    "                  'Grouser_Tracks',\n",
    "                  'Hydraulics_Flow',\n",
    "                  'Undercarriage_Pad_Width',\n",
    "                  'Engine_Horsepower',\n",
    "                  'Stick_Length',\n",
    "                  'Pattern_Changer',\n",
    "                  'Grouser_Type',\n",
    "                  'Backhoe_Mounting',\n",
    "                  'Travel_Controls',\n",
    "                  'Fi_Model_Desc',\n",
    "                  'Differential_Type',\n",
    "                ]\n",
    "\n",
    "  df10 = encode_numeric_cat_codes(df10, columns_list, mode, df_other)\n",
    "  for col in columns_list:\n",
    "    if col in df10.columns:\n",
    "      df10[col] = df10[col].astype('category')\n",
    "\n",
    "  X_df_out=df10.copy()   # ready for test phase as other\n",
    "\n",
    "  print(f\"\\nEND OF JOB: {mode}\")\n",
    "\n",
    "  return (X_df_out)\n",
    "\n",
    "\n"
   ]
  },
  {
   "cell_type": "markdown",
   "metadata": {
    "id": "de_AV9ZJfiJ0"
   },
   "source": [
    "#**Data Frames Builder**#\n",
    "\n",
    "**from train.csv:**\n",
    "- Train Data frame\n",
    "  - X_train\n",
    "  - Y_train\n",
    "\n",
    "- Test Data Frame\n",
    "  - X_test\n",
    "  - Y_test\n",
    "\n",
    "**from valid.csv:**\n",
    "- Valid Data Frame\n",
    "  - X_valid\n",
    "  - Y_valid"
   ]
  },
  {
   "cell_type": "code",
   "execution_count": 293,
   "metadata": {
    "colab": {
     "base_uri": "https://localhost:8080/"
    },
    "executionInfo": {
     "elapsed": 8759,
     "status": "ok",
     "timestamp": 1721372225837,
     "user": {
      "displayName": "Lior Israeli",
      "userId": "03269243767798062339"
     },
     "user_tz": -180
    },
    "id": "vUZgwjnBtYXw",
    "outputId": "827908d4-c758-4786-88af-10123fffb6c9"
   },
   "outputs": [
    {
     "name": "stdout",
     "output_type": "stream",
     "text": [
      "\n",
      "Reading CSV file: train.csv...\n"
     ]
    },
    {
     "name": "stderr",
     "output_type": "stream",
     "text": [
      "C:\\Users\\Administrator\\AppData\\Local\\Temp\\2\\ipykernel_10896\\794031095.py:8: DtypeWarning: Columns (13,39,40,41) have mixed types. Specify dtype option on import or set low_memory=False.\n",
      "  df = pd.read_csv(csv_file)\n"
     ]
    },
    {
     "name": "stdout",
     "output_type": "stream",
     "text": [
      "Number of rows in: {csv_file} : {num_rows}\n",
      "\n",
      "Columns Renaimg for consistent naming convenssion...\n",
      "\n",
      "Delete rows with Zero-Value keys\n",
      "Operation mode: None\n",
      "Number of rows in input df: 401125\n",
      "Number of rows in output df: 401123\n",
      "\n",
      "Remove Unconsistent Rows\n",
      "Operation mode: {mode}\n",
      "\n",
      "Delete unconsistent rows per Machine ID Grouping\n",
      "Number of rows input df:401123\n",
      "Number of False Bad values to FILTER: 34896\n",
      "Number of True Good values to STAY: 366227\n",
      "Number of rows output df:366227\n"
     ]
    }
   ],
   "source": [
    "### reading CSV already in storage to a df\n",
    "df = init_df('train.csv')\n",
    "\n",
    "### Preliminary prepation & Cleansing\n",
    "\n",
    "# Naming convensions\n",
    "df = rename_columns(df)   # use for train & test & validation\n",
    "\n",
    "# Remove Zero keys bad rows for:\n",
    "columns_list1 = ['Machine_ID',\n",
    "                 'Model_ID',\n",
    "                 'Sales_ID',\n",
    "                ]\n",
    "df = delete_zero_keys_rows (df, columns_list1) # use for train only\n",
    "\n",
    "# Set Index to keep tracking data process\n",
    "df.set_index('Sales_ID', inplace=True) # use for train & validation\n",
    "\n",
    "# Remove uncosistent rows unconsistent with model_id - The machine ID\n",
    "df = remove_unconsistent_rows (df) # train only\n",
    "\n",
    "# Const parameters\n",
    "fix_random_state = 42\n",
    "\n",
    "#### Splitting X an y Train and Test\n",
    "X = df.drop(columns='Sale_Price')  # these are our \"features\" that we use to predict from\n",
    "\n",
    "# option1 - regular\n",
    "y = df['Sale_Price']               # this is what we want to learn to predict\n",
    "X_train_init, X_test_init, y_train, y_test = train_test_split(X, y, test_size=0.2, random_state=fix_random_state)\n",
    "\n",
    "# option2 - logarythmic transformation prediction.\n",
    "y_log = np.log(df['Sale_Price'])   # this is what we want to learn to predict\n",
    "X_train_init, X_test_init, y_train_log, y_test_log = train_test_split(X, y_log, test_size=0.2, random_state=fix_random_state)\n",
    "\n"
   ]
  },
  {
   "cell_type": "code",
   "execution_count": 294,
   "metadata": {
    "colab": {
     "base_uri": "https://localhost:8080/",
     "height": 1000
    },
    "executionInfo": {
     "elapsed": 81068,
     "status": "ok",
     "timestamp": 1721372306894,
     "user": {
      "displayName": "Lior Israeli",
      "userId": "03269243767798062339"
     },
     "user_tz": -180
    },
    "id": "OQ0j44_8Jw5p",
    "outputId": "1feb6f50-d7b9-4522-f2b0-2316de100fa3"
   },
   "outputs": [
    {
     "name": "stdout",
     "output_type": "stream",
     "text": [
      "\n",
      "Dropping Selected Columns\n",
      "Operation mode: train\n",
      "Number of columns in input df: 51\n",
      "\n",
      "Column: 'Product_Group_Desc' dropped\n",
      "\n",
      "Explore year made\n",
      "Operation mode: train\n",
      "\n",
      "year_made_value_counts: {year_made_value_counts}\n",
      "\n"
     ]
    },
    {
     "data": {
      "image/png": "[encoded data removed]",
      "text/plain": [
       "<Figure size 1200x700 with 1 Axes>"
      ]
     },
     "metadata": {},
     "output_type": "display_data"
    },
    {
     "name": "stdout",
     "output_type": "stream",
     "text": [
      "\n",
      "Convert Date Columns\n",
      "Operation mode: train\n",
      "Converted 'Sale_Date' to datetime.\n",
      "Converted 'Year_Made' to numeric.\n",
      "\n",
      "Handle Year Made Column\n",
      "Operation mode: train\n",
      "Input Dataset Rows: 292981\n",
      "\n",
      "Create Date Features\n",
      "Operation mode: train\n",
      "\n",
      "Column data types and null counts:\n",
      "Machine_Age_Years: int64, Null count: 0\n",
      "Sale_Date_YYYYMM: int64, Null count: 0\n",
      "Sale_Date_YYYY: int64, Null count: 0\n",
      "Sale_Date_MM: int64, Null count: 0\n",
      "Sale_Date_DD: int64, Null count: 0\n",
      "\n",
      "Explore year made\n",
      "Operation mode: train\n",
      "\n",
      "year_made_value_counts: {year_made_value_counts}\n",
      "\n"
     ]
    },
    {
     "data": {
      "image/png": "[encoded data removed]",
      "text/plain": [
       "<Figure size 1200x700 with 1 Axes>"
      ]
     },
     "metadata": {},
     "output_type": "display_data"
    },
    {
     "name": "stdout",
     "output_type": "stream",
     "text": [
      "\n",
      "cAlculate and Add hand no column\n",
      "Operation mode: train\n",
      "\n",
      "Replace null values and blanks of string columns text\n",
      "Operation mode: train\n",
      "\n",
      "Counts of 'None or Unspecified' replacements for each column:\n",
      "\n",
      "Fi_Base_Model: 0\n",
      "\n",
      "Unspecified_count_dict: {'Fi_Base_Model': np.int64(0)}\n",
      "\n",
      "Replace null values and blanks of string columns text\n",
      "Operation mode: train\n",
      "\n",
      "Counts of 'None or Unspecified' replacements for each column:\n",
      "\n",
      "Fi_Secondary_Desc: 97390\n",
      "\n",
      "Unspecified_count_dict: {'Fi_Secondary_Desc': np.int64(97390)}\n",
      "\n",
      "Imputing mode for column: Fi_Secondary_Desc\n",
      "Group columns list: ['Fi_Base_Model']\n",
      "Operation mode: train\n",
      "Adding missing indicator column: True\n",
      "Initial NaN count in 'Fi_Secondary_Desc': 0\n",
      "NaN count after grouping by 'Fi_Base_Model' and imputing in 'Fi_Secondary_Desc': 0\n",
      "Final NaN count in 'Fi_Secondary_Desc': 0\n",
      "\n",
      "Replace null values and blanks of string columns text\n",
      "Operation mode: train\n",
      "\n",
      "Counts of 'None or Unspecified' replacements for each column:\n",
      "\n",
      "Fi_Model_Series: 257694\n",
      "\n",
      "Unspecified_count_dict: {'Fi_Model_Series': np.int64(257694)}\n",
      "\n",
      "Imputing mode for column: Fi_Model_Series\n",
      "Group columns list: ['Fi_Model_Desc']\n",
      "Operation mode: train\n",
      "Adding missing indicator column: True\n",
      "Initial NaN count in 'Fi_Model_Series': 0\n"
     ]
    },
    {
     "name": "stderr",
     "output_type": "stream",
     "text": [
      "C:\\Users\\Administrator\\AppData\\Local\\Temp\\2\\ipykernel_10896\\1018221474.py:76: FutureWarning: Downcasting object dtype arrays on .fillna, .ffill, .bfill is deprecated and will change in a future version. Call result.infer_objects(copy=False) instead. To opt-in to the future behavior, set `pd.set_option('future.no_silent_downcasting', True)`\n",
      "  impute_func = lambda x: x.fillna(x.mode().iloc[0] if not x.mode().empty else np.nan)\n"
     ]
    },
    {
     "name": "stdout",
     "output_type": "stream",
     "text": [
      "NaN count after grouping by 'Fi_Model_Desc' and imputing in 'Fi_Model_Series': 0\n",
      "Final NaN count in 'Fi_Model_Series': 0\n",
      "\n",
      "Replace null values and blanks of string columns text\n",
      "Operation mode: train\n",
      "\n",
      "Counts of 'None or Unspecified' replacements for each column:\n",
      "\n",
      "Fi_Model_Descriptor: 241959\n",
      "\n",
      "Unspecified_count_dict: {'Fi_Model_Descriptor': np.int64(241959)}\n",
      "\n",
      "Imputing mode for column: Usage_Band\n",
      "Group columns list: ['Fi_Base_Model']\n",
      "Operation mode: train\n",
      "Adding missing indicator column: True\n",
      "Initial NaN count in 'Usage_Band': 242595\n"
     ]
    },
    {
     "name": "stderr",
     "output_type": "stream",
     "text": [
      "C:\\Users\\Administrator\\AppData\\Local\\Temp\\2\\ipykernel_10896\\1018221474.py:76: FutureWarning: Downcasting object dtype arrays on .fillna, .ffill, .bfill is deprecated and will change in a future version. Call result.infer_objects(copy=False) instead. To opt-in to the future behavior, set `pd.set_option('future.no_silent_downcasting', True)`\n",
      "  impute_func = lambda x: x.fillna(x.mode().iloc[0] if not x.mode().empty else np.nan)\n"
     ]
    },
    {
     "name": "stdout",
     "output_type": "stream",
     "text": [
      "NaN count after grouping by 'Fi_Base_Model' and imputing in 'Usage_Band': 4453\n",
      "Final NaN count in 'Usage_Band': 0\n",
      "\n",
      "Replace null values and blanks of string columns text\n",
      "Operation mode: train\n",
      "\n",
      "Counts of 'None or Unspecified' replacements for each column:\n",
      "\n",
      "Usage_Band: 0\n",
      "\n",
      "Unspecified_count_dict: {'Usage_Band': np.int64(0)}\n",
      "\n",
      "Imputing mode for column: Product_Size\n",
      "Group columns list: ['Fi_Base_Model']\n",
      "Operation mode: train\n",
      "Adding missing indicator column: True\n",
      "Initial NaN count in 'Product_Size': 156559\n"
     ]
    },
    {
     "name": "stderr",
     "output_type": "stream",
     "text": [
      "C:\\Users\\Administrator\\AppData\\Local\\Temp\\2\\ipykernel_10896\\1018221474.py:76: FutureWarning: Downcasting object dtype arrays on .fillna, .ffill, .bfill is deprecated and will change in a future version. Call result.infer_objects(copy=False) instead. To opt-in to the future behavior, set `pd.set_option('future.no_silent_downcasting', True)`\n",
      "  impute_func = lambda x: x.fillna(x.mode().iloc[0] if not x.mode().empty else np.nan)\n"
     ]
    },
    {
     "name": "stdout",
     "output_type": "stream",
     "text": [
      "NaN count after grouping by 'Fi_Base_Model' and imputing in 'Product_Size': 116735\n",
      "Final NaN count in 'Product_Size': 0\n",
      "\n",
      "Replace null values and blanks of string columns text\n",
      "Operation mode: train\n",
      "\n",
      "Counts of 'None or Unspecified' replacements for each column:\n",
      "\n",
      "Product_Size: 0\n",
      "\n",
      "Unspecified_count_dict: {'Product_Size': np.int64(0)}\n",
      "\n",
      "Replace null values and blanks of string columns text\n",
      "Operation mode: train\n",
      "\n",
      "Counts of 'None or Unspecified' replacements for each column:\n",
      "\n",
      "Product_Group: 0\n",
      "\n",
      "Unspecified_count_dict: {'Product_Group': np.int64(0)}\n",
      "\n",
      "Esplit_text_col\n",
      "Operation mode: train\n",
      "\n",
      " Count Dictionary: {'total_rows': 292981, 'rows_with_delimiter': np.int64(292981), 'rows_without_delimiter': np.int64(0), 'rows_with_part1_only': np.int64(0), 'rows_with_default_text': np.int64(0)}\n",
      "\n",
      "Replace null values and blanks of string columns text\n",
      "Operation mode: train\n",
      "\n",
      "Counts of 'None or Unspecified' replacements for each column:\n",
      "\n",
      "Fi_Product_Class_Desc_Part1: 0\n",
      "\n",
      "Unspecified_count_dict: {'Fi_Product_Class_Desc_Part1': np.int64(0)}\n",
      "\n",
      "Replace null values and blanks of string columns text\n",
      "Operation mode: train\n",
      "\n",
      "Counts of 'None or Unspecified' replacements for each column:\n",
      "\n",
      "Fi_Product_Class_Desc_Part2: 0\n",
      "\n",
      "Unspecified_count_dict: {'Fi_Product_Class_Desc_Part2': np.int64(0)}\n",
      "\n",
      "Replace null values and blanks of string columns text\n",
      "Operation mode: train\n",
      "\n",
      "Counts of 'None or Unspecified' replacements for each column:\n",
      "\n",
      "Enclosure: 128\n",
      "\n",
      "Unspecified_count_dict: {'Enclosure': np.int64(128)}\n",
      "\n",
      "Replace null values and blanks of string columns text\n",
      "Operation mode: train\n",
      "\n",
      "Counts of 'None or Unspecified' replacements for each column:\n",
      "\n",
      "Transmission: 156327\n",
      "\n",
      "Unspecified_count_dict: {'Transmission': np.int64(156327)}\n",
      "\n",
      "Replace null values and blanks of string columns text\n",
      "Operation mode: train\n",
      "\n",
      "Counts of 'None or Unspecified' replacements for each column:\n",
      "\n",
      "Hydraulics: 60998\n",
      "\n",
      "Unspecified_count_dict: {'Hydraulics': np.int64(60998)}\n",
      "\n",
      "Replace null values and blanks of string columns text\n",
      "Operation mode: train\n",
      "\n",
      "Counts of 'None or Unspecified' replacements for each column:\n",
      "\n",
      "Steering_Controls: 241352\n",
      "\n",
      "Unspecified_count_dict: {'Steering_Controls': np.int64(241352)}\n",
      "\n",
      "Replace null values and blanks of string columns text\n",
      "Operation mode: train\n",
      "\n",
      "Counts of 'None or Unspecified' replacements for each column:\n",
      "\n",
      "Fi_Model_Descriptor: 0\n",
      "\n",
      "Unspecified_count_dict: {'Fi_Model_Descriptor': np.int64(0)}\n",
      "\n",
      "Explore machine hours current meter\n",
      "Operation mode: train\n"
     ]
    },
    {
     "name": "stderr",
     "output_type": "stream",
     "text": [
      "C:\\Users\\Administrator\\AppData\\Local\\Temp\\2\\ipykernel_10896\\325981396.py:11: FutureWarning: A value is trying to be set on a copy of a DataFrame or Series through chained assignment using an inplace method.\n",
      "The behavior will change in pandas 3.0. This inplace method will never work because the intermediate object on which we are setting values always behaves as a copy.\n",
      "\n",
      "For example, when doing 'df[col].method(value, inplace=True)', try using 'df.method({col: value}, inplace=True)' or df[col] = df[col].method(value) instead, to perform the operation inplace on the original object.\n",
      "\n",
      "\n",
      "  df['Machine_Hours_Current_Meter'].replace(-1, np.nan, inplace=True)\n",
      "C:\\Users\\Administrator\\AppData\\Local\\Temp\\2\\ipykernel_10896\\325981396.py:20: FutureWarning: A value is trying to be set on a copy of a DataFrame or Series through chained assignment using an inplace method.\n",
      "The behavior will change in pandas 3.0. This inplace method will never work because the intermediate object on which we are setting values always behaves as a copy.\n",
      "\n",
      "For example, when doing 'df[col].method(value, inplace=True)', try using 'df.method({col: value}, inplace=True)' or df[col] = df[col].method(value) instead, to perform the operation inplace on the original object.\n",
      "\n",
      "\n",
      "  df['Machine_Hours_Current_Meter_Log'].replace(-1, np.nan, inplace=True)\n"
     ]
    },
    {
     "name": "stdout",
     "output_type": "stream",
     "text": [
      "\n",
      "Plot pair histograms for comparing values\n",
      "Operation mode: train Before Change\n"
     ]
    },
    {
     "data": {
      "image/png": "[encoded data removed]",
      "text/plain": [
       "<Figure size 1400x600 with 2 Axes>"
      ]
     },
     "metadata": {},
     "output_type": "display_data"
    },
    {
     "name": "stdout",
     "output_type": "stream",
     "text": [
      "\n",
      "Imputing mean for column: Machine_Hours_Current_Meter\n",
      "Group columns list: ['Fi_Base_Model']\n",
      "Operation mode: train\n",
      "Adding missing indicator column: True\n",
      "Initial NaN count in 'Machine_Hours_Current_Meter': 242595\n",
      "NaN count after grouping by 'Fi_Base_Model' and imputing in 'Machine_Hours_Current_Meter': 4453\n",
      "Final NaN count in 'Machine_Hours_Current_Meter': 0\n",
      "\n",
      "Imputing mean for column: Machine_Hours_Current_Meter_Log\n",
      "Group columns list: ['Fi_Base_Model']\n",
      "Operation mode: train\n",
      "Adding missing indicator column: True\n",
      "Initial NaN count in 'Machine_Hours_Current_Meter_Log': 242595\n",
      "NaN count after grouping by 'Fi_Base_Model' and imputing in 'Machine_Hours_Current_Meter_Log': 4453\n",
      "Final NaN count in 'Machine_Hours_Current_Meter_Log': 0\n",
      "\n",
      "Plot pair histograms for comparing values\n",
      "Operation mode: train After Change\n"
     ]
    },
    {
     "data": {
      "image/png": "[encoded data removed]",
      "text/plain": [
       "<Figure size 1400x600 with 2 Axes>"
      ]
     },
     "metadata": {},
     "output_type": "display_data"
    },
    {
     "name": "stdout",
     "output_type": "stream",
     "text": [
      "\n",
      "Cleans_tire_size\n",
      "Operation mode: train\n",
      "\n",
      "Replace null values and blanks of string columns text\n",
      "Operation mode: train\n",
      "\n",
      "Counts of 'None or Unspecified' replacements for each column:\n",
      "\n",
      "Tire_Size: 222137\n",
      "\n",
      "Unspecified_count_dict: {'Tire_Size': np.int64(222137)}\n",
      "\n",
      "Removing double quotes from 'Tire_Size' column...\n",
      "\n",
      "Replacing 'None or Unspecified' with NaN in 'Tire_Size' column...\n",
      "\n",
      "Converting {col} column to float...\n",
      "Tire_Size\n",
      "NaN          257526\n",
      "20.5          11560\n",
      "14.0           6570\n",
      "23.5           6519\n",
      "17.5           4173\n",
      "26.5           3283\n",
      "29.5           1961\n",
      "15.5            778\n",
      "13.0            576\n",
      "23.1             16\n",
      "7.0              15\n",
      "10.0              4\n",
      "Name: count, dtype: int64\n"
     ]
    },
    {
     "data": {
      "image/png": "[encoded data removed]",
      "text/plain": [
       "<Figure size 2000x500 with 5 Axes>"
      ]
     },
     "metadata": {},
     "output_type": "display_data"
    },
    {
     "name": "stdout",
     "output_type": "stream",
     "text": [
      "Tire_Size\n",
      "20.5         269086\n",
      "14.0           6570\n",
      "23.5           6519\n",
      "17.5           4173\n",
      "26.5           3283\n",
      "29.5           1961\n",
      "15.5            778\n",
      "13.0            576\n",
      "23.1             16\n",
      "7.0              15\n",
      "10.0              4\n",
      "Name: count, dtype: int64\n"
     ]
    },
    {
     "data": {
      "image/png": "[encoded data removed]",
      "text/plain": [
       "<Figure size 2000x500 with 5 Axes>"
      ]
     },
     "metadata": {},
     "output_type": "display_data"
    },
    {
     "name": "stdout",
     "output_type": "stream",
     "text": [
      "\n",
      "Replace null values and blanks of string columns text\n",
      "Operation mode: train\n",
      "\n",
      "Counts of 'None or Unspecified' replacements for each column:\n",
      "\n",
      "Travel_Controls: 235596\n",
      "Blade_Type: 235596\n",
      "Backhoe_Mounting: 235946\n",
      "Grouser_Type: 222350\n",
      "Pattern_Changer: 222319\n",
      "Thumb: 222290\n",
      "Stick_Length: 222319\n",
      "Undercarriage_Pad_Width: 222102\n",
      "Track_Type: 222350\n",
      "Hydraulics_Flow: 260693\n",
      "Grouser_Tracks: 260693\n",
      "Coupler_System: 260669\n",
      "Coupler: 137943\n",
      "Tip_Control: 273829\n",
      "Scarifier: 273821\n",
      "Ripper: 216679\n",
      "Push_Block: 273829\n",
      "Engine_Horsepower: 273829\n",
      "Enclosure_Type: 273829\n",
      "Blade_Width: 273829\n",
      "Blade_Extension: 273829\n",
      "Turbo_Charged: 232567\n",
      "Stick: 232567\n",
      "Ride_Control: 180932\n",
      "Pad_Type: 232567\n",
      "Forks: 148602\n",
      "Drive_System: 213414\n",
      "Product_Group: 0\n",
      "Fi_Base_Model: 0\n",
      "Fi_Model_Desc: 0\n",
      "Fi_Secondary_Desc: 0\n",
      "Fi_Model_Descriptor: 0\n",
      "\n",
      "Unspecified_count_dict: {'Travel_Controls': np.int64(235596), 'Blade_Type': np.int64(235596), 'Backhoe_Mounting': np.int64(235946), 'Grouser_Type': np.int64(222350), 'Pattern_Changer': np.int64(222319), 'Thumb': np.int64(222290), 'Stick_Length': np.int64(222319), 'Undercarriage_Pad_Width': np.int64(222102), 'Track_Type': np.int64(222350), 'Hydraulics_Flow': np.int64(260693), 'Grouser_Tracks': np.int64(260693), 'Coupler_System': np.int64(260669), 'Coupler': np.int64(137943), 'Tip_Control': np.int64(273829), 'Scarifier': np.int64(273821), 'Ripper': np.int64(216679), 'Push_Block': np.int64(273829), 'Engine_Horsepower': np.int64(273829), 'Enclosure_Type': np.int64(273829), 'Blade_Width': np.int64(273829), 'Blade_Extension': np.int64(273829), 'Turbo_Charged': np.int64(232567), 'Stick': np.int64(232567), 'Ride_Control': np.int64(180932), 'Pad_Type': np.int64(232567), 'Forks': np.int64(148602), 'Drive_System': np.int64(213414), 'Product_Group': np.int64(0), 'Fi_Base_Model': np.int64(0), 'Fi_Model_Desc': np.int64(0), 'Fi_Secondary_Desc': np.int64(0), 'Fi_Model_Descriptor': np.int64(0)}\n",
      "\n",
      "Encode categorical columns to numeric codes with specific handling for special values\n",
      "Operation mode: train\n",
      "Processing column: Auctioneer_ID...\n",
      "Processing column: State...\n",
      "Processing column: Product_Group...\n",
      "Processing column: Fi_Product_Class_Desc...\n",
      "Processing column: Fi_Product_Class_Desc_Part1...\n",
      "Processing column: Fi_Product_Class_Desc_Part2...\n",
      "Processing column: Product_Size...\n",
      "Processing column: Enclosure...\n",
      "Processing column: Enclosure_Type...\n",
      "Processing column: Transmission...\n",
      "Processing column: Hydraulics...\n",
      "Processing column: Tire_Size...\n",
      "Processing column: Coupler...\n",
      "Processing column: Turbo_Charged...\n",
      "Processing column: Differential_Type...\n",
      "Processing column: Usage_Band...\n",
      "Processing column: Turbo_Charged...\n",
      "Processing column: Blade_Width...\n",
      "Processing column: Steering_Controls...\n",
      "Processing column: Push_Block...\n",
      "Processing column: Ripper...\n",
      "Processing column: Fi_Model_Series...\n",
      "Processing column: Track_Type...\n",
      "Processing column: Blade_Width...\n",
      "Processing column: Blade_Extension...\n",
      "Processing column: Thumb...\n",
      "Processing column: Blade_Type...\n",
      "Processing column: Forks...\n",
      "Processing column: Steering_Controls...\n",
      "Processing column: Fi_Base_Model...\n",
      "Processing column: Fi_Secondary_Desc...\n",
      "Processing column: Fi_Model_Descriptor...\n",
      "Processing column: Drive_System...\n",
      "Processing column: Pad_Type...\n",
      "Processing column: Ride_Control...\n",
      "Processing column: Stick...\n",
      "Processing column: Tip_Control...\n",
      "Processing column: Scarifier...\n",
      "Processing column: Coupler_System...\n",
      "Processing column: Grouser_Tracks...\n",
      "Processing column: Hydraulics_Flow...\n",
      "Processing column: Undercarriage_Pad_Width...\n",
      "Processing column: Engine_Horsepower...\n",
      "Processing column: Stick_Length...\n",
      "Processing column: Pattern_Changer...\n",
      "Processing column: Grouser_Type...\n",
      "Processing column: Backhoe_Mounting...\n",
      "Processing column: Travel_Controls...\n",
      "Processing column: Fi_Model_Desc...\n",
      "Processing column: Differential_Type...\n",
      "\n",
      "END OF JOB: train\n"
     ]
    }
   ],
   "source": [
    "# Build X train\n",
    "X_train = logic_build (X_train_init, mode='train', df_other=None)"
   ]
  },
  {
   "cell_type": "code",
   "execution_count": 295,
   "metadata": {},
   "outputs": [
    {
     "name": "stdout",
     "output_type": "stream",
     "text": [
      "Length of Sale_Price list is: 292981\n",
      "Length of df is: 292981\n",
      "DataFrame saved to Xy_train-2024-07-19_1931.csv\n",
      "DataFrame saved to Xy_train-2024-07-19_1931.zip\n"
     ]
    }
   ],
   "source": [
    "# Backup Xy train\n",
    "Xy_train = stich_df_to_list (X_train, y_train, \"Sale_Price\")\n",
    "save_df_as_file (Xy_train, 'Xy_train')"
   ]
  },
  {
   "cell_type": "code",
   "execution_count": 296,
   "metadata": {
    "colab": {
     "base_uri": "https://localhost:8080/",
     "height": 1000
    },
    "executionInfo": {
     "elapsed": 30612,
     "status": "ok",
     "timestamp": 1721372337494,
     "user": {
      "displayName": "Lior Israeli",
      "userId": "03269243767798062339"
     },
     "user_tz": -180
    },
    "id": "CEcSEvVKg7Bs",
    "outputId": "ab552db0-2717-454d-c47a-d0e040af7f71"
   },
   "outputs": [
    {
     "name": "stdout",
     "output_type": "stream",
     "text": [
      "\n",
      "Dropping Selected Columns\n",
      "Operation mode: test\n",
      "Number of columns in input df: 51\n",
      "\n",
      "Column: 'Product_Group_Desc' dropped\n",
      "\n",
      "Explore year made\n",
      "Operation mode: test\n",
      "\n",
      "year_made_value_counts: {year_made_value_counts}\n",
      "\n"
     ]
    },
    {
     "data": {
      "image/png": "[encoded data removed]",
      "text/plain": [
       "<Figure size 1200x700 with 1 Axes>"
      ]
     },
     "metadata": {},
     "output_type": "display_data"
    },
    {
     "name": "stdout",
     "output_type": "stream",
     "text": [
      "\n",
      "Convert Date Columns\n",
      "Operation mode: test\n",
      "Converted 'Sale_Date' to datetime.\n",
      "Converted 'Year_Made' to numeric.\n",
      "\n",
      "Handle Year Made Column\n",
      "Operation mode: test\n",
      "Input Dataset Rows: 73246\n",
      "\n",
      "Create Date Features\n",
      "Operation mode: test\n",
      "\n",
      "Column data types and null counts:\n",
      "Machine_Age_Years: int64, Null count: 0\n",
      "Sale_Date_YYYYMM: int64, Null count: 0\n",
      "Sale_Date_YYYY: int64, Null count: 0\n",
      "Sale_Date_MM: int64, Null count: 0\n",
      "Sale_Date_DD: int64, Null count: 0\n",
      "\n",
      "Explore year made\n",
      "Operation mode: test\n",
      "\n",
      "year_made_value_counts: {year_made_value_counts}\n",
      "\n"
     ]
    },
    {
     "data": {
      "image/png": "[encoded data removed]",
      "text/plain": [
       "<Figure size 1200x700 with 1 Axes>"
      ]
     },
     "metadata": {},
     "output_type": "display_data"
    },
    {
     "name": "stdout",
     "output_type": "stream",
     "text": [
      "\n",
      "cAlculate and Add hand no column\n",
      "Operation mode: test\n",
      "\n",
      "Replace null values and blanks of string columns text\n",
      "Operation mode: test\n",
      "\n",
      "Counts of 'None or Unspecified' replacements for each column:\n",
      "\n",
      "Fi_Base_Model: 0\n",
      "\n",
      "Unspecified_count_dict: {'Fi_Base_Model': np.int64(0)}\n",
      "\n",
      "Replace null values and blanks of string columns text\n",
      "Operation mode: test\n",
      "\n",
      "Counts of 'None or Unspecified' replacements for each column:\n",
      "\n",
      "Fi_Secondary_Desc: 24291\n",
      "\n",
      "Unspecified_count_dict: {'Fi_Secondary_Desc': np.int64(24291)}\n",
      "\n",
      "Imputing mode for column: Fi_Secondary_Desc\n",
      "Group columns list: ['Fi_Base_Model']\n",
      "Operation mode: test\n",
      "Adding missing indicator column: True\n",
      "Initial NaN count in 'Fi_Secondary_Desc': 0\n"
     ]
    },
    {
     "name": "stderr",
     "output_type": "stream",
     "text": [
      "C:\\Users\\Administrator\\AppData\\Local\\Temp\\2\\ipykernel_10896\\1018221474.py:80: FutureWarning: The default of observed=False is deprecated and will be changed to True in a future version of pandas. Pass observed=False to retain current behavior or observed=True to adopt the future default and silence this warning.\n",
      "  mask = look_at_df.groupby(level)[col].transform(impute_func)\n"
     ]
    },
    {
     "name": "stdout",
     "output_type": "stream",
     "text": [
      "NaN count after grouping by 'Fi_Base_Model' and imputing in 'Fi_Secondary_Desc': 0\n",
      "Final NaN count in 'Fi_Secondary_Desc': 0\n",
      "\n",
      "Replace null values and blanks of string columns text\n",
      "Operation mode: test\n",
      "\n",
      "Counts of 'None or Unspecified' replacements for each column:\n",
      "\n",
      "Fi_Model_Series: 64559\n",
      "\n",
      "Unspecified_count_dict: {'Fi_Model_Series': np.int64(64559)}\n",
      "\n",
      "Imputing mode for column: Fi_Model_Series\n",
      "Group columns list: ['Fi_Model_Desc']\n",
      "Operation mode: test\n",
      "Adding missing indicator column: True\n",
      "Initial NaN count in 'Fi_Model_Series': 0\n"
     ]
    },
    {
     "name": "stderr",
     "output_type": "stream",
     "text": [
      "C:\\Users\\Administrator\\AppData\\Local\\Temp\\2\\ipykernel_10896\\1018221474.py:80: FutureWarning: The default of observed=False is deprecated and will be changed to True in a future version of pandas. Pass observed=False to retain current behavior or observed=True to adopt the future default and silence this warning.\n",
      "  mask = look_at_df.groupby(level)[col].transform(impute_func)\n"
     ]
    },
    {
     "name": "stdout",
     "output_type": "stream",
     "text": [
      "NaN count after grouping by 'Fi_Model_Desc' and imputing in 'Fi_Model_Series': 0\n",
      "Final NaN count in 'Fi_Model_Series': 0\n",
      "\n",
      "Replace null values and blanks of string columns text\n",
      "Operation mode: test\n",
      "\n",
      "Counts of 'None or Unspecified' replacements for each column:\n",
      "\n",
      "Fi_Model_Descriptor: 60427\n",
      "\n",
      "Unspecified_count_dict: {'Fi_Model_Descriptor': np.int64(60427)}\n",
      "\n",
      "Imputing mode for column: Usage_Band\n",
      "Group columns list: ['Fi_Base_Model']\n",
      "Operation mode: test\n",
      "Adding missing indicator column: True\n",
      "Initial NaN count in 'Usage_Band': 60707\n"
     ]
    },
    {
     "name": "stderr",
     "output_type": "stream",
     "text": [
      "C:\\Users\\Administrator\\AppData\\Local\\Temp\\2\\ipykernel_10896\\1018221474.py:80: FutureWarning: The default of observed=False is deprecated and will be changed to True in a future version of pandas. Pass observed=False to retain current behavior or observed=True to adopt the future default and silence this warning.\n",
      "  mask = look_at_df.groupby(level)[col].transform(impute_func)\n"
     ]
    },
    {
     "name": "stdout",
     "output_type": "stream",
     "text": [
      "NaN count after grouping by 'Fi_Base_Model' and imputing in 'Usage_Band': 60707\n",
      "Final NaN count in 'Usage_Band': 0\n",
      "\n",
      "Replace null values and blanks of string columns text\n",
      "Operation mode: test\n",
      "\n",
      "Counts of 'None or Unspecified' replacements for each column:\n",
      "\n",
      "Usage_Band: 0\n",
      "\n",
      "Unspecified_count_dict: {'Usage_Band': np.int64(0)}\n",
      "\n",
      "Imputing mode for column: Product_Size\n",
      "Group columns list: ['Fi_Base_Model']\n",
      "Operation mode: test\n",
      "Adding missing indicator column: True\n",
      "Initial NaN count in 'Product_Size': 39432\n"
     ]
    },
    {
     "name": "stderr",
     "output_type": "stream",
     "text": [
      "C:\\Users\\Administrator\\AppData\\Local\\Temp\\2\\ipykernel_10896\\1018221474.py:80: FutureWarning: The default of observed=False is deprecated and will be changed to True in a future version of pandas. Pass observed=False to retain current behavior or observed=True to adopt the future default and silence this warning.\n",
      "  mask = look_at_df.groupby(level)[col].transform(impute_func)\n"
     ]
    },
    {
     "name": "stdout",
     "output_type": "stream",
     "text": [
      "NaN count after grouping by 'Fi_Base_Model' and imputing in 'Product_Size': 39432\n",
      "Final NaN count in 'Product_Size': 0\n",
      "\n",
      "Replace null values and blanks of string columns text\n",
      "Operation mode: test\n",
      "\n",
      "Counts of 'None or Unspecified' replacements for each column:\n",
      "\n",
      "Product_Size: 0\n",
      "\n",
      "Unspecified_count_dict: {'Product_Size': np.int64(0)}\n",
      "\n",
      "Replace null values and blanks of string columns text\n",
      "Operation mode: test\n",
      "\n",
      "Counts of 'None or Unspecified' replacements for each column:\n",
      "\n",
      "Product_Group: 0\n",
      "\n",
      "Unspecified_count_dict: {'Product_Group': np.int64(0)}\n",
      "\n",
      "Esplit_text_col\n",
      "Operation mode: test\n",
      "\n",
      " Count Dictionary: {'total_rows': 73246, 'rows_with_delimiter': np.int64(73246), 'rows_without_delimiter': np.int64(0), 'rows_with_part1_only': np.int64(0), 'rows_with_default_text': np.int64(0)}\n",
      "\n",
      "Replace null values and blanks of string columns text\n",
      "Operation mode: test\n",
      "\n",
      "Counts of 'None or Unspecified' replacements for each column:\n",
      "\n",
      "Fi_Product_Class_Desc_Part1: 0\n",
      "\n",
      "Unspecified_count_dict: {'Fi_Product_Class_Desc_Part1': np.int64(0)}\n",
      "\n",
      "Replace null values and blanks of string columns text\n",
      "Operation mode: test\n",
      "\n",
      "Counts of 'None or Unspecified' replacements for each column:\n",
      "\n",
      "Fi_Product_Class_Desc_Part2: 0\n",
      "\n",
      "Unspecified_count_dict: {'Fi_Product_Class_Desc_Part2': np.int64(0)}\n",
      "\n",
      "Replace null values and blanks of string columns text\n",
      "Operation mode: test\n",
      "\n",
      "Counts of 'None or Unspecified' replacements for each column:\n",
      "\n",
      "Enclosure: 41\n",
      "\n",
      "Unspecified_count_dict: {'Enclosure': np.int64(41)}\n",
      "\n",
      "Replace null values and blanks of string columns text\n",
      "Operation mode: test\n",
      "\n",
      "Counts of 'None or Unspecified' replacements for each column:\n",
      "\n",
      "Transmission: 38892\n",
      "\n",
      "Unspecified_count_dict: {'Transmission': np.int64(38892)}\n",
      "\n",
      "Replace null values and blanks of string columns text\n",
      "Operation mode: test\n",
      "\n",
      "Counts of 'None or Unspecified' replacements for each column:\n",
      "\n",
      "Hydraulics: 15321\n",
      "\n",
      "Unspecified_count_dict: {'Hydraulics': np.int64(15321)}\n",
      "\n",
      "Replace null values and blanks of string columns text\n",
      "Operation mode: test\n",
      "\n",
      "Counts of 'None or Unspecified' replacements for each column:\n",
      "\n",
      "Steering_Controls: 60447\n",
      "\n",
      "Unspecified_count_dict: {'Steering_Controls': np.int64(60447)}\n",
      "\n",
      "Replace null values and blanks of string columns text\n",
      "Operation mode: test\n",
      "\n",
      "Counts of 'None or Unspecified' replacements for each column:\n",
      "\n",
      "Fi_Model_Descriptor: 0\n",
      "\n",
      "Unspecified_count_dict: {'Fi_Model_Descriptor': np.int64(0)}\n",
      "\n",
      "Explore machine hours current meter\n",
      "Operation mode: test\n",
      "\n",
      "Plot pair histograms for comparing values\n",
      "Operation mode: test Before Change\n"
     ]
    },
    {
     "name": "stderr",
     "output_type": "stream",
     "text": [
      "C:\\Users\\Administrator\\AppData\\Local\\Temp\\2\\ipykernel_10896\\325981396.py:11: FutureWarning: A value is trying to be set on a copy of a DataFrame or Series through chained assignment using an inplace method.\n",
      "The behavior will change in pandas 3.0. This inplace method will never work because the intermediate object on which we are setting values always behaves as a copy.\n",
      "\n",
      "For example, when doing 'df[col].method(value, inplace=True)', try using 'df.method({col: value}, inplace=True)' or df[col] = df[col].method(value) instead, to perform the operation inplace on the original object.\n",
      "\n",
      "\n",
      "  df['Machine_Hours_Current_Meter'].replace(-1, np.nan, inplace=True)\n",
      "C:\\Users\\Administrator\\AppData\\Local\\Temp\\2\\ipykernel_10896\\325981396.py:20: FutureWarning: A value is trying to be set on a copy of a DataFrame or Series through chained assignment using an inplace method.\n",
      "The behavior will change in pandas 3.0. This inplace method will never work because the intermediate object on which we are setting values always behaves as a copy.\n",
      "\n",
      "For example, when doing 'df[col].method(value, inplace=True)', try using 'df.method({col: value}, inplace=True)' or df[col] = df[col].method(value) instead, to perform the operation inplace on the original object.\n",
      "\n",
      "\n",
      "  df['Machine_Hours_Current_Meter_Log'].replace(-1, np.nan, inplace=True)\n"
     ]
    },
    {
     "data": {
      "image/png": "[encoded data removed]",
      "text/plain": [
       "<Figure size 1400x600 with 2 Axes>"
      ]
     },
     "metadata": {},
     "output_type": "display_data"
    },
    {
     "name": "stdout",
     "output_type": "stream",
     "text": [
      "\n",
      "Imputing mean for column: Machine_Hours_Current_Meter\n",
      "Group columns list: ['Fi_Base_Model']\n",
      "Operation mode: test\n",
      "Adding missing indicator column: True\n",
      "Initial NaN count in 'Machine_Hours_Current_Meter': 60707\n"
     ]
    },
    {
     "name": "stderr",
     "output_type": "stream",
     "text": [
      "C:\\Users\\Administrator\\AppData\\Local\\Temp\\2\\ipykernel_10896\\1018221474.py:80: FutureWarning: The default of observed=False is deprecated and will be changed to True in a future version of pandas. Pass observed=False to retain current behavior or observed=True to adopt the future default and silence this warning.\n",
      "  mask = look_at_df.groupby(level)[col].transform(impute_func)\n"
     ]
    },
    {
     "name": "stdout",
     "output_type": "stream",
     "text": [
      "NaN count after grouping by 'Fi_Base_Model' and imputing in 'Machine_Hours_Current_Meter': 60707\n",
      "Final NaN count in 'Machine_Hours_Current_Meter': 0\n",
      "\n",
      "Imputing mean for column: Machine_Hours_Current_Meter_Log\n",
      "Group columns list: ['Fi_Base_Model']\n",
      "Operation mode: test\n",
      "Adding missing indicator column: True\n",
      "Initial NaN count in 'Machine_Hours_Current_Meter_Log': 60707\n"
     ]
    },
    {
     "name": "stderr",
     "output_type": "stream",
     "text": [
      "C:\\Users\\Administrator\\AppData\\Local\\Temp\\2\\ipykernel_10896\\1018221474.py:80: FutureWarning: The default of observed=False is deprecated and will be changed to True in a future version of pandas. Pass observed=False to retain current behavior or observed=True to adopt the future default and silence this warning.\n",
      "  mask = look_at_df.groupby(level)[col].transform(impute_func)\n"
     ]
    },
    {
     "name": "stdout",
     "output_type": "stream",
     "text": [
      "NaN count after grouping by 'Fi_Base_Model' and imputing in 'Machine_Hours_Current_Meter_Log': 60707\n",
      "Final NaN count in 'Machine_Hours_Current_Meter_Log': 0\n",
      "\n",
      "Plot pair histograms for comparing values\n",
      "Operation mode: test After Change\n"
     ]
    },
    {
     "data": {
      "image/png": "[encoded data removed]",
      "text/plain": [
       "<Figure size 1400x600 with 2 Axes>"
      ]
     },
     "metadata": {},
     "output_type": "display_data"
    },
    {
     "name": "stdout",
     "output_type": "stream",
     "text": [
      "\n",
      "Cleans_tire_size\n",
      "Operation mode: test\n",
      "\n",
      "Replace null values and blanks of string columns text\n",
      "Operation mode: test\n",
      "\n",
      "Counts of 'None or Unspecified' replacements for each column:\n",
      "\n",
      "Tire_Size: 55634\n",
      "\n",
      "Unspecified_count_dict: {'Tire_Size': np.int64(55634)}\n",
      "\n",
      "Removing double quotes from 'Tire_Size' column...\n",
      "\n",
      "Replacing 'None or Unspecified' with NaN in 'Tire_Size' column...\n",
      "\n",
      "Converting {col} column to float...\n",
      "Tire_Size\n",
      "NaN          64519\n",
      "20.5          2829\n",
      "14.0          1669\n",
      "23.5          1630\n",
      "17.5           991\n",
      "26.5           791\n",
      "29.5           475\n",
      "15.5           210\n",
      "13.0           126\n",
      "10.0             2\n",
      "7.0              2\n",
      "23.1             2\n",
      "Name: count, dtype: int64\n"
     ]
    },
    {
     "data": {
      "image/png": "[encoded data removed]",
      "text/plain": [
       "<Figure size 2000x500 with 5 Axes>"
      ]
     },
     "metadata": {},
     "output_type": "display_data"
    },
    {
     "name": "stdout",
     "output_type": "stream",
     "text": [
      "Tire_Size\n",
      "20.5         67348\n",
      "14.0          1669\n",
      "23.5          1630\n",
      "17.5           991\n",
      "26.5           791\n",
      "29.5           475\n",
      "15.5           210\n",
      "13.0           126\n",
      "7.0              2\n",
      "10.0             2\n",
      "23.1             2\n",
      "Name: count, dtype: int64\n"
     ]
    },
    {
     "data": {
      "image/png": "[encoded data removed]",
      "text/plain": [
       "<Figure size 2000x500 with 5 Axes>"
      ]
     },
     "metadata": {},
     "output_type": "display_data"
    },
    {
     "name": "stdout",
     "output_type": "stream",
     "text": [
      "\n",
      "Replace null values and blanks of string columns text\n",
      "Operation mode: test\n",
      "\n",
      "Counts of 'None or Unspecified' replacements for each column:\n",
      "\n",
      "Travel_Controls: 58781\n",
      "Blade_Type: 58782\n",
      "Backhoe_Mounting: 58851\n",
      "Grouser_Type: 55915\n",
      "Pattern_Changer: 55910\n",
      "Thumb: 55904\n",
      "Stick_Length: 55910\n",
      "Undercarriage_Pad_Width: 55850\n",
      "Track_Type: 55915\n",
      "Hydraulics_Flow: 64930\n",
      "Grouser_Tracks: 64930\n",
      "Coupler_System: 64921\n",
      "Coupler: 34662\n",
      "Tip_Control: 68455\n",
      "Scarifier: 68455\n",
      "Ripper: 54041\n",
      "Push_Block: 68455\n",
      "Engine_Horsepower: 68455\n",
      "Enclosure_Type: 68455\n",
      "Blade_Width: 68455\n",
      "Blade_Extension: 68455\n",
      "Turbo_Charged: 58086\n",
      "Stick: 58086\n",
      "Ride_Control: 45288\n",
      "Pad_Type: 58086\n",
      "Forks: 36963\n",
      "Drive_System: 53294\n",
      "Product_Group: 0\n",
      "Fi_Base_Model: 0\n",
      "Fi_Model_Desc: 0\n",
      "Fi_Secondary_Desc: 0\n",
      "Fi_Model_Descriptor: 0\n",
      "\n",
      "Unspecified_count_dict: {'Travel_Controls': np.int64(58781), 'Blade_Type': np.int64(58782), 'Backhoe_Mounting': np.int64(58851), 'Grouser_Type': np.int64(55915), 'Pattern_Changer': np.int64(55910), 'Thumb': np.int64(55904), 'Stick_Length': np.int64(55910), 'Undercarriage_Pad_Width': np.int64(55850), 'Track_Type': np.int64(55915), 'Hydraulics_Flow': np.int64(64930), 'Grouser_Tracks': np.int64(64930), 'Coupler_System': np.int64(64921), 'Coupler': np.int64(34662), 'Tip_Control': np.int64(68455), 'Scarifier': np.int64(68455), 'Ripper': np.int64(54041), 'Push_Block': np.int64(68455), 'Engine_Horsepower': np.int64(68455), 'Enclosure_Type': np.int64(68455), 'Blade_Width': np.int64(68455), 'Blade_Extension': np.int64(68455), 'Turbo_Charged': np.int64(58086), 'Stick': np.int64(58086), 'Ride_Control': np.int64(45288), 'Pad_Type': np.int64(58086), 'Forks': np.int64(36963), 'Drive_System': np.int64(53294), 'Product_Group': np.int64(0), 'Fi_Base_Model': np.int64(0), 'Fi_Model_Desc': np.int64(0), 'Fi_Secondary_Desc': np.int64(0), 'Fi_Model_Descriptor': np.int64(0)}\n",
      "\n",
      "Encode categorical columns to numeric codes with specific handling for special values\n",
      "Operation mode: test\n",
      "Processing column: Auctioneer_ID...\n",
      "Processing column: State...\n",
      "Processing column: Product_Group...\n",
      "Processing column: Fi_Product_Class_Desc...\n",
      "Processing column: Fi_Product_Class_Desc_Part1...\n",
      "Processing column: Fi_Product_Class_Desc_Part2...\n",
      "Processing column: Product_Size...\n",
      "Processing column: Enclosure...\n",
      "Processing column: Enclosure_Type...\n",
      "Processing column: Transmission...\n",
      "Processing column: Hydraulics...\n",
      "Processing column: Tire_Size...\n",
      "Processing column: Coupler...\n",
      "Processing column: Turbo_Charged...\n",
      "Processing column: Differential_Type...\n",
      "Processing column: Usage_Band...\n",
      "Processing column: Turbo_Charged...\n",
      "Processing column: Blade_Width...\n",
      "Processing column: Steering_Controls...\n",
      "Processing column: Push_Block...\n",
      "Processing column: Ripper...\n",
      "Processing column: Fi_Model_Series...\n",
      "Processing column: Track_Type...\n",
      "Processing column: Blade_Width...\n",
      "Processing column: Blade_Extension...\n",
      "Processing column: Thumb...\n",
      "Processing column: Blade_Type...\n",
      "Processing column: Forks...\n",
      "Processing column: Steering_Controls...\n",
      "Processing column: Fi_Base_Model...\n",
      "Processing column: Fi_Secondary_Desc...\n",
      "Processing column: Fi_Model_Descriptor...\n",
      "Processing column: Drive_System...\n",
      "Processing column: Pad_Type...\n",
      "Processing column: Ride_Control...\n",
      "Processing column: Stick...\n",
      "Processing column: Tip_Control...\n",
      "Processing column: Scarifier...\n",
      "Processing column: Coupler_System...\n",
      "Processing column: Grouser_Tracks...\n",
      "Processing column: Hydraulics_Flow...\n",
      "Processing column: Undercarriage_Pad_Width...\n",
      "Processing column: Engine_Horsepower...\n",
      "Processing column: Stick_Length...\n",
      "Processing column: Pattern_Changer...\n",
      "Processing column: Grouser_Type...\n",
      "Processing column: Backhoe_Mounting...\n",
      "Processing column: Travel_Controls...\n",
      "Processing column: Fi_Model_Desc...\n",
      "Processing column: Differential_Type...\n",
      "\n",
      "END OF JOB: test\n"
     ]
    }
   ],
   "source": [
    "### Build X test\n",
    "X_test  = logic_build (X_test_init, mode='test', df_other=X_train)"
   ]
  },
  {
   "cell_type": "code",
   "execution_count": 297,
   "metadata": {},
   "outputs": [
    {
     "name": "stdout",
     "output_type": "stream",
     "text": [
      "Length of Sale_Price list is: 73246\n",
      "Length of df is: 73246\n",
      "DataFrame saved to Xy_test-2024-07-19_1932.csv\n",
      "DataFrame saved to Xy_test-2024-07-19_1932.zip\n"
     ]
    }
   ],
   "source": [
    "# Backup Xy test\n",
    "Xy_test = stich_df_to_list (X_test, y_test, \"Sale_Price\")\n",
    "save_df_as_file (Xy_test, 'Xy_test')"
   ]
  },
  {
   "cell_type": "code",
   "execution_count": 298,
   "metadata": {
    "colab": {
     "base_uri": "https://localhost:8080/",
     "height": 1000
    },
    "executionInfo": {
     "elapsed": 15374,
     "status": "ok",
     "timestamp": 1721372352858,
     "user": {
      "displayName": "Lior Israeli",
      "userId": "03269243767798062339"
     },
     "user_tz": -180
    },
    "id": "O1CdZDWwY-4k",
    "outputId": "78e697a2-98a2-48f4-f138-6d460dd6e109"
   },
   "outputs": [
    {
     "name": "stdout",
     "output_type": "stream",
     "text": [
      "\n",
      "Reading CSV file: valid.csv...\n",
      "Number of rows in: {csv_file} : {num_rows}\n",
      "\n",
      "Columns Renaimg for consistent naming convenssion...\n",
      "\n",
      "Dropping Selected Columns\n",
      "Operation mode: validation\n",
      "Number of columns in input df: 51\n",
      "\n",
      "Column: 'Product_Group_Desc' dropped\n",
      "\n",
      "Explore year made\n",
      "Operation mode: validation\n",
      "\n",
      "year_made_value_counts: {year_made_value_counts}\n",
      "\n"
     ]
    },
    {
     "data": {
      "image/png": "[encoded data removed]",
      "text/plain": [
       "<Figure size 1200x700 with 1 Axes>"
      ]
     },
     "metadata": {},
     "output_type": "display_data"
    },
    {
     "name": "stdout",
     "output_type": "stream",
     "text": [
      "\n",
      "Convert Date Columns\n",
      "Operation mode: validation\n",
      "Converted 'Sale_Date' to datetime.\n",
      "Converted 'Year_Made' to numeric.\n",
      "\n",
      "Handle Year Made Column\n",
      "Operation mode: validation\n",
      "Input Dataset Rows: 11573\n",
      "\n",
      "Create Date Features\n",
      "Operation mode: validation\n",
      "\n",
      "Column data types and null counts:\n",
      "Machine_Age_Years: int64, Null count: 0\n",
      "Sale_Date_YYYYMM: int64, Null count: 0\n",
      "Sale_Date_YYYY: int64, Null count: 0\n",
      "Sale_Date_MM: int64, Null count: 0\n",
      "Sale_Date_DD: int64, Null count: 0\n",
      "\n",
      "Explore year made\n",
      "Operation mode: validation\n",
      "\n",
      "year_made_value_counts: {year_made_value_counts}\n",
      "\n"
     ]
    },
    {
     "data": {
      "image/png": "[encoded data removed]",
      "text/plain": [
       "<Figure size 1200x700 with 1 Axes>"
      ]
     },
     "metadata": {},
     "output_type": "display_data"
    },
    {
     "name": "stdout",
     "output_type": "stream",
     "text": [
      "\n",
      "cAlculate and Add hand no column\n",
      "Operation mode: validation\n",
      "\n",
      "Replace null values and blanks of string columns text\n",
      "Operation mode: validation\n",
      "\n",
      "Counts of 'None or Unspecified' replacements for each column:\n",
      "\n",
      "Fi_Base_Model: 0\n",
      "\n",
      "Unspecified_count_dict: {'Fi_Base_Model': np.int64(0)}\n",
      "\n",
      "Replace null values and blanks of string columns text\n",
      "Operation mode: validation\n",
      "\n",
      "Counts of 'None or Unspecified' replacements for each column:\n",
      "\n",
      "Fi_Secondary_Desc: 3536\n",
      "\n",
      "Unspecified_count_dict: {'Fi_Secondary_Desc': np.int64(3536)}\n",
      "\n",
      "Imputing mode for column: Fi_Secondary_Desc\n",
      "Group columns list: ['Fi_Base_Model']\n",
      "Operation mode: validation\n",
      "Adding missing indicator column: True\n",
      "Initial NaN count in 'Fi_Secondary_Desc': 0\n"
     ]
    },
    {
     "name": "stderr",
     "output_type": "stream",
     "text": [
      "C:\\Users\\Administrator\\AppData\\Local\\Temp\\2\\ipykernel_10896\\1018221474.py:80: FutureWarning: The default of observed=False is deprecated and will be changed to True in a future version of pandas. Pass observed=False to retain current behavior or observed=True to adopt the future default and silence this warning.\n",
      "  mask = look_at_df.groupby(level)[col].transform(impute_func)\n"
     ]
    },
    {
     "name": "stdout",
     "output_type": "stream",
     "text": [
      "NaN count after grouping by 'Fi_Base_Model' and imputing in 'Fi_Secondary_Desc': 0\n",
      "Final NaN count in 'Fi_Secondary_Desc': 0\n",
      "\n",
      "Replace null values and blanks of string columns text\n",
      "Operation mode: validation\n",
      "\n",
      "Counts of 'None or Unspecified' replacements for each column:\n",
      "\n",
      "Fi_Model_Series: 9814\n",
      "\n",
      "Unspecified_count_dict: {'Fi_Model_Series': np.int64(9814)}\n",
      "\n",
      "Imputing mode for column: Fi_Model_Series\n",
      "Group columns list: ['Fi_Model_Desc']\n",
      "Operation mode: validation\n",
      "Adding missing indicator column: True\n",
      "Initial NaN count in 'Fi_Model_Series': 0\n"
     ]
    },
    {
     "name": "stderr",
     "output_type": "stream",
     "text": [
      "C:\\Users\\Administrator\\AppData\\Local\\Temp\\2\\ipykernel_10896\\1018221474.py:80: FutureWarning: The default of observed=False is deprecated and will be changed to True in a future version of pandas. Pass observed=False to retain current behavior or observed=True to adopt the future default and silence this warning.\n",
      "  mask = look_at_df.groupby(level)[col].transform(impute_func)\n"
     ]
    },
    {
     "name": "stdout",
     "output_type": "stream",
     "text": [
      "NaN count after grouping by 'Fi_Model_Desc' and imputing in 'Fi_Model_Series': 0\n",
      "Final NaN count in 'Fi_Model_Series': 0\n",
      "\n",
      "Replace null values and blanks of string columns text\n",
      "Operation mode: validation\n",
      "\n",
      "Counts of 'None or Unspecified' replacements for each column:\n",
      "\n",
      "Fi_Model_Descriptor: 8676\n",
      "\n",
      "Unspecified_count_dict: {'Fi_Model_Descriptor': np.int64(8676)}\n",
      "\n",
      "Imputing mode for column: Usage_Band\n",
      "Group columns list: ['Fi_Base_Model']\n",
      "Operation mode: validation\n",
      "Adding missing indicator column: True\n",
      "Initial NaN count in 'Usage_Band': 7542\n"
     ]
    },
    {
     "name": "stderr",
     "output_type": "stream",
     "text": [
      "C:\\Users\\Administrator\\AppData\\Local\\Temp\\2\\ipykernel_10896\\1018221474.py:80: FutureWarning: The default of observed=False is deprecated and will be changed to True in a future version of pandas. Pass observed=False to retain current behavior or observed=True to adopt the future default and silence this warning.\n",
      "  mask = look_at_df.groupby(level)[col].transform(impute_func)\n"
     ]
    },
    {
     "name": "stdout",
     "output_type": "stream",
     "text": [
      "NaN count after grouping by 'Fi_Base_Model' and imputing in 'Usage_Band': 7542\n",
      "Final NaN count in 'Usage_Band': 0\n",
      "\n",
      "Replace null values and blanks of string columns text\n",
      "Operation mode: validation\n",
      "\n",
      "Counts of 'None or Unspecified' replacements for each column:\n",
      "\n",
      "Usage_Band: 0\n",
      "\n",
      "Unspecified_count_dict: {'Usage_Band': np.int64(0)}\n",
      "\n",
      "Imputing mode for column: Product_Size\n",
      "Group columns list: ['Fi_Base_Model']\n",
      "Operation mode: validation\n",
      "Adding missing indicator column: True\n",
      "Initial NaN count in 'Product_Size': 5830\n"
     ]
    },
    {
     "name": "stderr",
     "output_type": "stream",
     "text": [
      "C:\\Users\\Administrator\\AppData\\Local\\Temp\\2\\ipykernel_10896\\1018221474.py:80: FutureWarning: The default of observed=False is deprecated and will be changed to True in a future version of pandas. Pass observed=False to retain current behavior or observed=True to adopt the future default and silence this warning.\n",
      "  mask = look_at_df.groupby(level)[col].transform(impute_func)\n"
     ]
    },
    {
     "name": "stdout",
     "output_type": "stream",
     "text": [
      "NaN count after grouping by 'Fi_Base_Model' and imputing in 'Product_Size': 5830\n",
      "Final NaN count in 'Product_Size': 0\n",
      "\n",
      "Replace null values and blanks of string columns text\n",
      "Operation mode: validation\n",
      "\n",
      "Counts of 'None or Unspecified' replacements for each column:\n",
      "\n",
      "Product_Size: 0\n",
      "\n",
      "Unspecified_count_dict: {'Product_Size': np.int64(0)}\n",
      "\n",
      "Replace null values and blanks of string columns text\n",
      "Operation mode: validation\n",
      "\n",
      "Counts of 'None or Unspecified' replacements for each column:\n",
      "\n",
      "Product_Group: 0\n",
      "\n",
      "Unspecified_count_dict: {'Product_Group': np.int64(0)}\n",
      "\n",
      "Esplit_text_col\n",
      "Operation mode: validation\n",
      "\n",
      " Count Dictionary: {'total_rows': 11573, 'rows_with_delimiter': np.int64(11573), 'rows_without_delimiter': np.int64(0), 'rows_with_part1_only': np.int64(0), 'rows_with_default_text': np.int64(0)}\n",
      "\n",
      "Replace null values and blanks of string columns text\n",
      "Operation mode: validation\n",
      "\n",
      "Counts of 'None or Unspecified' replacements for each column:\n",
      "\n",
      "Fi_Product_Class_Desc_Part1: 0\n",
      "\n",
      "Unspecified_count_dict: {'Fi_Product_Class_Desc_Part1': np.int64(0)}\n",
      "\n",
      "Replace null values and blanks of string columns text\n",
      "Operation mode: validation\n",
      "\n",
      "Counts of 'None or Unspecified' replacements for each column:\n",
      "\n",
      "Fi_Product_Class_Desc_Part2: 0\n",
      "\n",
      "Unspecified_count_dict: {'Fi_Product_Class_Desc_Part2': np.int64(0)}\n",
      "\n",
      "Replace null values and blanks of string columns text\n",
      "Operation mode: validation\n",
      "\n",
      "Counts of 'None or Unspecified' replacements for each column:\n",
      "\n",
      "Enclosure: 9\n",
      "\n",
      "Unspecified_count_dict: {'Enclosure': np.int64(9)}\n",
      "\n",
      "Replace null values and blanks of string columns text\n",
      "Operation mode: validation\n",
      "\n",
      "Counts of 'None or Unspecified' replacements for each column:\n",
      "\n",
      "Transmission: 6796\n",
      "\n",
      "Unspecified_count_dict: {'Transmission': np.int64(6796)}\n",
      "\n",
      "Replace null values and blanks of string columns text\n",
      "Operation mode: validation\n",
      "\n",
      "Counts of 'None or Unspecified' replacements for each column:\n",
      "\n",
      "Hydraulics: 2010\n",
      "\n",
      "Unspecified_count_dict: {'Hydraulics': np.int64(2010)}\n",
      "\n",
      "Replace null values and blanks of string columns text\n",
      "Operation mode: validation\n",
      "\n",
      "Counts of 'None or Unspecified' replacements for each column:\n",
      "\n",
      "Steering_Controls: 9420\n",
      "\n",
      "Unspecified_count_dict: {'Steering_Controls': np.int64(9420)}\n",
      "\n",
      "Replace null values and blanks of string columns text\n",
      "Operation mode: validation\n",
      "\n",
      "Counts of 'None or Unspecified' replacements for each column:\n",
      "\n",
      "Fi_Model_Descriptor: 0\n",
      "\n",
      "Unspecified_count_dict: {'Fi_Model_Descriptor': np.int64(0)}\n",
      "\n",
      "Explore machine hours current meter\n",
      "Operation mode: validation\n",
      "\n",
      "Plot pair histograms for comparing values\n",
      "Operation mode: validation Before Change\n"
     ]
    },
    {
     "name": "stderr",
     "output_type": "stream",
     "text": [
      "C:\\Users\\Administrator\\AppData\\Local\\Temp\\2\\ipykernel_10896\\325981396.py:11: FutureWarning: A value is trying to be set on a copy of a DataFrame or Series through chained assignment using an inplace method.\n",
      "The behavior will change in pandas 3.0. This inplace method will never work because the intermediate object on which we are setting values always behaves as a copy.\n",
      "\n",
      "For example, when doing 'df[col].method(value, inplace=True)', try using 'df.method({col: value}, inplace=True)' or df[col] = df[col].method(value) instead, to perform the operation inplace on the original object.\n",
      "\n",
      "\n",
      "  df['Machine_Hours_Current_Meter'].replace(-1, np.nan, inplace=True)\n",
      "C:\\Users\\Administrator\\AppData\\Local\\Temp\\2\\ipykernel_10896\\325981396.py:20: FutureWarning: A value is trying to be set on a copy of a DataFrame or Series through chained assignment using an inplace method.\n",
      "The behavior will change in pandas 3.0. This inplace method will never work because the intermediate object on which we are setting values always behaves as a copy.\n",
      "\n",
      "For example, when doing 'df[col].method(value, inplace=True)', try using 'df.method({col: value}, inplace=True)' or df[col] = df[col].method(value) instead, to perform the operation inplace on the original object.\n",
      "\n",
      "\n",
      "  df['Machine_Hours_Current_Meter_Log'].replace(-1, np.nan, inplace=True)\n"
     ]
    },
    {
     "data": {
      "image/png": "[encoded data removed]",
      "text/plain": [
       "<Figure size 1400x600 with 2 Axes>"
      ]
     },
     "metadata": {},
     "output_type": "display_data"
    },
    {
     "name": "stdout",
     "output_type": "stream",
     "text": [
      "\n",
      "Imputing mean for column: Machine_Hours_Current_Meter\n",
      "Group columns list: ['Fi_Base_Model']\n",
      "Operation mode: validation\n",
      "Adding missing indicator column: True\n",
      "Initial NaN count in 'Machine_Hours_Current_Meter': 7542\n"
     ]
    },
    {
     "name": "stderr",
     "output_type": "stream",
     "text": [
      "C:\\Users\\Administrator\\AppData\\Local\\Temp\\2\\ipykernel_10896\\1018221474.py:80: FutureWarning: The default of observed=False is deprecated and will be changed to True in a future version of pandas. Pass observed=False to retain current behavior or observed=True to adopt the future default and silence this warning.\n",
      "  mask = look_at_df.groupby(level)[col].transform(impute_func)\n"
     ]
    },
    {
     "name": "stdout",
     "output_type": "stream",
     "text": [
      "NaN count after grouping by 'Fi_Base_Model' and imputing in 'Machine_Hours_Current_Meter': 7542\n",
      "Final NaN count in 'Machine_Hours_Current_Meter': 0\n",
      "\n",
      "Imputing mean for column: Machine_Hours_Current_Meter_Log\n",
      "Group columns list: ['Fi_Base_Model']\n",
      "Operation mode: validation\n",
      "Adding missing indicator column: True\n",
      "Initial NaN count in 'Machine_Hours_Current_Meter_Log': 7542\n"
     ]
    },
    {
     "name": "stderr",
     "output_type": "stream",
     "text": [
      "C:\\Users\\Administrator\\AppData\\Local\\Temp\\2\\ipykernel_10896\\1018221474.py:80: FutureWarning: The default of observed=False is deprecated and will be changed to True in a future version of pandas. Pass observed=False to retain current behavior or observed=True to adopt the future default and silence this warning.\n",
      "  mask = look_at_df.groupby(level)[col].transform(impute_func)\n"
     ]
    },
    {
     "name": "stdout",
     "output_type": "stream",
     "text": [
      "NaN count after grouping by 'Fi_Base_Model' and imputing in 'Machine_Hours_Current_Meter_Log': 7542\n",
      "Final NaN count in 'Machine_Hours_Current_Meter_Log': 0\n",
      "\n",
      "Plot pair histograms for comparing values\n",
      "Operation mode: validation After Change\n"
     ]
    },
    {
     "data": {
      "image/png": "[encoded data removed]",
      "text/plain": [
       "<Figure size 1400x600 with 2 Axes>"
      ]
     },
     "metadata": {},
     "output_type": "display_data"
    },
    {
     "name": "stdout",
     "output_type": "stream",
     "text": [
      "\n",
      "Cleans_tire_size\n",
      "Operation mode: validation\n",
      "\n",
      "Replace null values and blanks of string columns text\n",
      "Operation mode: validation\n",
      "\n",
      "Counts of 'None or Unspecified' replacements for each column:\n",
      "\n",
      "Tire_Size: 8653\n",
      "\n",
      "Unspecified_count_dict: {'Tire_Size': np.int64(8653)}\n",
      "\n",
      "Removing double quotes from 'Tire_Size' column...\n",
      "\n",
      "Replacing 'None or Unspecified' with NaN in 'Tire_Size' column...\n",
      "\n",
      "Converting {col} column to float...\n",
      "Tire_Size\n",
      "NaN          10137\n",
      "20.5           550\n",
      "14.0           298\n",
      "23.5           287\n",
      "26.5           153\n",
      "29.5            63\n",
      "17.5            61\n",
      "13.0            10\n",
      "15.5             9\n",
      "7.0              4\n",
      "10.0             1\n",
      "Name: count, dtype: int64\n"
     ]
    },
    {
     "data": {
      "image/png": "[encoded data removed]",
      "text/plain": [
       "<Figure size 2000x500 with 5 Axes>"
      ]
     },
     "metadata": {},
     "output_type": "display_data"
    },
    {
     "name": "stdout",
     "output_type": "stream",
     "text": [
      "Tire_Size\n",
      "20.5         10687\n",
      "14.0           298\n",
      "23.5           287\n",
      "26.5           153\n",
      "29.5            63\n",
      "17.5            61\n",
      "13.0            10\n",
      "15.5             9\n",
      "7.0              4\n",
      "10.0             1\n",
      "Name: count, dtype: int64\n"
     ]
    },
    {
     "data": {
      "image/png": "[encoded data removed]",
      "text/plain": [
       "<Figure size 2000x500 with 5 Axes>"
      ]
     },
     "metadata": {},
     "output_type": "display_data"
    },
    {
     "name": "stdout",
     "output_type": "stream",
     "text": [
      "\n",
      "Replace null values and blanks of string columns text\n",
      "Operation mode: validation\n",
      "\n",
      "Counts of 'None or Unspecified' replacements for each column:\n",
      "\n",
      "Travel_Controls: 9530\n",
      "Blade_Type: 9531\n",
      "Backhoe_Mounting: 9533\n",
      "Grouser_Type: 8533\n",
      "Pattern_Changer: 8530\n",
      "Thumb: 8529\n",
      "Stick_Length: 8530\n",
      "Undercarriage_Pad_Width: 8529\n",
      "Track_Type: 8533\n",
      "Hydraulics_Flow: 10060\n",
      "Grouser_Tracks: 10060\n",
      "Coupler_System: 10057\n",
      "Coupler: 4846\n",
      "Tip_Control: 10809\n",
      "Scarifier: 10809\n",
      "Ripper: 8765\n",
      "Push_Block: 10809\n",
      "Engine_Horsepower: 10809\n",
      "Enclosure_Type: 10809\n",
      "Blade_Width: 10809\n",
      "Blade_Extension: 10809\n",
      "Turbo_Charged: 9611\n",
      "Stick: 9611\n",
      "Ride_Control: 7451\n",
      "Pad_Type: 9611\n",
      "Forks: 5935\n",
      "Drive_System: 8847\n",
      "Product_Group: 0\n",
      "Fi_Base_Model: 0\n",
      "Fi_Model_Desc: 0\n",
      "Fi_Secondary_Desc: 0\n",
      "Fi_Model_Descriptor: 0\n",
      "\n",
      "Unspecified_count_dict: {'Travel_Controls': np.int64(9530), 'Blade_Type': np.int64(9531), 'Backhoe_Mounting': np.int64(9533), 'Grouser_Type': np.int64(8533), 'Pattern_Changer': np.int64(8530), 'Thumb': np.int64(8529), 'Stick_Length': np.int64(8530), 'Undercarriage_Pad_Width': np.int64(8529), 'Track_Type': np.int64(8533), 'Hydraulics_Flow': np.int64(10060), 'Grouser_Tracks': np.int64(10060), 'Coupler_System': np.int64(10057), 'Coupler': np.int64(4846), 'Tip_Control': np.int64(10809), 'Scarifier': np.int64(10809), 'Ripper': np.int64(8765), 'Push_Block': np.int64(10809), 'Engine_Horsepower': np.int64(10809), 'Enclosure_Type': np.int64(10809), 'Blade_Width': np.int64(10809), 'Blade_Extension': np.int64(10809), 'Turbo_Charged': np.int64(9611), 'Stick': np.int64(9611), 'Ride_Control': np.int64(7451), 'Pad_Type': np.int64(9611), 'Forks': np.int64(5935), 'Drive_System': np.int64(8847), 'Product_Group': np.int64(0), 'Fi_Base_Model': np.int64(0), 'Fi_Model_Desc': np.int64(0), 'Fi_Secondary_Desc': np.int64(0), 'Fi_Model_Descriptor': np.int64(0)}\n",
      "\n",
      "Encode categorical columns to numeric codes with specific handling for special values\n",
      "Operation mode: validation\n",
      "Processing column: Auctioneer_ID...\n",
      "Processing column: State...\n",
      "Processing column: Product_Group...\n",
      "Processing column: Fi_Product_Class_Desc...\n",
      "Processing column: Fi_Product_Class_Desc_Part1...\n",
      "Processing column: Fi_Product_Class_Desc_Part2...\n",
      "Processing column: Product_Size...\n",
      "Processing column: Enclosure...\n",
      "Processing column: Enclosure_Type...\n",
      "Processing column: Transmission...\n",
      "Processing column: Hydraulics...\n",
      "Processing column: Tire_Size...\n",
      "Processing column: Coupler...\n",
      "Processing column: Turbo_Charged...\n",
      "Processing column: Differential_Type...\n",
      "Processing column: Usage_Band...\n",
      "Processing column: Turbo_Charged...\n",
      "Processing column: Blade_Width...\n",
      "Processing column: Steering_Controls...\n",
      "Processing column: Push_Block...\n",
      "Processing column: Ripper...\n",
      "Processing column: Fi_Model_Series...\n",
      "Processing column: Track_Type...\n",
      "Processing column: Blade_Width...\n",
      "Processing column: Blade_Extension...\n",
      "Processing column: Thumb...\n",
      "Processing column: Blade_Type...\n",
      "Processing column: Forks...\n",
      "Processing column: Steering_Controls...\n",
      "Processing column: Fi_Base_Model...\n",
      "Processing column: Fi_Secondary_Desc...\n",
      "Processing column: Fi_Model_Descriptor...\n",
      "Processing column: Drive_System...\n",
      "Processing column: Pad_Type...\n",
      "Processing column: Ride_Control...\n",
      "Processing column: Stick...\n",
      "Processing column: Tip_Control...\n",
      "Processing column: Scarifier...\n",
      "Processing column: Coupler_System...\n",
      "Processing column: Grouser_Tracks...\n",
      "Processing column: Hydraulics_Flow...\n",
      "Processing column: Undercarriage_Pad_Width...\n",
      "Processing column: Engine_Horsepower...\n",
      "Processing column: Stick_Length...\n",
      "Processing column: Pattern_Changer...\n",
      "Processing column: Grouser_Type...\n",
      "Processing column: Backhoe_Mounting...\n",
      "Processing column: Travel_Controls...\n",
      "Processing column: Fi_Model_Desc...\n",
      "Processing column: Differential_Type...\n",
      "\n",
      "END OF JOB: validation\n"
     ]
    }
   ],
   "source": [
    "### Build X Valid\n",
    "\n",
    "### reading CSV already in storage to a df\n",
    "X_valid_init = init_df('valid.csv')\n",
    "\n",
    "### Preliminary prepation, NO Cleansing\n",
    "\n",
    "# Naming convensions\n",
    "X_valid_init = rename_columns(X_valid_init)   # use for train & test & validation\n",
    "\n",
    "# Set Index\n",
    "X_valid_init.set_index('Sales_ID', inplace=True)\n",
    "\n",
    "X_valid = logic_build (X_valid_init, mode='validation', df_other=X_train)"
   ]
  },
  {
   "cell_type": "code",
   "execution_count": 299,
   "metadata": {
    "executionInfo": {
     "elapsed": 17,
     "status": "ok",
     "timestamp": 1721372352858,
     "user": {
      "displayName": "Lior Israeli",
      "userId": "03269243767798062339"
     },
     "user_tz": -180
    },
    "id": "ZTrT62EK8kZH"
   },
   "outputs": [],
   "source": [
    "#print (f\"\\n\\n{X_train['Machine_Age_Years'].unique()}\")\n",
    "#print(f\"\\n\\n{X_test['Machine_Age_Years'].unique()}\")\n",
    "#print(f\"\\n\\n{X_valid['Machine_Age_Years'].unique()}\")"
   ]
  },
  {
   "cell_type": "code",
   "execution_count": 300,
   "metadata": {
    "executionInfo": {
     "elapsed": 16,
     "status": "ok",
     "timestamp": 1721372352858,
     "user": {
      "displayName": "Lior Israeli",
      "userId": "03269243767798062339"
     },
     "user_tz": -180
    },
    "id": "sGV7fEC_Lh0J"
   },
   "outputs": [],
   "source": [
    "def print_unique_and_count_negatives(df, label):\n",
    "    unique_values = df['Machine_Age_Years'].unique()\n",
    "    count_negatives = (df['Machine_Age_Years'] < 0).sum()\n",
    "    print(f\"\\n\\n{label} Unique Machine_Age_Years: {unique_values}\")\n",
    "    print(f\"{label} Negative values count: {count_negatives}\")\n",
    "\n",
    "#print_unique_and_count_negatives(X_train, \"X_train\")\n",
    "#print_unique_and_count_negatives(X_test, \"X_test\")\n",
    "#print_unique_and_count_negatives(X_valid, \"X_valid\")"
   ]
  },
  {
   "cell_type": "code",
   "execution_count": 301,
   "metadata": {
    "executionInfo": {
     "elapsed": 16,
     "status": "ok",
     "timestamp": 1721372352858,
     "user": {
      "displayName": "Lior Israeli",
      "userId": "03269243767798062339"
     },
     "user_tz": -180
    },
    "id": "-jEvWnZ13YxJ"
   },
   "outputs": [],
   "source": [
    "# show me distinct values of df['Year_Made']\n",
    "\n",
    "#print (f\"\\n\\n{X_train['Year_Made'].unique()}\")\n",
    "#print(f\"\\n\\n{X_test['Year_Made'].unique()}\")\n",
    "#print(f\"\\n\\n{X_valid['Year_Made'].unique()}\")\n",
    "\n",
    "\n"
   ]
  },
  {
   "cell_type": "markdown",
   "metadata": {
    "id": "E697I2sAfMOF"
   },
   "source": [
    "*Until Here, pass to Guy to put mechanism in his Env. for further tuning & Analysis*"
   ]
  },
  {
   "cell_type": "markdown",
   "metadata": {
    "id": "ep6zYM6a0iYU"
   },
   "source": [
    "#**Building the Model**#"
   ]
  },
  {
   "cell_type": "markdown",
   "metadata": {
    "id": "MFouZmo_0YkK"
   },
   "source": [
    "##**Estimating Regressor Memory**##"
   ]
  },
  {
   "cell_type": "code",
   "execution_count": 302,
   "metadata": {
    "colab": {
     "base_uri": "https://localhost:8080/"
    },
    "executionInfo": {
     "elapsed": 309,
     "status": "ok",
     "timestamp": 1721373315950,
     "user": {
      "displayName": "Lior Israeli",
      "userId": "03269243767798062339"
     },
     "user_tz": -180
    },
    "id": "PXhyWMLG0wGT",
    "outputId": "444fd8f8-a191-4ba6-94ef-b799c63daa0f"
   },
   "outputs": [
    {
     "name": "stdout",
     "output_type": "stream",
     "text": [
      "\n",
      "Estimate the memory usage of a RandomForestRegressor\n",
      "given the input training and test DataFrames and model parameters.\n",
      "Estimated Memory Usage for RandomForest with 65 features: 1331.20 MB\n"
     ]
    }
   ],
   "source": [
    "import pandas as pd\n",
    "\n",
    "def estimate_rf_memory_usage(X_train, X_test, n_estimators, average_depth):\n",
    "    print (f\"\\nEstimate the memory usage of a RandomForestRegressor\")\n",
    "    print (f\"given the input training and test DataFrames and model parameters.\")\n",
    "\n",
    "    \"\"\"\n",
    "    Parameters:\n",
    "    X_train (pd.DataFrame): The training DataFrame.\n",
    "    X_test (pd.DataFrame):  The test DataFrame.\n",
    "    n_estimators (int): The number of trees in the forest.\n",
    "    average_depth (int): The average depth of the trees.\n",
    "\n",
    "    Returns:\n",
    "    float: Estimated memory usage in MB.\n",
    "    \"\"\"\n",
    "    n_features = X_train.shape[1]\n",
    "\n",
    "    # Rough estimate of nodes per level based on average depth\n",
    "    nodes_per_level = 2 ** average_depth  # This is a rough estimate\n",
    "\n",
    "    # Size per node in MB: let's assume it is 1.5 KB per feature for 75 features\n",
    "    # Adjust proportionally based on the number of features\n",
    "    size_per_node_mb = (n_features / 75) * 0.0015\n",
    "\n",
    "    total_memory_mb = n_estimators * average_depth * nodes_per_level * size_per_node_mb\n",
    "    return total_memory_mb\n",
    "\n",
    "# Parameters\n",
    "n_estimators  = 100\n",
    "average_depth = 10\n",
    "\n",
    "# Estimate memory usage\n",
    "estimated_memory_usage = estimate_rf_memory_usage(X_train, X_test, n_estimators, average_depth)\n",
    "print(f\"Estimated Memory Usage for RandomForest with {X_train.shape[1]} features: {estimated_memory_usage:.2f} MB\")\n"
   ]
  },
  {
   "cell_type": "markdown",
   "metadata": {},
   "source": [
    "##**Limit the regressor**##\n",
    "- Rows    == Samples --> X_train_sampeled, y_train_sampeled\n",
    "- y range values     --> y_train_sampeled\n",
    "- Columns == Features"
   ]
  },
  {
   "cell_type": "code",
   "execution_count": 303,
   "metadata": {
    "executionInfo": {
     "elapsed": 306,
     "status": "ok",
     "timestamp": 1721374735194,
     "user": {
      "displayName": "Lior Israeli",
      "userId": "03269243767798062339"
     },
     "user_tz": -180
    },
    "id": "HYyJg_e36qFd"
   },
   "outputs": [],
   "source": [
    "# Create a sample X_train & y_tarin smaller dataset with 50,000 data points\n",
    "\n",
    "# Scale the target variable to be between 4000 and 150000\n",
    "# This normalizes the target variable, which can improve model performance and stability\n",
    "# y_train_sampeled = 4000 + (y_train_sampeled - y_train_sampeled.min()) * (150000 - 4000) / (y_train_sampeled.max() - y_train_sampeled.min())"
   ]
  },
  {
   "cell_type": "code",
   "execution_count": 304,
   "metadata": {
    "executionInfo": {
     "elapsed": 7,
     "status": "aborted",
     "timestamp": 1721372352859,
     "user": {
      "displayName": "Lior Israeli",
      "userId": "03269243767798062339"
     },
     "user_tz": -180
    },
    "id": "BsYxqLjZdMbM"
   },
   "outputs": [
    {
     "name": "stdout",
     "output_type": "stream",
     "text": [
      "Filtered feature list: ['Machine_ID', 'Model_ID', 'Data_Source', 'Auctioneer_ID', 'Year_Made', 'Sale_Date_YYYY', 'Sale_Date_DD', 'Machine_Age_Years', 'Hand_No', 'Machine_Hours_Current_Meter_Log', 'Usage_Band', 'Fi_Base_Model', 'Product_Size', 'State', 'Product_Group', 'Fi_Product_Class_Desc_Part1', 'Fi_Product_Class_Desc_Part2', 'Machine_Hours_Current_Meter_Log-Missing']\n"
     ]
    }
   ],
   "source": [
    "# Define the feature list to play with\n",
    "feature_list = [\n",
    "    \"Machine_ID\",\n",
    "    \"Model_ID\",\n",
    "    \"Data_Source\",\n",
    "    \"Auctioneer_ID\",\n",
    "    \"Year_Made\",\n",
    "    \"Sale_Date_YYYY\",\n",
    "    \"Sale_Date_DD\",\n",
    "    \"Machine_Age_Years\",\n",
    "    \"Hand_No\",\n",
    "    \"Machine_Hours_Current_Meter_Log\",\n",
    "    \"Usage_Band\",\n",
    "    \"Fi_Base_Model\",\n",
    "    \"Product_Size\",\n",
    "    \"State\",\n",
    "    \"Product_Group\",\n",
    "    \"Fi_Product_Class_Desc_Part1\",\n",
    "    \"Fi_Product_Class_Desc_Part2\",\n",
    "    \"Machine_Hours_Current_Meter_Log-Missing\",\n",
    "]\n",
    " \n",
    "# Identify missing columns at the feature list to run the Regressor with\n",
    "missing_columns_train = [col for col in feature_list if col not in X_train.columns]\n",
    "\n",
    "# Remove missing columns, and creating a filtered feature list\n",
    "if missing_columns_train:\n",
    "    print(f\"Columns missing in X_train and X_test: {missing_columns_train}\")\n",
    "    filtered_feature_list = [col for col in feature_list if col not in missing_columns_train]\n",
    "else:\n",
    "    filtered_feature_list = feature_list\n",
    "print(f\"Filtered feature list: {filtered_feature_list}\")\n",
    "\n",
    "# Setting the regressor input Columns\n",
    "filtered_X_train = X_train[filtered_feature_list]\n",
    "filtered_X_test  = X_test[filtered_feature_list]\n",
    "filtered_X_valid = X_valid[filtered_feature_list]"
   ]
  },
  {
   "cell_type": "markdown",
   "metadata": {
    "id": "QJ5oxdllGckC"
   },
   "source": [
    "##**Running the Regressor**##\n",
    "- Setting feature for model\n",
    "- Training on X Train\n",
    "- Predicting on X Test\n",
    "- Predicting on X Valid\n",
    "\n",
    "##**Summary**##\n",
    "On Y axis We can run the regressor on:  \n",
    "- y_train & y_test ------------------> Predicting `Sales_Price`\n",
    "- y_train_log & y_test_log -----> Predicting `Sales_Price_log`\n",
    "\n",
    "##**NOTE!**##\n",
    "On validation we have to remember that if we decided to forecast `Sales_Price_log`,  \n",
    "than the outcome will be logaritmic, and we have to calculate them back to numeric before sending to evaluation!!!"
   ]
  },
  {
   "cell_type": "code",
   "execution_count": 305,
   "metadata": {},
   "outputs": [],
   "source": [
    "# Choosing the model\n",
    "from sklearn.ensemble import RandomForestRegressor\n",
    "from sklearn.metrics import mean_squared_error\n",
    "from sklearn.metrics import mean_squared_log_error\n",
    "from sklearn.metrics import r2_score\n",
    "import numpy as np\n",
    "\n",
    "model = RandomForestRegressor(random_state=42)  # Set random state for reproducibility"
   ]
  },
  {
   "cell_type": "code",
   "execution_count": 306,
   "metadata": {
    "colab": {
     "base_uri": "https://localhost:8080/",
     "height": 211
    },
    "executionInfo": {
     "elapsed": 16,
     "status": "error",
     "timestamp": 1721372352859,
     "user": {
      "displayName": "Lior Israeli",
      "userId": "03269243767798062339"
     },
     "user_tz": -180
    },
    "id": "ZmxZzu3QNs7H",
    "outputId": "f9306768-1950-45e7-b49b-e8ccb1457a57"
   },
   "outputs": [
    {
     "name": "stdout",
     "output_type": "stream",
     "text": [
      "\n",
      "y_train STD: 23264.177156340276\n",
      "y_train pred STD: 14961.108912269043\n",
      "y_train RMSE: 9019.889653738464\n",
      "\n",
      "y_test STD: 23161.084367777003\n",
      "y_test pred STD: 4190.17771318392\n",
      "y_test RMSE: 23979.137905443615\n",
      "\n",
      "y_valid pred STD: 4158.336415427706\n",
      "\n",
      "y_train R^2: 0.8496759254724798\n",
      "y_test R^2: -0.07190249766620505\n"
     ]
    }
   ],
   "source": [
    "# Working on Regular Sales\n",
    "\n",
    "# Training\n",
    "model.fit(filtered_X_train, y_train)\n",
    "y_train_pred = model.predict(filtered_X_train)\n",
    "\n",
    "# Testing\n",
    "y_test_pred = model.predict(filtered_X_test)\n",
    "\n",
    "# Validation\n",
    "y_valid_pred = model.predict(filtered_X_valid)\n",
    "\n",
    "# Measuring Results\n",
    "def RMSE(y, y_pred):\n",
    "    return np.sqrt(mean_squared_error(y, y_pred))\n",
    "\n",
    "# Print the standard deviations and RMSE for training, testing, and validation\n",
    "print(f'\\ny_train STD:', y_train.std())\n",
    "print(f'y_train pred STD:', y_train_pred.std())\n",
    "print(f'y_train RMSE:', RMSE(y_train, y_train_pred))\n",
    "\n",
    "print(f'\\ny_test STD:', y_test.std())\n",
    "print(f'y_test pred STD:', y_test_pred.std())\n",
    "print(f'y_test RMSE:', RMSE(y_test, y_test_pred))\n",
    "\n",
    "print(f'\\ny_valid pred STD:', y_valid_pred.std())\n",
    "\n",
    "# Calculate and print R^2 score\n",
    "r2_train = r2_score(y_train, y_train_pred)\n",
    "r2_test = r2_score(y_test, y_test_pred)\n",
    "\n",
    "print(f'\\ny_train R^2: {r2_train}')\n",
    "print(f'y_test R^2: {r2_test}')\n"
   ]
  },
  {
   "cell_type": "code",
   "execution_count": 307,
   "metadata": {
    "scrolled": true
   },
   "outputs": [
    {
     "name": "stdout",
     "output_type": "stream",
     "text": [
      "\n",
      "Print the standard deviations and RMSLE\n",
      "y_train_log STD: 0.6969379870499853\n",
      "y_train_pred_log STD: 0.44754192104267065\n",
      "y_train RMSLE: 0.024247412783112248\n",
      "\n",
      "y_test_log STD: 0.6975103433553876\n",
      "y_test_pred_log STD: 0.10956676596799171\n",
      "Test RMSLE: 0.06358159996450642\n",
      "\n",
      "y_valid_log pred STD: 0.10244666255038305\n",
      "\n",
      "Print the standard deviations in the original scale\n",
      "y_train STD (original scale): 23264.177156340276\n",
      "y_train pred STD (original scale): 12712.068515486144\n",
      "\n",
      "y_test STD (original scale): 23161.084367777003\n",
      "y_test pred STD (original scale): 2766.7580534177773\n",
      "\n",
      "y_valid pred STD (original scale): 2621.828848811689\n",
      "\n",
      "Calculate and print R^2 score for the log values\n",
      "\n",
      "y_train_log R^2: 0.8512317049252345\n",
      "y_test_log R^2: -0.024435209088720544\n",
      "\n",
      "Calculate and print R^2 score for the original scale\n",
      "\n",
      "y_train_log R^2: 0.7322791578152426\n",
      "y_test_log R^2: -0.08665964291819694\n"
     ]
    }
   ],
   "source": [
    "# Working on Logarithmic Sales\n",
    "# Initialize the model\n",
    "\n",
    "# Initialize the model\n",
    "model = RandomForestRegressor()\n",
    "\n",
    "# Training\n",
    "model.fit(filtered_X_train, y_train_log)\n",
    "y_train_pred_log = model.predict(filtered_X_train)\n",
    "\n",
    "# Testing\n",
    "y_test_pred_log = model.predict(filtered_X_test)\n",
    "\n",
    "# Validation\n",
    "y_valid_pred_log = model.predict(filtered_X_valid)\n",
    "\n",
    "# Measuring Results\n",
    "def RMSLE(y, y_pred):\n",
    "    return np.sqrt(mean_squared_log_error(y, y_pred))\n",
    "\n",
    "# Exponentiate the log predictions and actual values\n",
    "y_train_pred_exp = np.exp(y_train_pred_log)\n",
    "y_test_pred_exp  = np.exp(y_test_pred_log)\n",
    "y_valid_pred_exp = np.exp(y_valid_pred_log)\n",
    "\n",
    "y_train_exp  = np.exp(y_train_log)\n",
    "y_test_exp   = np.exp(y_test_log)\n",
    "y_valid_exp  = np.exp(y_valid_log)\n",
    "\n",
    "print(f'\\nPrint the standard deviations and RMSLE')\n",
    "print(f'y_train_log STD:', y_train_log.std())\n",
    "print(f'y_train_pred_log STD:', y_train_pred_log.std())\n",
    "print(f'Train RMSLE:', RMSLE(y_train_log, y_train_pred_log))\n",
    "\n",
    "print(f'\\ny_test_log STD:', y_test_log.std())\n",
    "print(f'y_test_pred_log STD:', y_test_pred_log.std())\n",
    "print(f'Test RMSLE:', RMSLE(y_test_log, y_test_pred_log))\n",
    "\n",
    "print(f'\\ny_valid_log pred STD:', y_valid_pred_log.std())\n",
    "\n",
    "print(f'\\nPrint the standard deviations in the original scale')\n",
    "print(f'y_train STD (original scale):', y_train_exp.std())\n",
    "print(f'y_train pred STD (original scale):', y_train_pred_exp.std())\n",
    "\n",
    "print(f'\\ny_test STD (original scale):', y_test_exp.std())\n",
    "print(f'y_test pred STD (original scale):', y_test_pred_exp.std())\n",
    "\n",
    "print(f'\\ny_valid pred STD (original scale):', y_valid_pred_exp.std())\n",
    "\n",
    "print(f'\\nCalculate and print R^2 score for the log values')\n",
    "r2_train_log = r2_score(y_train_log, y_train_pred_log)\n",
    "r2_test_log = r2_score(y_test_log, y_test_pred_log)\n",
    "print(f'\\ny_train_log R^2: {r2_train_log}')\n",
    "print(f'y_test_log R^2: {r2_test_log}')\n",
    "\n",
    "print(f'\\nCalculate and print R^2 score for the original scale')\n",
    "r2_train_exp = r2_score(y_train_exp, y_train_pred_exp)\n",
    "r2_test_exp = r2_score(y_test_exp, y_test_pred_exp)\n",
    "print(f'\\ny_train R^2 (original scale): {r2_train_exp}')\n",
    "print(f'y_test R^2 (original scale): {r2_test_exp}')\n",
    "\n"
   ]
  },
  {
   "cell_type": "markdown",
   "metadata": {
    "id": "SXV41tRajsIv"
   },
   "source": [
    "#**Regressor Analysis**#\n",
    "\n",
    "May be used for\n",
    "- Training\n",
    "- Testing\n",
    "- Validation\n"
   ]
  },
  {
   "cell_type": "markdown",
   "metadata": {},
   "source": [
    "###**Choose if we are going to analyse the Real sales or the Log Sales**###\n",
    "\n",
    "- For real values - remain the same\n",
    "- For log values - use log transformation of all y"
   ]
  },
  {
   "cell_type": "code",
   "execution_count": null,
   "metadata": {},
   "outputs": [],
   "source": [
    "# Run this to create charts on logarithmic scale\n",
    "y = y_log\n",
    "y_train = y_train_log\n",
    "y_train_pred = y_train_pred_log\n",
    "\n",
    "y_test = y_test_log\n",
    "y_test_pred = y_test_pred_log\n"
   ]
  },
  {
   "cell_type": "code",
   "execution_count": null,
   "metadata": {
    "executionInfo": {
     "elapsed": 8,
     "status": "aborted",
     "timestamp": 1721372352860,
     "user": {
      "displayName": "Lior Israeli",
      "userId": "03269243767798062339"
     },
     "user_tz": -180
    },
    "id": "F5P15b81h52s"
   },
   "outputs": [],
   "source": [
    "'''\n",
    "Feature importances\n",
    "Feature Importance Chart\n",
    "Purpose: To understand which features are most important in your model's predictions.\n",
    "Chart: Bar Chart\n",
    "Tool: Seaborn or Matplotlib\n",
    "'''\n",
    "importances = model.feature_importances_\n",
    "\n",
    "# Create a DataFrame for the feature importances\n",
    "feature_importances = pd.DataFrame({\n",
    "    'Feature': filtered_X_train.columns,\n",
    "    'Importance': importances\n",
    "})\n",
    "\n",
    "# Sort the DataFrame by importance\n",
    "feature_importances = feature_importances.sort_values(by='Importance', ascending=False)\n",
    "\n",
    "# Plot the feature importances\n",
    "plt.figure(figsize=(10, 6))\n",
    "sns.barplot(x='Importance', y='Feature', data=feature_importances)\n",
    "plt.title('Feature Importances')\n",
    "plt.show()"
   ]
  },
  {
   "cell_type": "code",
   "execution_count": null,
   "metadata": {
    "executionInfo": {
     "elapsed": 8,
     "status": "aborted",
     "timestamp": 1721372352860,
     "user": {
      "displayName": "Lior Israeli",
      "userId": "03269243767798062339"
     },
     "user_tz": -180
    },
    "id": "HeMk0tZWEzrc"
   },
   "outputs": [],
   "source": [
    "## Compute permutation feature importance\n",
    "result = permutation_importance(model, filtered_X_test, y_test, n_repeats=10, random_state=42, n_jobs=-1)\n",
    "\n",
    "## Summarize feature importance\n",
    "feature_importances = pd.DataFrame(result.importances_mean, index=X.columns, columns=['Permutation Importance'])\n",
    "feature_importances['Feature importance'] = model.feature_importances_\n",
    "feature_importances = feature_importances.sort_values(by='Permutation Importance', ascending=False)\n",
    "feature_importances"
   ]
  },
  {
   "cell_type": "code",
   "execution_count": null,
   "metadata": {
    "executionInfo": {
     "elapsed": 8,
     "status": "aborted",
     "timestamp": 1721372352861,
     "user": {
      "displayName": "Lior Israeli",
      "userId": "03269243767798062339"
     },
     "user_tz": -180
    },
    "id": "y_E9jcDZjXyF"
   },
   "outputs": [],
   "source": [
    "'''\n",
    "Distribution Plots\n",
    "Purpose: To visualize the distribution of a single feature.\n",
    "Chart: Histogram or KDE Plot\n",
    "Tool: Seaborn\n",
    "'''\n",
    "plt.figure(figsize=(10, 6))\n",
    "sns.histplot(filtered_X_train['Year_Made'], kde=True)\n",
    "plt.title('Distribution of Year Made')\n",
    "plt.show()"
   ]
  },
  {
   "cell_type": "code",
   "execution_count": null,
   "metadata": {
    "executionInfo": {
     "elapsed": 8,
     "status": "aborted",
     "timestamp": 1721372352861,
     "user": {
      "displayName": "Lior Israeli",
      "userId": "03269243767798062339"
     },
     "user_tz": -180
    },
    "id": "YeomGzQVjW9l"
   },
   "outputs": [],
   "source": [
    "'''\n",
    "Pair Plot\n",
    "Purpose: To visualize relationships between multiple features.\n",
    "Chart: Pair Plot\n",
    "Tool: Seaborn\n",
    "'''\n",
    "sns.pairplot(filtered_X_train)\n",
    "plt.title('Pair Plot of Features')\n",
    "plt.show()"
   ]
  },
  {
   "cell_type": "code",
   "execution_count": null,
   "metadata": {
    "executionInfo": {
     "elapsed": 8,
     "status": "aborted",
     "timestamp": 1721372352861,
     "user": {
      "displayName": "Lior Israeli",
      "userId": "03269243767798062339"
     },
     "user_tz": -180
    },
    "id": "w3yS29RljUKb"
   },
   "outputs": [],
   "source": [
    "'''\n",
    "Box Plot\n",
    "Purpose: To visualize the distribution of a feature and detect outliers.\n",
    "Chart: Box Plot\n",
    "Tool: Seaborn\n",
    "'''\n",
    "plt.figure(figsize=(10, 6))\n",
    "sns.boxplot(x='Product_Size', y='Sale_Price', data=df)\n",
    "plt.title('Box Plot of Product Size vs Sale Price')\n",
    "plt.show()"
   ]
  },
  {
   "cell_type": "code",
   "execution_count": null,
   "metadata": {
    "executionInfo": {
     "elapsed": 8,
     "status": "aborted",
     "timestamp": 1721372352861,
     "user": {
      "displayName": "Lior Israeli",
      "userId": "03269243767798062339"
     },
     "user_tz": -180
    },
    "id": "wjCEKupkjSrf"
   },
   "outputs": [],
   "source": [
    "'''\n",
    "Scatter Plot\n",
    "Purpose: To visualize the relationship between two numerical features.\n",
    "Chart: Scatter Plot\n",
    "Tool: Seaborn or Matplotlib\n",
    "'''\n",
    "plt.figure(figsize=(10, 6))\n",
    "sns.scatterplot(x='Year_Made', y='Sale_Price', data=df)\n",
    "plt.title('Scatter Plot of Year Made vs Sale Price')\n",
    "plt.show()"
   ]
  },
  {
   "cell_type": "code",
   "execution_count": null,
   "metadata": {
    "executionInfo": {
     "elapsed": 8,
     "status": "aborted",
     "timestamp": 1721372352861,
     "user": {
      "displayName": "Lior Israeli",
      "userId": "03269243767798062339"
     },
     "user_tz": -180
    },
    "id": "0nZ79RArjRVm"
   },
   "outputs": [],
   "source": [
    "'''\n",
    "Residual Plot\n",
    "Purpose: To check the residuals (errors) of your model to see if they are randomly distributed.\n",
    "Chart: Residual Plot\n",
    "Tool: Seaborn\n",
    "'''\n",
    "plt.figure(figsize=(10, 6))\n",
    "sns.residplot(x=y_test, y=y_test_pred, lowess=True, line_kws={'color': 'red'})\n",
    "plt.title('Residual Plot')\n",
    "plt.show()"
   ]
  },
  {
   "cell_type": "code",
   "execution_count": null,
   "metadata": {
    "executionInfo": {
     "elapsed": 8,
     "status": "aborted",
     "timestamp": 1721372352861,
     "user": {
      "displayName": "Lior Israeli",
      "userId": "03269243767798062339"
     },
     "user_tz": -180
    },
    "id": "tlOJ3isTi05J"
   },
   "outputs": [],
   "source": [
    "'''\n",
    "Learning Curve\n",
    "Purpose: To visualize the model performance on the training and validation datasets as the number of training samples increases.\n",
    "Chart: Line Plot\n",
    "'''\n",
    "from sklearn.model_selection import learning_curve\n",
    "\n",
    "# Learning curve\n",
    "train_sizes, train_scores, test_scores = learning_curve(model, filtered_X_train, y_train_log, cv=5, n_jobs=-1, scoring='neg_mean_squared_error')\n",
    "\n",
    "# Calculate mean and standard deviation\n",
    "train_scores_mean = np.mean(train_scores, axis=1)\n",
    "train_scores_std = np.std(train_scores, axis=1)\n",
    "test_scores_mean = np.mean(test_scores, axis=1)\n",
    "test_scores_std = np.std(test_scores, axis=1)\n",
    "\n",
    "# Plot learning curve\n",
    "plt.figure(figsize=(10, 6))\n",
    "plt.plot(train_sizes, train_scores_mean, label='Training score', color='r')\n",
    "plt.plot(train_sizes, test_scores_mean, label='Cross-validation score', color='g')\n",
    "\n",
    "plt.fill_between(train_sizes, train_scores_mean - train_scores_std, train_scores_mean + train_scores_std, color='r', alpha=0.1)\n",
    "plt.fill_between(train_sizes, test_scores_mean - test_scores_std, test_scores_mean + test_scores_std, color='g', alpha=0.1)\n",
    "\n",
    "plt.title('Learning Curve')\n",
    "plt.xlabel('Training examples')\n",
    "plt.ylabel('Score')\n",
    "plt.legend(loc='best')\n",
    "plt.show()"
   ]
  },
  {
   "cell_type": "markdown",
   "metadata": {
    "id": "jSo6DzzF2geP"
   },
   "source": [
    "#**Graphical Data Exploratiopn Analysis**#"
   ]
  },
  {
   "cell_type": "code",
   "execution_count": null,
   "metadata": {
    "executionInfo": {
     "elapsed": 8,
     "status": "aborted",
     "timestamp": 1721372352861,
     "user": {
      "displayName": "Lior Israeli",
      "userId": "03269243767798062339"
     },
     "user_tz": -180
    },
    "id": "TeWgEHmSNkvb"
   },
   "outputs": [],
   "source": [
    "# .nuniques()\n",
    "\n",
    "# Count unique values for each column\n",
    "unique_counts = X_train.nunique().sort_values(ascending=False)\n",
    "print(\"Number of unique values in each column:\")\n",
    "print(unique_counts)\n",
    "\n",
    "\n"
   ]
  },
  {
   "cell_type": "code",
   "execution_count": null,
   "metadata": {
    "executionInfo": {
     "elapsed": 8,
     "status": "aborted",
     "timestamp": 1721372352861,
     "user": {
      "displayName": "Lior Israeli",
      "userId": "03269243767798062339"
     },
     "user_tz": -180
    },
    "id": "m3oPY25xE6tY"
   },
   "outputs": [],
   "source": [
    "columns_list = ['Machine_Hours_Current_Meter',\n",
    "                'Usage_Band',\n",
    "                'Fi_Base_Model',\n",
    "                'Fi_Secondary_Desc',\n",
    "                'Fi_Model_Series',\n",
    "                'Fi_Model_Descriptor',\n",
    "                'Product_Size',\n",
    "                'Fi_Product_Class_Desc',\n",
    "                'State',\n",
    "                'Product_Group',\n",
    "                'Drive_System',\n",
    "                'Enclosure',\n",
    "                'Forks',\n",
    "                'Pad_Type',\n",
    "                'Ride_Control',\n",
    "                'Stick',\n",
    "                'Transmission',\n",
    "                'Turbo_Charged',\n",
    "                'Blade_Extension',\n",
    "                'Blade_Width',\n",
    "                'Enclosure_Type',\n",
    "                'Engine_Horsepower',\n",
    "                'Hydraulics',\n",
    "                'Push_Block',\n",
    "                'Ripper',\n",
    "                ]\n",
    "\n",
    "multi_col_stick_plot(X_train, columns_list)\n"
   ]
  },
  {
   "cell_type": "code",
   "execution_count": null,
   "metadata": {
    "executionInfo": {
     "elapsed": 8,
     "status": "aborted",
     "timestamp": 1721372352861,
     "user": {
      "displayName": "Lior Israeli",
      "userId": "03269243767798062339"
     },
     "user_tz": -180
    },
    "id": "SIQlg6Bem_3O"
   },
   "outputs": [],
   "source": [
    "columns_list = ['Scarifier',\n",
    "                'Tip_Control',\n",
    "                'Tire_Size',\n",
    "                'Coupler',\n",
    "                'Coupler_System',\n",
    "                'Grouser_Tracks',\n",
    "                'Hydraulics_Flow',\n",
    "                'Track_Type',\n",
    "                'Undercarriage_Pad_Width',\n",
    "                'Stick_Length',\n",
    "                'Thumb',\n",
    "                'Pattern_Changer',\n",
    "                'Grouser_Type',\n",
    "                'Backhoe_Mounting',\n",
    "                'Blade_Type',\n",
    "                'Travel_Controls',\n",
    "                'Differential_Type',\n",
    "                'Steering_Controls',\n",
    "                'Year_Made',\n",
    "                'Sale_Date_YYYY',\n",
    "                'Sale_Date_MM',\n",
    "                'Sale_Date_DD',\n",
    "               ]\n",
    "multi_col_stick_plot(X_train, columns_list)"
   ]
  },
  {
   "cell_type": "code",
   "execution_count": null,
   "metadata": {
    "executionInfo": {
     "elapsed": 8,
     "status": "aborted",
     "timestamp": 1721372352861,
     "user": {
      "displayName": "Lior Israeli",
      "userId": "03269243767798062339"
     },
     "user_tz": -180
    },
    "id": "yx3j-xofuIsA"
   },
   "outputs": [],
   "source": [
    "# Correlation Matrix\n",
    "\n",
    "# Option 1: sending all DF with all columns\n",
    "columns_list1 = [#'Sale_Price',#\n",
    "                'Machine_ID',\n",
    "                'Model_ID',\n",
    "                'Auctioneer_ID',\n",
    "                'Year_Made',\n",
    "                'Machine_Hours_Current_Meter',\n",
    "                'Usage_Band',\n",
    "                'Sale_Date',\n",
    "                'Fi_Model_Desc',\n",
    "                'Fi_Base_Model',\n",
    "                'Fi_Secondary_Desc',\n",
    "                'Fi_Model_Series',\n",
    "                'Fi_Model_Descriptor',\n",
    "                'Product_Size',\n",
    "                'Fi_Product_Class_Desc',\n",
    "                'Product_Group',\n",
    "                'Product_Group_Desc',\n",
    "                'Drive_System',\n",
    "                'Enclosure',\n",
    "                'Forks',\n",
    "                'Pad_Type',\n",
    "                'Ride_Control',\n",
    "                'Stick',\n",
    "                'Transmission',\n",
    "                'Turbo_Charged',\n",
    "                'Blade_Extension',\n",
    "                'Blade_Width',\n",
    "                'Enclosure_Type',\n",
    "                'Engine_Horsepower',\n",
    "                'Hydraulics',\n",
    "                'Push_Block',\n",
    "                'Ripper',\n",
    "                'Scarifier',\n",
    "                'Tip_Control',\n",
    "                'Tire_Size',\n",
    "                'Coupler',\n",
    "                'Coupler_System',\n",
    "                'Grouser_Tracks',\n",
    "                'Hydraulics_Flow',\n",
    "                'Track_Type',\n",
    "                'Undercarriage_Pad_Width',\n",
    "                'Stick_Length',\n",
    "                'Thumb',\n",
    "                'Pattern_Changer',\n",
    "                'Grouser_Type',\n",
    "                'Backhoe_Mounting',\n",
    "                'Blade_Type',\n",
    "                'Travel_Controls',\n",
    "                'Differential_Type',\n",
    "                'Steering_Controls',\n",
    "                'Machine_Age_Years',\n",
    "                'Sale_Date_YYYYMM',\n",
    "                'Sale_Date_YYYY',\n",
    "                'Sale_Date_MM',\n",
    "                ]\n",
    "# Option 2: only model feature_list\n",
    "corr_matrix_plot (X_train,feature_list)"
   ]
  },
  {
   "cell_type": "markdown",
   "metadata": {},
   "source": [
    "##**Tuning the Regressor Model Hyper parameters**##"
   ]
  },
  {
   "cell_type": "code",
   "execution_count": null,
   "metadata": {
    "colab": {
     "base_uri": "https://localhost:8080/"
    },
    "id": "6OKpZWO23LdK",
    "outputId": "86a1966f-c151-40b3-9e87-55ef05a3c64a"
   },
   "outputs": [],
   "source": [
    "\"\"\"\n",
    "Random Forest Hyperparameter Tuning with GridSearchCV\n",
    "\n",
    "Parameters:\n",
    "- n_estimators: The number of trees in the forest. Common values: [100, 200, 300, 400, 500].\n",
    "    Increasing the number of trees generally improves performance but also increases computational cost.\n",
    "- max_features: The number of features to consider when looking for the best split. Options: ['sqrt', 'log2', None].\n",
    "    'sqrt' is typically a good default for regression tasks.\n",
    "- max_depth: The maximum depth of the tree. Common values: [None, 10, 20, 30, 40, 50].\n",
    "    Limiting the depth can prevent overfitting.\n",
    "- min_samples_split: The minimum number of samples required to split an internal node. Common values: [2, 5, 10].\n",
    "    Increasing this value can make the model more conservative.\n",
    "- min_samples_leaf: The minimum number of samples required to be at a leaf node. Common values: [1, 2, 4].\n",
    "    Increasing this value can smooth the model.\n",
    "- bootstrap: Whether bootstrap samples are used when building trees. Options: [True, False].\n",
    "    Using bootstrap samples can improve the robustness of the model.\n",
    "- criterion: The function to measure the quality of a split. For regression, options are ['squared_error', 'absolute_error'].\n",
    "    'squared_error' is mean squared error, and 'absolute_error' is mean absolute error.\n",
    "\n",
    "This script will:\n",
    "1. Create a sample dataset with 400,000 data points.\n",
    "2. Scale the target variable.\n",
    "3. Split the dataset into training and testing sets.\n",
    "4. Perform feature engineering and imputation on the data.\n",
    "5. Define a parameter grid for the Random Forest model.\n",
    "6. Perform a GridSearchCV to find the best hyperparameters.\n",
    "7. Print the best parameters and the best score.\n",
    "8. Fit the best model on the training data and predict on the test data.\n",
    "9. Calculate and print the standard deviation and RMSE for both training and test datasets.\n",
    "\"\"\"\n",
    "\"\"\"\n",
    "# Define the parameter grid\n",
    "param_grid = {\n",
    "    'n_estimators': [100, 150, 200, 300, 400],\n",
    "    'max_features': ['sqrt', 'log2', None],\n",
    "    'max_depth': [None, 10, 20, 30, 40, 50],\n",
    "    'min_samples_split': [2, 5, 10],\n",
    "    'min_samples_leaf': [1, 2, 4, 8],\n",
    "    'bootstrap': [True, False],\n",
    "    'criterion': ['squared_error', 'absolute_error']  # Updated to correct criteria for regression\n",
    "}\n",
    "\n",
    "# Create a base model\n",
    "rf = RandomForestRegressor()\n",
    "\n",
    "# Instantiate the grid search model\n",
    "grid_search = GridSearchCV(estimator=rf, param_grid=param_grid, cv=3, n_jobs=-1, verbose=2)\n",
    "\n",
    "# Fit the grid search to the data\n",
    "grid_search.fit(X_train_sampeled, y_train_sampeled)\n",
    "\n",
    "# Print the best parameters and best score\n",
    "print(f\"Best model: {grid_search.best_estimator_}\")\n",
    "print(f\"\\nBest parameters found: {grid_search.best_params_}\")\n",
    "print(f\"Best score: {grid_search.best_score_}\")\n",
    "\n",
    "# Fit the best model on the entire training data\n",
    "best_rf = grid_search.best_estimator_\n",
    "best_rf.fit(X_train_sampeled, y_train_sampeled)\n",
    "\n",
    "# Predict on the training data\n",
    "y_train_pred = best_rf.predict(X_train_sampeled)\n",
    "\n",
    "# Predict on the test data\n",
    "y_test_pred = best_rf.predict(X_test)\n",
    "\n",
    "# Calculate standard deviation and RMSE for training data\n",
    "std_train = np.std(y_train_sampeled)\n",
    "rmse_train = np.sqrt(mean_squared_error(y_train_sampeled, y_train_pred))\n",
    "\n",
    "# Calculate standard deviation and RMSE for test data\n",
    "std_test = np.std(y_test)\n",
    "rmse_test = np.sqrt(mean_squared_error(y_test, y_test_pred))\n",
    "\n",
    "print(f\"Train Standard Deviation: {std_train}\")\n",
    "print(f\"Train RMSE: {rmse_train}\")\n",
    "print(f\"Test Standard Deviation: {std_test}\")\n",
    "print(f\"Test RMSE: {rmse_test}\")\n",
    "\"\"\"\n",
    "\n"
   ]
  },
  {
   "cell_type": "markdown",
   "metadata": {
    "id": "gnZDu_a8G0gr"
   },
   "source": [
    "#**Submission**#\n",
    "Creating a CSV file X_Valis `Sale_ID` and `y_pred_valid`\n"
   ]
  },
  {
   "cell_type": "code",
   "execution_count": null,
   "metadata": {
    "executionInfo": {
     "elapsed": 9,
     "status": "aborted",
     "timestamp": 1721372352862,
     "user": {
      "displayName": "Lior Israeli",
      "userId": "03269243767798062339"
     },
     "user_tz": -180
    },
    "id": "zVNUbBV0WcDJ"
   },
   "outputs": [],
   "source": [
    "# Reminder !\n",
    "# Make predictions according to the project's model regressor\n",
    "\n",
    "# filtered_X_valid = X_valid[filtered_feature_list]\n",
    "# y_valid_pred = model.predict(filtered_X_valid)\n",
    "\n",
    "# Backup Xy Valid at submission format:\n",
    "# Sale_ID (index) & y_valid prediced (Sale_Price)\n",
    "X_valid_temp = X_valid.drop(columns=X_valid.columns) # Remain only with Sale_ID index\n",
    "Xy_valid = stich_df_to_list (X_valid_temp, y_valid_pred, \"Sale_Price\")\n",
    "save_df_as_file (Xy_valid, 'Submit')"
   ]
  },
  {
   "cell_type": "markdown",
   "metadata": {},
   "source": [
    "#**Old issues - Recycle bin**#"
   ]
  },
  {
   "cell_type": "code",
   "execution_count": null,
   "metadata": {
    "executionInfo": {
     "elapsed": 8,
     "status": "aborted",
     "timestamp": 1721372352860,
     "user": {
      "displayName": "Lior Israeli",
      "userId": "03269243767798062339"
     },
     "user_tz": -180
    },
    "id": "Vj75uviomQhX"
   },
   "outputs": [],
   "source": [
    "''' From Michael\n",
    "# init Arguments\n",
    "#X_train10 = X_train.copy()\n",
    "#X_test10  = X_test.copy()\n",
    "\n",
    "####\n",
    "\n",
    "X_train10 = X_train10.drop(columns=\n",
    "              ['Machine_ID',\n",
    "               'Auctioneer_ID',\n",
    "               'Backhoe_Mounting',\n",
    "               'Hydraulics',\n",
    "               'Push_Block',\n",
    "               'Ripper',\n",
    "               'Scarifier',\n",
    "               'Tip_Control',\n",
    "               'Tire_Size',\n",
    "               'Coupler_System',\n",
    "               'Grouser_Tracks',\n",
    "               'Hydraulics_Flow',\n",
    "               'Undercarriage_Pad_Width',\n",
    "               'Stick_Length',\n",
    "               'Thumb',\n",
    "               'Pattern_Changer',\n",
    "               'Grouser_Type',\n",
    "               'Sale_Date_YYYY',\n",
    "               'Sale_Date_MM',\n",
    "                               ])\n",
    "\n",
    "X_test10 = X_test10.drop(columns=\n",
    "              ['Machine_ID',\n",
    "               'Auctioneer_ID',\n",
    "               'Backhoe_Mounting',\n",
    "               'Hydraulics',\n",
    "               'Push_Block',\n",
    "               'Ripper',\n",
    "               'Scarifier',\n",
    "               'Tip_Control',\n",
    "               'Tire_Size',\n",
    "               'Coupler_System',\n",
    "               'Grouser_Tracks',\n",
    "               'Hydraulics_Flow',\n",
    "               'Undercarriage_Pad_Width',\n",
    "               'Stick_Length',\n",
    "               'Thumb',\n",
    "               'Pattern_Changer',\n",
    "               'Grouser_Type',\n",
    "               'Sale_Date_YYYY',\n",
    "               'Sale_Date_MM',\n",
    "                               ])\n",
    "\n",
    "\n",
    "\n",
    "# Training\n",
    "# model = RandomForestRegressor()\n",
    "# model.fit(X_train10, y_train)\n",
    "\n",
    "# y_train_pred = model.predict(X_train10)\n",
    "\n",
    "# y_test_pred = model.predict(X_test10)\n",
    "\n",
    "#def RMSE(y, y_pred):\n",
    "#    return np.sqrt(mean_squared_error(y, y_pred))\n",
    "\n",
    "#print(f'Train RMSE:', RMSE(y_train, y_train_pred))\n",
    "#print(f'Test RMSE:', RMSE(y_test, y_test_pred))\n",
    "#print(y_test.std())\n",
    "\n",
    "#X_train10.info()\n",
    "#X_test10.info()\n",
    "\n",
    "#X_train10.describe()\n",
    "#X_test10.descibre()\n",
    "\n",
    "#X_train10.columns()\n",
    "#X_test10.columns()\n",
    "'''\n"
   ]
  },
  {
   "cell_type": "code",
   "execution_count": null,
   "metadata": {
    "executionInfo": {
     "elapsed": 9,
     "status": "aborted",
     "timestamp": 1721372352862,
     "user": {
      "displayName": "Lior Israeli",
      "userId": "03269243767798062339"
     },
     "user_tz": -180
    },
    "id": "wJ9GkS_FxNXH"
   },
   "outputs": [],
   "source": [
    "def explore_machine_hours(df, col, group_cols, mode, df_other):\n",
    "    print(f\"\\nExplore machine hours current meter\")\n",
    "    print(f\"Operation mode: {mode}\")\n",
    "\n",
    "    # 1.1 Create a column Machine_Hours_Current_Meter-Missing set to True if NaN or zero\n",
    "    df['Machine_Hours_Current_Meter-Missing'] = df['Machine_Hours_Current_Meter'].isna() | (df['Machine_Hours_Current_Meter'] == 0)\n",
    "    print(\"\\nAfter creating 'Machine_Hours_Current_Meter-Missing' column:\")\n",
    "    print(df)\n",
    "\n",
    "    # 2.1 Replace the value in Machine_Hours_Current_Meter with -1 if NaN or zero\n",
    "    df['Machine_Hours_Current_Meter'] = df['Machine_Hours_Current_Meter'].replace(np.nan, -1)\n",
    "    df.loc[df['Machine_Hours_Current_Meter'] == 0, 'Machine_Hours_Current_Meter'] = -1\n",
    "    print(\"\\nAfter replacing NaN and zero values with -1 in 'Machine_Hours_Current_Meter':\")\n",
    "    print(df)\n",
    "\n",
    "    # 2.2.1 Replace -1 with NaN in Machine_Hours_Current_Meter\n",
    "    df['Machine_Hours_Current_Meter'].replace(-1, np.nan, inplace=True)\n",
    "\n",
    "    # 2.2.2 Impute NaN values in Machine_Hours_Current_Meter by grouped mean\n",
    "    for col in group_cols:\n",
    "        group_means = df.groupby(col)['Machine_Hours_Current_Meter'].transform('mean')\n",
    "        df['Machine_Hours_Current_Meter'].fillna(group_means, inplace=True)\n",
    "    df['Machine_Hours_Current_Meter'].fillna(df['Machine_Hours_Current_Meter'].mean(), inplace=True)\n",
    "\n",
    "    print(\"\\nAfter imputing NaN values in 'Machine_Hours_Current_Meter':\")\n",
    "    print(df)\n",
    "\n",
    "    # 3.1 Create a new column Machine_Hours_Current_Meter_Log based on Machine_Hours_Current_Meter\n",
    "    df['Machine_Hours_Current_Meter_Log'] = df['Machine_Hours_Current_Meter'].apply(\n",
    "        lambda x: np.log(x) if (pd.notna(x) and x > 0) else -1\n",
    "    )\n",
    "    print(\"\\nAfter creating 'Machine_Hours_Current_Meter_Log' column:\")\n",
    "    print(df)\n",
    "\n",
    "    # 4.2.1 Replace -1 with NaN in Machine_Hours_Current_Meter_Log\n",
    "    df['Machine_Hours_Current_Meter_Log'].replace(-1, np.nan, inplace=True)\n",
    "\n",
    "    # 4.3 Impute NaN values in Machine_Hours_Current_Meter_Log by grouped mean\n",
    "    for col in group_cols:\n",
    "        group_means_log = df.groupby(col)['Machine_Hours_Current_Meter_Log'].transform('mean')\n",
    "        df['Machine_Hours_Current_Meter_Log'].fillna(group_means_log, inplace=True)\n",
    "    df['Machine_Hours_Current_Meter_Log'].fillna(df['Machine_Hours_Current_Meter_Log'].mean(), inplace=True)\n",
    "\n",
    "\n",
    "    print(\"\\nAfter imputing remaining NaN values with global mean:\")\n",
    "    print(df)\n",
    "\n",
    "    # Plot histograms\n",
    "    plt.figure(figsize=(14, 6))\n",
    "\n",
    "    # Histogram for Machine_Hours_Current_Meter\n",
    "    plt.subplot(1, 2, 1)\n",
    "    df['Machine_Hours_Current_Meter'].plot(kind='hist', bins=10, color='blue', edgecolor='black')\n",
    "    plt.title('Histogram of Machine_Hours_Current_Meter')\n",
    "    plt.xlabel('Machine_Hours_Current_Meter')\n",
    "    plt.ylabel('Frequency')\n",
    "\n",
    "    # Histogram for Machine_Hours_Current_Meter_Log\n",
    "    plt.subplot(1, 2, 2)\n",
    "    df['Machine_Hours_Current_Meter_Log'].plot(kind='hist', bins=10, color='green', edgecolor='black')\n",
    "    plt.title('Histogram of Machine_Hours_Current_Meter_Log')\n",
    "    plt.xlabel('Machine_Hours_Current_Meter_Log')\n",
    "    plt.ylabel('Frequency')\n",
    "\n",
    "    plt.tight_layout()\n",
    "    plt.show()\n",
    "\n",
    "# Example usage\n",
    "sample_data = {\n",
    "    'Machine_Hours_Current_Meter': [100, 0, np.nan, 400, 500, 600, 10, np.nan, 0, 1000, 2000, 2000],\n",
    "    'Base_Model': ['A', 'A', 'B', 'B', 'A', 'A', 'B', 'B', 'A', 'A', 'B', 'B']\n",
    "}\n",
    "df_sample = pd.DataFrame(sample_data)\n",
    "\n",
    "explore_machine_hours(df_sample, 'Machine_Hours_Current_Meter', ['Base_Model'], 'example_mode', None)\n"
   ]
  },
  {
   "cell_type": "code",
   "execution_count": null,
   "metadata": {
    "executionInfo": {
     "elapsed": 138610,
     "status": "aborted",
     "timestamp": 1721372352863,
     "user": {
      "displayName": "Lior Israeli",
      "userId": "03269243767798062339"
     },
     "user_tz": -180
    },
    "id": "e9Ada7ftvsEh"
   },
   "outputs": [],
   "source": [
    "# Function to replace NaN values based on the most frequent value within groups\n",
    "\n",
    "def replace_nan_old1 (df, target_col, group_cols, mode, df_other):\n",
    "    print(f\"\\nReplace NaN values based on the most frequent value within groups\")\n",
    "    print(f\"Operation mode: {mode}\")\n",
    "\n",
    "    default_text = 'None or Unspecified'\n",
    "\n",
    "    if mode == 'train':\n",
    "      # Find the most frequent value within each group in the training data\n",
    "      most_frequent = df.groupby(group_cols)[target_col].apply(lambda x: x.mode().iloc[0] if not x.mode().empty else default_text)\n",
    "\n",
    "    else:  # test or validation\n",
    "      if df_other is None:\n",
    "        raise ValueError(\"df_other must be provided in test or validation mode\")\n",
    "      else:\n",
    "        # Find the most frequent value within each group in the training data\n",
    "        most_frequent = df_other.groupby(group_cols)[target_col].apply(lambda x: x.mode().iloc[0] if not x.mode().empty else default_text)\n",
    "\n",
    "      # Count of rows processed\n",
    "      rows_with_nan = df[target_col].isna().sum()\n",
    "      print(f\"Number of rows with NaN values in '{target_col}': {rows_with_nan}\")\n",
    "\n",
    "    # Define a function to fill NaN values based on the most frequent value in the group\n",
    "    def fill_na(row):\n",
    "        # Create a tuple from the group columns to match the index in most_frequent\n",
    "        group_values = tuple(row[col] for col in group_cols)\n",
    "        if pd.isna(row[target_col]):\n",
    "            return most_frequent[group_values]\n",
    "        return row[target_col]\n",
    "\n",
    "    # Apply the function to fill NaN values\n",
    "    df[target_col] = df.apply(fill_na, axis=1)\n",
    "\n",
    "    # Count of rows processed\n",
    "    rows_processed = df.shape[0]\n",
    "    print(f\"Number of rows processed: {rows_processed}\")\n",
    "\n",
    "    return (df)"
   ]
  },
  {
   "cell_type": "code",
   "execution_count": null,
   "metadata": {
    "executionInfo": {
     "elapsed": 138609,
     "status": "aborted",
     "timestamp": 1721372352863,
     "user": {
      "displayName": "Lior Israeli",
      "userId": "03269243767798062339"
     },
     "user_tz": -180
    },
    "id": "u_Fu2bakWX19"
   },
   "outputs": [],
   "source": [
    "# Function to replace NaN values based on the most frequent value within groups\n",
    "# Replace Numeric Nan by group hierarchy - Working\n",
    "\n",
    "import pandas as pd\n",
    "import numpy as np\n",
    "from sklearn.base import BaseEstimator, TransformerMixin\n",
    "from sklearn.impute import SimpleImputer\n",
    "from sklearn.pipeline import Pipeline\n",
    "from sklearn.compose import ColumnTransformer\n",
    "\n",
    "class HierarchicalGroupImputer(BaseEstimator, TransformerMixin):\n",
    "    def __init__(self, group_cols, target_col):\n",
    "        self.group_cols = group_cols\n",
    "        self.target_col = target_col\n",
    "        self.group_modes = {}\n",
    "\n",
    "    def fit(self, X, y=None):\n",
    "        df = pd.DataFrame(X, columns=self.group_cols + [self.target_col])\n",
    "        for i in range(len(self.group_cols), 0, -1):\n",
    "            current_group_cols = self.group_cols[:i]\n",
    "            current_modes = df.groupby(current_group_cols)[self.target_col].agg(\n",
    "                lambda x: x.mean() if not x.empty else np.nan\n",
    "            )\n",
    "            self.group_modes[i] = current_modes.to_dict()\n",
    "        return self\n",
    "\n",
    "    def transform(self, X):\n",
    "        df = pd.DataFrame(X, columns=self.group_cols + [self.target_col])\n",
    "        result = df.copy()\n",
    "\n",
    "        def impute_hierarchical(row):\n",
    "            for i in range(len(self.group_cols), 0, -1):\n",
    "                current_group_cols = self.group_cols[:i]\n",
    "                group_key = tuple(row[col] for col in current_group_cols)\n",
    "                if group_key in self.group_modes[i]:\n",
    "                    return self.group_modes[i][group_key]\n",
    "            return np.nan\n",
    "\n",
    "        mask = result[self.target_col].isna()\n",
    "        result.loc[mask, self.target_col] = result[mask].apply(impute_hierarchical, axis=1)\n",
    "        return result.values\n",
    "\n",
    "def replace_numeric_nan_mean(df, target_col, group_cols, mode, df_other=None):\n",
    "    print(f\"\\nImpute missing values in the target column based on the group columns\")\n",
    "    print(f\"Operation mode: {mode}\")\n",
    "\n",
    "    X = df[group_cols + [target_col]].copy()\n",
    "\n",
    "    if mode == 'train':\n",
    "        imputer = Pipeline([\n",
    "            ('hierarchical', HierarchicalGroupImputer(group_cols, target_col)),\n",
    "            ('simple', SimpleImputer(strategy='most_frequent'))\n",
    "        ])\n",
    "    else:  # test or validation\n",
    "        if df_other is None:\n",
    "            raise ValueError(\"df_other must be provided in test or validation mode\")\n",
    "\n",
    "        X_train = df_other[group_cols + [target_col]].copy()\n",
    "        imputer = Pipeline([\n",
    "            ('hierarchical', HierarchicalGroupImputer(group_cols, target_col)),\n",
    "            ('simple', SimpleImputer(strategy='most_frequent'))\n",
    "        ])\n",
    "        imputer.fit(X_train)\n",
    "\n",
    "    # Count of rows with NaN values before imputation\n",
    "    rows_with_nan_before = X[target_col].isna().sum()\n",
    "    print(f\"Number of rows with NaN values in '{target_col}' before imputation: {rows_with_nan_before}\")\n",
    "\n",
    "    # Perform imputation\n",
    "    X_imputed = imputer.fit_transform(X) if mode == 'train' else imputer.transform(X)\n",
    "\n",
    "    # Update only the target column in the original dataframe\n",
    "    df[target_col] = X_imputed[:, -1]\n",
    "\n",
    "    # Count of rows with NaN values after imputation\n",
    "    rows_with_nan_after = df[target_col].isna().sum()\n",
    "    print(f\"Number of rows with NaN values in '{target_col}' after imputation: {rows_with_nan_after}\")\n",
    "\n",
    "    # Count of rows processed\n",
    "    rows_processed = df.shape[0]\n",
    "    print(f\"Number of rows processed: {rows_processed}\")\n",
    "\n",
    "    return df\n"
   ]
  }
 ],
 "metadata": {
  "colab": {
   "provenance": []
  },
  "kernelspec": {
   "display_name": "Python 3 (ipykernel)",
   "language": "python",
   "name": "python3"
  },
  "language_info": {
   "codemirror_mode": {
    "name": "ipython",
    "version": 3
   },
   "file_extension": ".py",
   "mimetype": "text/x-python",
   "name": "python",
   "nbconvert_exporter": "python",
   "pygments_lexer": "ipython3",
   "version": "3.11.9"
  }
 },
 "nbformat": 4,
 "nbformat_minor": 4
}
